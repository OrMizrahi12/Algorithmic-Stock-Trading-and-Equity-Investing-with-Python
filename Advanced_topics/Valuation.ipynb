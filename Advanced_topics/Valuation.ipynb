{
 "cells": [
  {
   "cell_type": "markdown",
   "id": "a409ee3f",
   "metadata": {},
   "source": [
    "# Valuation Concepts"
   ]
  },
  {
   "cell_type": "markdown",
   "metadata": {},
   "source": [
    "---"
   ]
  },
  {
   "cell_type": "markdown",
   "id": "6c5276cd",
   "metadata": {},
   "source": [
    "# Dividend Discount Models (DDM)\n",
    "\n",
    "> __Dividend Discount Models (DDM) are valuation methods used to estimate the intrinsic value of a stock by focusing on its future dividend payments. The basic idea behind DDM is that the value of a stock is the present value of all its future dividend payments. Investors use DDM to assess whether a stock is overvalued, undervalued, or fairly valued.__"
   ]
  },
  {
   "cell_type": "code",
   "execution_count": 1,
   "id": "7adf9ab1",
   "metadata": {},
   "outputs": [],
   "source": [
    "import pandas as pd\n",
    "import numpy as np\n",
    "import matplotlib.pyplot as plt\n",
    "import yfinance as yf\n",
    "from yahooquery import Ticker \n",
    "plt.style.use(\"seaborn-v0_8\")"
   ]
  },
  {
   "cell_type": "code",
   "execution_count": 2,
   "id": "06bcdcd9",
   "metadata": {},
   "outputs": [],
   "source": [
    "symbol = \"AAPL\""
   ]
  },
  {
   "cell_type": "code",
   "execution_count": 3,
   "id": "7b0a84b8",
   "metadata": {},
   "outputs": [],
   "source": [
    "tickeryf = yf.Ticker(symbol) # yfinance"
   ]
  },
  {
   "cell_type": "code",
   "execution_count": 4,
   "id": "caaec93e",
   "metadata": {},
   "outputs": [],
   "source": [
    "tickeryq = Ticker(symbol) # yahooquery"
   ]
  },
  {
   "cell_type": "code",
   "execution_count": 5,
   "id": "d24687c1",
   "metadata": {},
   "outputs": [],
   "source": [
    "n = 5"
   ]
  },
  {
   "cell_type": "code",
   "execution_count": 6,
   "id": "68b9bd5e",
   "metadata": {},
   "outputs": [
    {
     "data": {
      "text/plain": [
       "Date\n",
       "2019-12-31 00:00:00-05:00    0.760\n",
       "2020-12-31 00:00:00-05:00    0.646\n",
       "2021-12-31 00:00:00-05:00    0.865\n",
       "2022-12-31 00:00:00-05:00    0.910\n",
       "2023-12-31 00:00:00-05:00    0.950\n",
       "Freq: A-DEC, Name: Dividends, dtype: float64"
      ]
     },
     "execution_count": 6,
     "metadata": {},
     "output_type": "execute_result"
    }
   ],
   "source": [
    "# Get last 5 years Dividend patments \n",
    "# Give me the mean() Dividend patments for each year mul(4) (4 qarter = year.)\n",
    "dividends = tickeryf.actions.Dividends.resample(\"Y\").mean().mul(4).tail(n)\n",
    "dividends"
   ]
  },
  {
   "cell_type": "markdown",
   "id": "6d536715",
   "metadata": {},
   "source": [
    "__Gordon Growth Model (GGM)__"
   ]
  },
  {
   "attachments": {
    "image.png": {
     "image/png": "[encoded data removed]"
    }
   },
   "cell_type": "markdown",
   "id": "7e1f6a55",
   "metadata": {},
   "source": [
    "![image.png](attachment:image.png)"
   ]
  },
  {
   "cell_type": "markdown",
   "id": "b3249efc",
   "metadata": {},
   "source": [
    "__D1__"
   ]
  },
  {
   "cell_type": "code",
   "execution_count": 7,
   "id": "e787a0f7",
   "metadata": {},
   "outputs": [
    {
     "name": "stderr",
     "output_type": "stream",
     "text": [
      "C:\\Users\\97250\\AppData\\Local\\Temp\\ipykernel_8620\\2937777404.py:2: FutureWarning: Series.__getitem__ treating keys as positions is deprecated. In a future version, integer keys will always be treated as labels (consistent with DataFrame behavior). To access a value by position, use `ser.iloc[pos]`\n",
      "  d0 = dividends[-1]\n"
     ]
    },
    {
     "data": {
      "text/plain": [
       "0.95"
      ]
     },
     "execution_count": 7,
     "metadata": {},
     "output_type": "execute_result"
    }
   ],
   "source": [
    "# extract the last dividend payment\n",
    "d0 = dividends[-1]\n",
    "d0"
   ]
  },
  {
   "cell_type": "code",
   "execution_count": 8,
   "id": "eca58646",
   "metadata": {},
   "outputs": [
    {
     "name": "stderr",
     "output_type": "stream",
     "text": [
      "C:\\Users\\97250\\AppData\\Local\\Temp\\ipykernel_8620\\3840648913.py:5: FutureWarning: Series.__getitem__ treating keys as positions is deprecated. In a future version, integer keys will always be treated as labels (consistent with DataFrame behavior). To access a value by position, use `ser.iloc[pos]`\n",
      "  past_growth = (dividends[-1] / dividends[0])**(1/(n-1)) - 1\n"
     ]
    },
    {
     "data": {
      "text/plain": [
       "0.05737126344056409"
      ]
     },
     "execution_count": 8,
     "metadata": {},
     "output_type": "execute_result"
    }
   ],
   "source": [
    "# Compute: average dividend growth rate n years\n",
    "\n",
    "# For calculate the dividents growth rate, we do this:\n",
    "# (most recent dividend / most fewer dividend)** 1/years - 1 \n",
    "past_growth = (dividends[-1] / dividends[0])**(1/(n-1)) - 1\n",
    "\n",
    "# This is the avarage dividends growth rate in the last 5 years. \n",
    "# 0.057 -> its growth in 5.7% over the last 5 years... \n",
    "past_growth"
   ]
  },
  {
   "cell_type": "code",
   "execution_count": 9,
   "id": "ae94463b",
   "metadata": {},
   "outputs": [
    {
     "data": {
      "text/plain": [
       "1.0045027002685358"
      ]
     },
     "execution_count": 9,
     "metadata": {},
     "output_type": "execute_result"
    }
   ],
   "source": [
    "# next dividend (forecast)\n",
    "# forcast the NEXT dividend payment, we can calculate this:\n",
    "\n",
    "# most recent dividend * 1 + growth rate  \n",
    "d1 =  d0 * (1 + past_growth)\n",
    "d1\n",
    "\n",
    "# E.g \n",
    "# most recent dividend: 0.95\n",
    "# dividend growth rate: 0.057\n",
    "# The next dividend (forcast):\n",
    "# 0.95 * (1 + 0.057) = 1.004149"
   ]
  },
  {
   "cell_type": "markdown",
   "id": "ed53856f",
   "metadata": {},
   "source": [
    "__g__"
   ]
  },
  {
   "cell_type": "code",
   "execution_count": 10,
   "id": "6484e48e",
   "metadata": {},
   "outputs": [
    {
     "data": {
      "text/plain": [
       "0.05737126344056409"
      ]
     },
     "execution_count": 10,
     "metadata": {},
     "output_type": "execute_result"
    }
   ],
   "source": [
    "past_growth"
   ]
  },
  {
   "cell_type": "code",
   "execution_count": 11,
   "id": "5731054d",
   "metadata": {},
   "outputs": [
    {
     "data": {
      "text/plain": [
       "{'maxAge': 1,\n",
       " 'priceHint': 2,\n",
       " 'enterpriseValue': 2936523456512,\n",
       " 'forwardPE': 25.810057,\n",
       " 'profitMargins': 0.25305998,\n",
       " 'floatShares': 15535177390,\n",
       " 'sharesOutstanding': 15552799744,\n",
       " 'sharesShort': 98190963,\n",
       " 'sharesShortPriorMonth': 94725628,\n",
       " 'sharesShortPreviousMonthDate': '2023-09-29 03:00:00',\n",
       " 'dateShortInterest': '2023-10-31 02:00:00',\n",
       " 'sharesPercentSharesOut': 0.0063,\n",
       " 'heldPercentInsiders': 0.00071999995,\n",
       " 'heldPercentInstitutions': 0.61317,\n",
       " 'shortRatio': 1.84,\n",
       " 'shortPercentOfFloat': 0.0063,\n",
       " 'beta': 1.305,\n",
       " 'impliedSharesOutstanding': 15552799744,\n",
       " 'category': None,\n",
       " 'bookValue': 3.997,\n",
       " 'priceToBook': 46.234676,\n",
       " 'fundFamily': None,\n",
       " 'legalType': None,\n",
       " 'lastFiscalYearEnd': '2023-09-30 03:00:00',\n",
       " 'nextFiscalYearEnd': '2024-09-30 03:00:00',\n",
       " 'mostRecentQuarter': '2023-09-30 03:00:00',\n",
       " 'earningsQuarterlyGrowth': 0.108,\n",
       " 'netIncomeToCommon': 96995000320,\n",
       " 'trailingEps': 6.14,\n",
       " 'forwardEps': 7.16,\n",
       " 'pegRatio': 4.63,\n",
       " 'lastSplitFactor': '4:1',\n",
       " 'lastSplitDate': '2020-08-31 03:00:00',\n",
       " 'enterpriseToRevenue': 7.661,\n",
       " 'enterpriseToEbitda': 23.339,\n",
       " '52WeekChange': 0.23167157,\n",
       " 'SandP52WeekChange': 0.105172396,\n",
       " 'lastDividendValue': 0.24,\n",
       " 'lastDividendDate': 1699574400}"
      ]
     },
     "execution_count": 11,
     "metadata": {},
     "output_type": "execute_result"
    }
   ],
   "source": [
    "# Take lot's of statistics reperts for AAPL stock :)\n",
    "info = tickeryq.key_stats[symbol]\n",
    "info"
   ]
  },
  {
   "cell_type": "code",
   "execution_count": 12,
   "id": "f41013f4",
   "metadata": {},
   "outputs": [
    {
     "data": {
      "text/plain": [
       "0.05574526349892009"
      ]
     },
     "execution_count": 12,
     "metadata": {},
     "output_type": "execute_result"
    }
   ],
   "source": [
    "# long-term earnings growth (forecast)\n",
    "ear_growth = (info[\"forwardPE\"] /info[\"pegRatio\"]) / 100\n",
    "ear_growth"
   ]
  },
  {
   "cell_type": "markdown",
   "id": "6b445b8e",
   "metadata": {},
   "source": [
    "__r (CAPM)__"
   ]
  },
  {
   "cell_type": "code",
   "execution_count": 13,
   "id": "decc2694",
   "metadata": {},
   "outputs": [
    {
     "data": {
      "text/plain": [
       "1.305"
      ]
     },
     "execution_count": 13,
     "metadata": {},
     "output_type": "execute_result"
    }
   ],
   "source": [
    "# beta\n",
    "beta = info[\"beta\"]\n",
    "beta"
   ]
  },
  {
   "cell_type": "code",
   "execution_count": 14,
   "id": "3ff4fd7f",
   "metadata": {},
   "outputs": [
    {
     "name": "stdout",
     "output_type": "stream",
     "text": [
      "[*********************100%%**********************]  1 of 1 completed\n"
     ]
    },
    {
     "data": {
      "text/plain": [
       "0.05259999752044678"
      ]
     },
     "execution_count": 14,
     "metadata": {},
     "output_type": "execute_result"
    }
   ],
   "source": [
    "# risk-free return\n",
    "rfr = yf.download(tickers = \"^IRX\").Close.dropna().iloc[-1] / 100 #13 Week US Treasury Bill\n",
    "rfr"
   ]
  },
  {
   "cell_type": "markdown",
   "id": "5730d592",
   "metadata": {},
   "source": [
    "https://pages.stern.nyu.edu/~adamodar/New_Home_Page/datafile/ctryprem.html"
   ]
  },
  {
   "cell_type": "code",
   "execution_count": 15,
   "id": "36b407eb",
   "metadata": {},
   "outputs": [],
   "source": [
    "url = \"https://pages.stern.nyu.edu/~adamodar/New_Home_Page/datafile/ctryprem.html\""
   ]
  },
  {
   "cell_type": "code",
   "execution_count": 16,
   "metadata": {},
   "outputs": [
    {
     "name": "stderr",
     "output_type": "stream",
     "text": [
      "c:\\Users\\97250\\Desktop\\sample_project_1\\env\\Lib\\site-packages\\urllib3\\connectionpool.py:1045: InsecureRequestWarning: Unverified HTTPS request is being made to host 'pages.stern.nyu.edu'. Adding certificate verification is strongly advised. See: https://urllib3.readthedocs.io/en/1.26.x/advanced-usage.html#ssl-warnings\n",
      "  warnings.warn(\n"
     ]
    }
   ],
   "source": [
    "import pandas as pd\n",
    "import requests\n",
    "from io import StringIO\n",
    "\n",
    "url = \"https://pages.stern.nyu.edu/~adamodar/New_Home_Page/datafile/ctryprem.html\"\n",
    "\n",
    "# Make an HTTP GET request with SSL verification turned off\n",
    "response = requests.get(url, verify=False)\n",
    "\n",
    "# Check if the request was successful (status code 200)\n",
    "if response.status_code == 200:\n",
    "    # Read the HTML content into a DataFrame\n",
    "    df = pd.read_html(StringIO(response.text), header=[0], index_col=[0])[0]\n",
    "else:\n",
    "    print(f\"Failed to retrieve data. Status code: {response.status_code}\")"
   ]
  },
  {
   "cell_type": "code",
   "execution_count": 17,
   "id": "5bc81be2",
   "metadata": {},
   "outputs": [
    {
     "data": {
      "text/html": [
       "<div>\n",
       "<style scoped>\n",
       "    .dataframe tbody tr th:only-of-type {\n",
       "        vertical-align: middle;\n",
       "    }\n",
       "\n",
       "    .dataframe tbody tr th {\n",
       "        vertical-align: top;\n",
       "    }\n",
       "\n",
       "    .dataframe thead th {\n",
       "        text-align: right;\n",
       "    }\n",
       "</style>\n",
       "<table border=\"1\" class=\"dataframe\">\n",
       "  <thead>\n",
       "    <tr style=\"text-align: right;\">\n",
       "      <th></th>\n",
       "      <th>Moody's rating</th>\n",
       "      <th>Default Spread</th>\n",
       "      <th>Country Risk  Premium</th>\n",
       "      <th>Equity Risk  Premium</th>\n",
       "      <th>Corporate Tax  Rate</th>\n",
       "    </tr>\n",
       "    <tr>\n",
       "      <th>Country</th>\n",
       "      <th></th>\n",
       "      <th></th>\n",
       "      <th></th>\n",
       "      <th></th>\n",
       "      <th></th>\n",
       "    </tr>\n",
       "  </thead>\n",
       "  <tbody>\n",
       "    <tr>\n",
       "      <th>Abu Dhabi</th>\n",
       "      <td>Aa2</td>\n",
       "      <td>0.53%</td>\n",
       "      <td>0.75%</td>\n",
       "      <td>5.75%</td>\n",
       "      <td>15.00%</td>\n",
       "    </tr>\n",
       "    <tr>\n",
       "      <th>Albania</th>\n",
       "      <td>B1</td>\n",
       "      <td>4.82%</td>\n",
       "      <td>6.83%</td>\n",
       "      <td>11.83%</td>\n",
       "      <td>15.00%</td>\n",
       "    </tr>\n",
       "    <tr>\n",
       "      <th>Algeria</th>\n",
       "      <td>NR</td>\n",
       "      <td>3.85%</td>\n",
       "      <td>5.46%</td>\n",
       "      <td>10.46%</td>\n",
       "      <td>26.00%</td>\n",
       "    </tr>\n",
       "    <tr>\n",
       "      <th>Andorra  (Principality of)</th>\n",
       "      <td>Baa2</td>\n",
       "      <td>2.04%</td>\n",
       "      <td>2.89%</td>\n",
       "      <td>7.89%</td>\n",
       "      <td>18.98%</td>\n",
       "    </tr>\n",
       "    <tr>\n",
       "      <th>Angola</th>\n",
       "      <td>B3</td>\n",
       "      <td>6.95%</td>\n",
       "      <td>9.86%</td>\n",
       "      <td>14.86%</td>\n",
       "      <td>25.00%</td>\n",
       "    </tr>\n",
       "    <tr>\n",
       "      <th>...</th>\n",
       "      <td>...</td>\n",
       "      <td>...</td>\n",
       "      <td>...</td>\n",
       "      <td>...</td>\n",
       "      <td>...</td>\n",
       "    </tr>\n",
       "    <tr>\n",
       "      <th>Venezuela</th>\n",
       "      <td>C</td>\n",
       "      <td>17.50%</td>\n",
       "      <td>24.82%</td>\n",
       "      <td>29.82%</td>\n",
       "      <td>34.00%</td>\n",
       "    </tr>\n",
       "    <tr>\n",
       "      <th>Vietnam</th>\n",
       "      <td>Ba2</td>\n",
       "      <td>3.22%</td>\n",
       "      <td>4.57%</td>\n",
       "      <td>9.57%</td>\n",
       "      <td>20.00%</td>\n",
       "    </tr>\n",
       "    <tr>\n",
       "      <th>Yemen,  Republic</th>\n",
       "      <td>NR</td>\n",
       "      <td>10.70%</td>\n",
       "      <td>15.18%</td>\n",
       "      <td>20.18%</td>\n",
       "      <td>20.00%</td>\n",
       "    </tr>\n",
       "    <tr>\n",
       "      <th>Zambia</th>\n",
       "      <td>Ca</td>\n",
       "      <td>12.84%</td>\n",
       "      <td>18.21%</td>\n",
       "      <td>23.21%</td>\n",
       "      <td>35.00%</td>\n",
       "    </tr>\n",
       "    <tr>\n",
       "      <th>Zimbabwe</th>\n",
       "      <td>NR</td>\n",
       "      <td>8.02%</td>\n",
       "      <td>11.38%</td>\n",
       "      <td>16.38%</td>\n",
       "      <td>25.00%</td>\n",
       "    </tr>\n",
       "  </tbody>\n",
       "</table>\n",
       "<p>177 rows × 5 columns</p>\n",
       "</div>"
      ],
      "text/plain": [
       "                           Moody's rating Default Spread  \\\n",
       "Country                                                    \n",
       "Abu Dhabi                             Aa2          0.53%   \n",
       "Albania                                B1          4.82%   \n",
       "Algeria                                NR          3.85%   \n",
       "Andorra  (Principality of)           Baa2          2.04%   \n",
       "Angola                                 B3          6.95%   \n",
       "...                                   ...            ...   \n",
       "Venezuela                               C         17.50%   \n",
       "Vietnam                               Ba2          3.22%   \n",
       "Yemen,  Republic                       NR         10.70%   \n",
       "Zambia                                 Ca         12.84%   \n",
       "Zimbabwe                               NR          8.02%   \n",
       "\n",
       "                           Country Risk  Premium Equity Risk  Premium  \\\n",
       "Country                                                                 \n",
       "Abu Dhabi                                  0.75%                5.75%   \n",
       "Albania                                    6.83%               11.83%   \n",
       "Algeria                                    5.46%               10.46%   \n",
       "Andorra  (Principality of)                 2.89%                7.89%   \n",
       "Angola                                     9.86%               14.86%   \n",
       "...                                          ...                  ...   \n",
       "Venezuela                                 24.82%               29.82%   \n",
       "Vietnam                                    4.57%                9.57%   \n",
       "Yemen,  Republic                          15.18%               20.18%   \n",
       "Zambia                                    18.21%               23.21%   \n",
       "Zimbabwe                                  11.38%               16.38%   \n",
       "\n",
       "                           Corporate Tax  Rate  \n",
       "Country                                         \n",
       "Abu Dhabi                               15.00%  \n",
       "Albania                                 15.00%  \n",
       "Algeria                                 26.00%  \n",
       "Andorra  (Principality of)              18.98%  \n",
       "Angola                                  25.00%  \n",
       "...                                        ...  \n",
       "Venezuela                               34.00%  \n",
       "Vietnam                                 20.00%  \n",
       "Yemen,  Republic                        20.00%  \n",
       "Zambia                                  35.00%  \n",
       "Zimbabwe                                25.00%  \n",
       "\n",
       "[177 rows x 5 columns]"
      ]
     },
     "execution_count": 17,
     "metadata": {},
     "output_type": "execute_result"
    }
   ],
   "source": [
    "df"
   ]
  },
  {
   "cell_type": "markdown",
   "metadata": {},
   "source": [
    "$\\text{Risk Premium=Expected Return on Investment−Risk-Free Rate}$"
   ]
  },
  {
   "cell_type": "code",
   "execution_count": 18,
   "id": "a7c8a2cb",
   "metadata": {},
   "outputs": [
    {
     "data": {
      "text/plain": [
       "0.05"
      ]
     },
     "execution_count": 18,
     "metadata": {},
     "output_type": "execute_result"
    }
   ],
   "source": [
    "# expected market risk premium\n",
    "# take the Equity Risk  Premium of United States. \n",
    "# / 100 -> for get precents\n",
    "erp = float(df.loc[\"United States\", \"Equity Risk  Premium\"].split(\"%\")[0]) / 100\n",
    "erp\n",
    "\n",
    "# 0.05 -> 5% expected market risk premuim"
   ]
  },
  {
   "cell_type": "code",
   "execution_count": 19,
   "id": "53e760a4",
   "metadata": {},
   "outputs": [
    {
     "data": {
      "text/plain": [
       "0.11784999752044678"
      ]
     },
     "execution_count": 19,
     "metadata": {},
     "output_type": "execute_result"
    }
   ],
   "source": [
    "# expected return (CAPM)\n",
    "# risk free rate + market risk premium * beta of the instrument= expected return\n",
    "exp_ret = rfr + (erp) * beta\n",
    "exp_ret\n",
    "\n",
    "# 0.1178 -> expected return from AAPL of 11.7%"
   ]
  },
  {
   "cell_type": "markdown",
   "metadata": {},
   "source": [
    "After we calculate the **`D`, `g`, `r`**,\n",
    "\n",
    "__Calculate the fair value__ (Gordon Growth Model (GGM))"
   ]
  },
  {
   "cell_type": "code",
   "execution_count": 20,
   "id": "4df824dd",
   "metadata": {},
   "outputs": [
    {
     "data": {
      "text/plain": [
       "16.174333826473774"
      ]
     },
     "execution_count": 20,
     "metadata": {},
     "output_type": "execute_result"
    }
   ],
   "source": [
    "# Calculate the fair value of one share.\n",
    "value = d1 / (exp_ret - ear_growth)\n",
    "value"
   ]
  },
  {
   "cell_type": "code",
   "execution_count": 21,
   "id": "ecb75cbb",
   "metadata": {},
   "outputs": [
    {
     "data": {
      "text/plain": [
       "16.60918859415525"
      ]
     },
     "execution_count": 21,
     "metadata": {},
     "output_type": "execute_result"
    }
   ],
   "source": [
    "value = d1 / (exp_ret - past_growth)\n",
    "value"
   ]
  },
  {
   "cell_type": "code",
   "execution_count": 22,
   "id": "37d1f1a2",
   "metadata": {},
   "outputs": [
    {
     "data": {
      "text/plain": [
       "184.8"
      ]
     },
     "execution_count": 22,
     "metadata": {},
     "output_type": "execute_result"
    }
   ],
   "source": [
    "current_price = tickeryq.price[symbol][\"regularMarketPrice\"] # yahooquery\n",
    "current_price"
   ]
  },
  {
   "cell_type": "markdown",
   "id": "eb11208b",
   "metadata": {},
   "source": [
    "__-> AAPL overvalued? Not necessarily. DDMs are very input-sensitive (to be analyzed in more detail)__"
   ]
  },
  {
   "cell_type": "markdown",
   "metadata": {},
   "source": [
    "---"
   ]
  },
  {
   "cell_type": "markdown",
   "id": "66bd84a0",
   "metadata": {},
   "source": [
    "# DDM - verification of results & critical review\n",
    "\n",
    "> __By calculating the implied growth or the implied return, we are in a position to verify the current price and either justify the current price or challenge the current price.__"
   ]
  },
  {
   "attachments": {
    "image.png": {
     "image/png": "[encoded data removed]"
    }
   },
   "cell_type": "markdown",
   "id": "0e03caf3",
   "metadata": {},
   "source": [
    "![image.png](attachment:image.png)"
   ]
  },
  {
   "cell_type": "markdown",
   "id": "4464e6fa",
   "metadata": {},
   "source": [
    "__Two possible reasons why DDMs unterestimate true Value: (among others)__ "
   ]
  },
  {
   "cell_type": "markdown",
   "id": "54fd2ddd",
   "metadata": {},
   "source": [
    "__1) assumed long-term growth rate is understated__ \n",
    "\n",
    "> We could replace the value by the current price and then resolve the formula here for the implied growth rate."
   ]
  },
  {
   "cell_type": "code",
   "execution_count": 23,
   "id": "ef9748e1",
   "metadata": {},
   "outputs": [
    {
     "data": {
      "text/plain": [
       "0.11241437684799799"
      ]
     },
     "execution_count": 23,
     "metadata": {},
     "output_type": "execute_result"
    }
   ],
   "source": [
    "# implied growth rate\n",
    "# Expected growth =\n",
    "# = expected return of AAPL - most recent Dividnd paymat of AAPL / current price of AAPL \n",
    "impl_growth = exp_ret - d1 / current_price\n",
    "impl_growth\n",
    "\n",
    "# This is the expected growth"
   ]
  },
  {
   "cell_type": "markdown",
   "id": "c18b59ad",
   "metadata": {},
   "source": [
    "__2) assumed required return is overstated__"
   ]
  },
  {
   "cell_type": "code",
   "execution_count": 24,
   "id": "cb49f976",
   "metadata": {},
   "outputs": [
    {
     "data": {
      "text/plain": [
       "0.061180884171368875"
      ]
     },
     "execution_count": 24,
     "metadata": {},
     "output_type": "execute_result"
    }
   ],
   "source": [
    "# implied required return\n",
    "impl_return = d1 / current_price + ear_growth\n",
    "impl_return"
   ]
  },
  {
   "cell_type": "markdown",
   "id": "92f75066",
   "metadata": {},
   "source": [
    "__three potential reasons why r (srock return based of CAPM) is overstated__"
   ]
  },
  {
   "cell_type": "code",
   "execution_count": 25,
   "id": "490daa5d",
   "metadata": {},
   "outputs": [
    {
     "name": "stdout",
     "output_type": "stream",
     "text": [
      "[*********************100%%**********************]  1 of 1 completed\n"
     ]
    },
    {
     "data": {
      "image/png": "[encoded data removed]",
      "text/plain": [
       "<Figure size 1200x800 with 1 Axes>"
      ]
     },
     "metadata": {},
     "output_type": "display_data"
    }
   ],
   "source": [
    "# 1. rfr is too high\n",
    "yf.download(tickers = \"^IRX\").Close.plot(figsize = (12, 8))\n",
    "plt.show()"
   ]
  },
  {
   "cell_type": "markdown",
   "id": "65816671",
   "metadata": {},
   "source": [
    "__rfr currently above long-term rate (energy crisis, inflation) -> overstated__"
   ]
  },
  {
   "cell_type": "code",
   "execution_count": 26,
   "id": "bdbf06a4",
   "metadata": {},
   "outputs": [],
   "source": [
    "rfr = 0.02"
   ]
  },
  {
   "cell_type": "markdown",
   "id": "71d57c53",
   "metadata": {},
   "source": [
    "__Adjusting beta for beta drift (beta tend to move back to 1 acc. to Blume)__"
   ]
  },
  {
   "cell_type": "code",
   "execution_count": 27,
   "id": "5b86a429",
   "metadata": {},
   "outputs": [
    {
     "data": {
      "text/plain": [
       "1.20435"
      ]
     },
     "execution_count": 27,
     "metadata": {},
     "output_type": "execute_result"
    }
   ],
   "source": [
    "# 2. beta is overstated -> use adjusted beta\n",
    "adj_beta = beta * 0.67 + 1 * 0.33\n",
    "adj_beta"
   ]
  },
  {
   "cell_type": "code",
   "execution_count": 28,
   "id": "83339027",
   "metadata": {},
   "outputs": [],
   "source": [
    "# 3. expected market risk premium is too high\n",
    "erp = 0.055"
   ]
  },
  {
   "cell_type": "code",
   "execution_count": 29,
   "id": "599468ed",
   "metadata": {},
   "outputs": [
    {
     "data": {
      "text/plain": [
       "0.08623925"
      ]
     },
     "execution_count": 29,
     "metadata": {},
     "output_type": "execute_result"
    }
   ],
   "source": [
    "# expected return (CAPM)\n",
    "exp_ret = rfr + (erp) * adj_beta\n",
    "exp_ret"
   ]
  },
  {
   "cell_type": "code",
   "execution_count": 30,
   "id": "4b1a6822",
   "metadata": {},
   "outputs": [
    {
     "data": {
      "text/plain": [
       "0.061180884171368875"
      ]
     },
     "execution_count": 30,
     "metadata": {},
     "output_type": "execute_result"
    }
   ],
   "source": [
    "impl_return"
   ]
  },
  {
   "cell_type": "code",
   "execution_count": 31,
   "id": "5ce92d61",
   "metadata": {},
   "outputs": [
    {
     "data": {
      "text/plain": [
       "0.08080362932755122"
      ]
     },
     "execution_count": 31,
     "metadata": {},
     "output_type": "execute_result"
    }
   ],
   "source": [
    "impl_growth = exp_ret - d1 / current_price\n",
    "impl_growth"
   ]
  },
  {
   "cell_type": "code",
   "execution_count": 32,
   "id": "8ffb0919",
   "metadata": {},
   "outputs": [
    {
     "data": {
      "text/plain": [
       "184.80000000000027"
      ]
     },
     "execution_count": 32,
     "metadata": {},
     "output_type": "execute_result"
    }
   ],
   "source": [
    "# Now re compute the fair value\n",
    "# more realistic!\n",
    "value = d1 / (exp_ret - impl_growth)\n",
    "value"
   ]
  },
  {
   "cell_type": "code",
   "execution_count": 33,
   "id": "2aeb16d4",
   "metadata": {},
   "outputs": [
    {
     "data": {
      "text/plain": [
       "184.8"
      ]
     },
     "execution_count": 33,
     "metadata": {},
     "output_type": "execute_result"
    }
   ],
   "source": [
    "current_price"
   ]
  },
  {
   "cell_type": "markdown",
   "id": "6cb194a3",
   "metadata": {},
   "source": [
    "__DDM - final Considerations:__\n",
    "- not exact science\n",
    "- highly sensitive to `r (expexted return based on CAPM)` and `g (growth rate)`\n",
    "- can be used to critically verify/justify/challenge current price (implied growth/return)\n",
    "- can´t be used for companies with no history of dividend payments\n",
    "- can´t be used for companies with no clear dividend payout strategy\n",
    "- meaningful only if dividends are related to earnings.\n",
    "- should be used in combination with other valuation methods"
   ]
  },
  {
   "cell_type": "markdown",
   "metadata": {},
   "source": [
    "---"
   ]
  },
  {
   "cell_type": "markdown",
   "id": "6f3b3715",
   "metadata": {},
   "source": [
    "# Price Multiples - Overview and Calculation\n",
    "\n",
    "> __With price multiples and multiples valuation and actually price multiples are among the most widely used tools for equity valuation because the computation is pretty simple and the data requirements are rather low and multiples valuation is based on the law of one price.__"
   ]
  },
  {
   "cell_type": "markdown",
   "id": "42327526",
   "metadata": {},
   "source": [
    "- Price Multiples are among the __most widely used__ tools for equity valuation\n",
    "- Law of one Price -> Two __similar stocks__ should sell at __comparable price multiples__ (e.g. price-to-book)\n",
    "- Valuation relative to a __peer group__"
   ]
  },
  {
   "cell_type": "code",
   "execution_count": 34,
   "id": "e358ef63",
   "metadata": {},
   "outputs": [],
   "source": [
    "import pandas as pd\n",
    "import numpy as np\n",
    "import matplotlib.pyplot as plt\n",
    "import yfinance as yf\n",
    "from yahooquery import Ticker\n",
    "plt.style.use(\"seaborn-v0_8\")"
   ]
  },
  {
   "cell_type": "code",
   "execution_count": 35,
   "id": "5a57f9c3",
   "metadata": {},
   "outputs": [],
   "source": [
    "symbol = \"MSFT\""
   ]
  },
  {
   "cell_type": "code",
   "execution_count": 36,
   "id": "fae3f90e",
   "metadata": {},
   "outputs": [],
   "source": [
    "tickeryq = Ticker(symbol) # yahooquery"
   ]
  },
  {
   "cell_type": "markdown",
   "id": "63a28c49",
   "metadata": {},
   "source": [
    "__Current Price (fairly valued?)__"
   ]
  },
  {
   "cell_type": "code",
   "execution_count": 37,
   "id": "1c3ecfe6",
   "metadata": {},
   "outputs": [
    {
     "data": {
      "text/plain": [
       "366.68"
      ]
     },
     "execution_count": 37,
     "metadata": {},
     "output_type": "execute_result"
    }
   ],
   "source": [
    "current_price = tickeryq.price[symbol][\"regularMarketPrice\"] # yahooquery\n",
    "current_price"
   ]
  },
  {
   "cell_type": "markdown",
   "id": "43a04c63",
   "metadata": {},
   "source": [
    "__Price-to-Earnings Ratio (P/E)__"
   ]
  },
  {
   "cell_type": "markdown",
   "id": "d49010e4",
   "metadata": {},
   "source": [
    "- Current Price divided by Earnings per Share\n",
    "- Earnings Power (generating profits) is the primary determinant of investment value\n",
    "- very popular\n",
    "- meaningless if Earnings are negative\n",
    "- Earnings are volatile\n",
    "- Earnings can be manipulated by the management (discretion within allowed accounting practices)\n",
    "- trailing P/E (past Earnings) vs. leading P/E (Earnings forecast)"
   ]
  },
  {
   "cell_type": "markdown",
   "metadata": {},
   "source": [
    "__trailingPE (Trailing Price-to-Earnings Ratio):__\n",
    "> __represents the ratio of a company's current stock price to its earnings per share (EPS) over the past 12 months.__\n",
    "\n",
    "> __It's a valuation metric that helps investors assess how the market values a company's past earnings performance.__\n",
    "\n",
    "$ \\text{Forward PE} = \\frac{\\text{Current Stock Price}}{\\text{Earnings per Share over the Last 12 Months}}$"
   ]
  },
  {
   "cell_type": "code",
   "execution_count": 38,
   "id": "726108e9",
   "metadata": {},
   "outputs": [
    {
     "data": {
      "text/plain": [
       "35.6"
      ]
     },
     "execution_count": 38,
     "metadata": {},
     "output_type": "execute_result"
    }
   ],
   "source": [
    "# Get the Price-to-Earnings Ratio (P/E)\n",
    "trailingPE = tickeryq.summary_detail[symbol][\"trailingPE\"] # yahooquery\n",
    "trailingPE"
   ]
  },
  {
   "cell_type": "markdown",
   "metadata": {},
   "source": [
    "__forwardPE (Forward Price-to-Earnings Ratio):__\n",
    "\n",
    "> __is similar to trailing PE, but it uses estimated future earnings instead of past earnings.__\n",
    "\n",
    "> __It provides a valuation based on expected future earnings rather than historical performance.__\n",
    "\n",
    "$ \\text{Forward PE} = \\frac{\\text{Current Stock Price}}{\\text{Estimated Future Earnings per Share}}$"
   ]
  },
  {
   "cell_type": "code",
   "execution_count": 39,
   "id": "7cd71250",
   "metadata": {},
   "outputs": [
    {
     "data": {
      "text/plain": [
       "28.33694"
      ]
     },
     "execution_count": 39,
     "metadata": {},
     "output_type": "execute_result"
    }
   ],
   "source": [
    "forwardPE = tickeryq.key_stats[symbol][\"forwardPE\"] # yahooquery\n",
    "forwardPE"
   ]
  },
  {
   "cell_type": "markdown",
   "metadata": {},
   "source": [
    "__Earnings Calculation:__\n",
    "\n",
    "> is calculated based on the forward PE ratio. It represents the estimated earnings for each share, given the current stock price and the forward PE ratio."
   ]
  },
  {
   "cell_type": "code",
   "execution_count": 40,
   "id": "4dfd9b4e",
   "metadata": {},
   "outputs": [
    {
     "data": {
      "text/plain": [
       "12.93999987295735"
      ]
     },
     "execution_count": 40,
     "metadata": {},
     "output_type": "execute_result"
    }
   ],
   "source": [
    "earnings = current_price / forwardPE # underlying financial factor\n",
    "earnings"
   ]
  },
  {
   "cell_type": "code",
   "execution_count": 41,
   "id": "bdcf2202",
   "metadata": {},
   "outputs": [
    {
     "data": {
      "text/plain": [
       "12.94"
      ]
     },
     "execution_count": 41,
     "metadata": {},
     "output_type": "execute_result"
    }
   ],
   "source": [
    "tickeryq.key_stats[symbol][\"forwardEps\"] # yahooquery"
   ]
  },
  {
   "cell_type": "markdown",
   "id": "5e050220",
   "metadata": {},
   "source": [
    "- __Higher P/E justified with higher Earnings growth!__\n",
    "- __P/E-to-growth ratio (PEG) takes into account growth as well!__"
   ]
  },
  {
   "cell_type": "code",
   "execution_count": 42,
   "id": "c786b79e",
   "metadata": {},
   "outputs": [
    {
     "data": {
      "text/plain": [
       "2.03"
      ]
     },
     "execution_count": 42,
     "metadata": {},
     "output_type": "execute_result"
    }
   ],
   "source": [
    "peg = tickeryq.key_stats[symbol][\"pegRatio\"] #yahooquery\n",
    "peg"
   ]
  },
  {
   "cell_type": "markdown",
   "metadata": {},
   "source": [
    "> __the PEG ratio (Price/Earnings to Growth ratio) is a valuation metric that takes into account both the company's earnings growth and its price-to-earnings (P/E) ratio__\n",
    "\n",
    "- This calculation provides a simplified measure of how the stock's valuation compares to its expected earnings growth. __A PEG ratio around 1__ is often considered indicative of fair value, with __values below 1__ suggesting potentially undervalued stocks and __values above 1__ suggesting potentially overvalued stocks. However, like any financial metric, it's important to interpret the PEG ratio in the context of other factors and industry benchmarks."
   ]
  },
  {
   "cell_type": "code",
   "execution_count": 43,
   "id": "2cc761e7",
   "metadata": {},
   "outputs": [
    {
     "data": {
      "text/plain": [
       "13.959083743842365"
      ]
     },
     "execution_count": 43,
     "metadata": {},
     "output_type": "execute_result"
    }
   ],
   "source": [
    "growth = forwardPE / peg # 10.2% implied earnings growth rate\n",
    "growth"
   ]
  },
  {
   "cell_type": "markdown",
   "id": "b27efce7",
   "metadata": {},
   "source": [
    "__Price-to-Book Ratio (P/B)__"
   ]
  },
  {
   "cell_type": "markdown",
   "id": "7af31f26",
   "metadata": {},
   "source": [
    "- Current Price divided by Book Value of Equity (per share)\n",
    "- Typically positive -> can be used even when the Earnings are negative\n",
    "- BV more stable than Earnings\n",
    "- BV does not reflect intangible assets, outsourcing, etc. "
   ]
  },
  {
   "cell_type": "code",
   "execution_count": 44,
   "id": "a309a9ea",
   "metadata": {},
   "outputs": [
    {
     "data": {
      "text/plain": [
       "12.345297"
      ]
     },
     "execution_count": 44,
     "metadata": {},
     "output_type": "execute_result"
    }
   ],
   "source": [
    "pricetobook = tickeryq.key_stats[symbol][\"priceToBook\"] # yahooquery\n",
    "pricetobook"
   ]
  },
  {
   "cell_type": "markdown",
   "metadata": {},
   "source": [
    "> __this is the current price divided by total sales or total revenue is per share.__"
   ]
  },
  {
   "cell_type": "code",
   "execution_count": 45,
   "id": "6ac913e0",
   "metadata": {},
   "outputs": [
    {
     "data": {
      "text/plain": [
       "29.70199906895719"
      ]
     },
     "execution_count": 45,
     "metadata": {},
     "output_type": "execute_result"
    }
   ],
   "source": [
    "# underlying financial factor\n",
    "book = current_price / pricetobook \n",
    "book"
   ]
  },
  {
   "cell_type": "code",
   "execution_count": 46,
   "id": "c6e5ad7c",
   "metadata": {},
   "outputs": [
    {
     "data": {
      "text/plain": [
       "29.702"
      ]
     },
     "execution_count": 46,
     "metadata": {},
     "output_type": "execute_result"
    }
   ],
   "source": [
    "tickeryq.key_stats[symbol][\"bookValue\"] # yahooquery"
   ]
  },
  {
   "cell_type": "markdown",
   "id": "3e06c43e",
   "metadata": {},
   "source": [
    "__Price-to-Sales Ratio (P/S)__"
   ]
  },
  {
   "cell_type": "markdown",
   "id": "66276a27",
   "metadata": {},
   "source": [
    "- Current Price divided by Sales/Revenue (per share)\n",
    "- meaningful even if Earnings and Book Value are close to zero or negative\n",
    "- Sales not as volatile as earnings\n",
    "- does not capture differences in cost structure and financing structure (debt/equity)"
   ]
  },
  {
   "cell_type": "code",
   "execution_count": 47,
   "id": "968ce099",
   "metadata": {},
   "outputs": [
    {
     "data": {
      "text/plain": [
       "29.347"
      ]
     },
     "execution_count": 47,
     "metadata": {},
     "output_type": "execute_result"
    }
   ],
   "source": [
    "sales = tickeryq.financial_data[symbol][\"revenuePerShare\"]  # yahooquery\n",
    "sales"
   ]
  },
  {
   "cell_type": "code",
   "execution_count": 48,
   "id": "b7e771ed",
   "metadata": {},
   "outputs": [
    {
     "data": {
      "text/plain": [
       "12.494633182267352"
      ]
     },
     "execution_count": 48,
     "metadata": {},
     "output_type": "execute_result"
    }
   ],
   "source": [
    "pricetosales = current_price / tickeryq.financial_data[symbol][\"revenuePerShare\"] # yahooquery\n",
    "pricetosales"
   ]
  },
  {
   "cell_type": "markdown",
   "id": "8f8938a5",
   "metadata": {},
   "source": [
    "__Price-to-Cashflow__"
   ]
  },
  {
   "cell_type": "markdown",
   "id": "e8e95c8f",
   "metadata": {},
   "source": [
    "- Current Price divided by Operating Cashflow (per share)\n",
    "- Cashflows less volatile than Earnings\n",
    "- Cashflows less dependent on accounting policies\n",
    "- meaningless if Cashflows are negative"
   ]
  },
  {
   "cell_type": "code",
   "execution_count": 49,
   "id": "42dedf77",
   "metadata": {},
   "outputs": [
    {
     "data": {
      "text/plain": [
       "12.777674054102425"
      ]
     },
     "execution_count": 49,
     "metadata": {},
     "output_type": "execute_result"
    }
   ],
   "source": [
    "cashflow = tickeryq.financial_data[symbol][\"operatingCashflow\"] / tickeryq.key_stats[symbol][\"sharesOutstanding\"] # yahooquery\n",
    "cashflow"
   ]
  },
  {
   "cell_type": "code",
   "execution_count": 50,
   "id": "29212cec",
   "metadata": {},
   "outputs": [
    {
     "data": {
      "text/plain": [
       "28.6969285996361"
      ]
     },
     "execution_count": 50,
     "metadata": {},
     "output_type": "execute_result"
    }
   ],
   "source": [
    "pricetocashflow = current_price / cashflow # multiple\n",
    "pricetocashflow"
   ]
  },
  {
   "cell_type": "markdown",
   "id": "c40b88f5",
   "metadata": {},
   "source": [
    "__Dividend Yield__"
   ]
  },
  {
   "cell_type": "markdown",
   "id": "f964a615",
   "metadata": {},
   "source": [
    "- Last (annual) Dividend divided by Current Price\n",
    "- only applicable for dividend paying stocks\n",
    "- Direct benefit to Shareholders"
   ]
  },
  {
   "cell_type": "code",
   "execution_count": 51,
   "id": "90244012",
   "metadata": {},
   "outputs": [
    {
     "data": {
      "text/plain": [
       "0.0082"
      ]
     },
     "execution_count": 51,
     "metadata": {},
     "output_type": "execute_result"
    }
   ],
   "source": [
    "dividendyield = tickeryq.summary_detail[symbol][\"dividendYield\"] #yahooquery\n",
    "dividendyield"
   ]
  },
  {
   "cell_type": "code",
   "execution_count": 52,
   "id": "96df7049",
   "metadata": {},
   "outputs": [
    {
     "data": {
      "text/plain": [
       "3.0067760000000003"
      ]
     },
     "execution_count": 52,
     "metadata": {},
     "output_type": "execute_result"
    }
   ],
   "source": [
    "div = dividendyield * current_price\n",
    "div"
   ]
  },
  {
   "cell_type": "markdown",
   "id": "8e8892e4",
   "metadata": {},
   "source": [
    "- There is no perfect/best price Multiple\n",
    "- There are pros and cons for all Multiples\n",
    "- Multiples should be used and analyzed together"
   ]
  },
  {
   "cell_type": "markdown",
   "metadata": {},
   "source": [
    "---"
   ]
  },
  {
   "cell_type": "markdown",
   "id": "fb331eb3",
   "metadata": {},
   "source": [
    "# Peer Group / Comparables"
   ]
  },
  {
   "cell_type": "markdown",
   "id": "6395f8a9",
   "metadata": {},
   "source": [
    "- Law of one Price -> Two __similar stocks__ should sell at __comparable price multiples__ (e.g. price-to-book)\n",
    "- This requires an appropriate __peer group__ (5-50 comparable companies)"
   ]
  },
  {
   "cell_type": "code",
   "execution_count": 53,
   "id": "2440c705",
   "metadata": {},
   "outputs": [
    {
     "data": {
      "text/html": [
       "<div>\n",
       "<style scoped>\n",
       "    .dataframe tbody tr th:only-of-type {\n",
       "        vertical-align: middle;\n",
       "    }\n",
       "\n",
       "    .dataframe tbody tr th {\n",
       "        vertical-align: top;\n",
       "    }\n",
       "\n",
       "    .dataframe thead th {\n",
       "        text-align: right;\n",
       "    }\n",
       "</style>\n",
       "<table border=\"1\" class=\"dataframe\">\n",
       "  <thead>\n",
       "    <tr style=\"text-align: right;\">\n",
       "      <th></th>\n",
       "      <th>Name</th>\n",
       "      <th>Last Sale</th>\n",
       "      <th>Net Change</th>\n",
       "      <th>% Change</th>\n",
       "      <th>Market Cap</th>\n",
       "      <th>Country</th>\n",
       "      <th>IPO Year</th>\n",
       "      <th>Volume</th>\n",
       "      <th>Sector</th>\n",
       "      <th>Industry</th>\n",
       "    </tr>\n",
       "    <tr>\n",
       "      <th>Symbol</th>\n",
       "      <th></th>\n",
       "      <th></th>\n",
       "      <th></th>\n",
       "      <th></th>\n",
       "      <th></th>\n",
       "      <th></th>\n",
       "      <th></th>\n",
       "      <th></th>\n",
       "      <th></th>\n",
       "      <th></th>\n",
       "    </tr>\n",
       "  </thead>\n",
       "  <tbody>\n",
       "    <tr>\n",
       "      <th>A</th>\n",
       "      <td>Agilent Technologies Inc. Common Stock</td>\n",
       "      <td>$156.86</td>\n",
       "      <td>11.7200</td>\n",
       "      <td>8.08%</td>\n",
       "      <td>4.643692e+10</td>\n",
       "      <td>United States</td>\n",
       "      <td>1999.0</td>\n",
       "      <td>3512521</td>\n",
       "      <td>Industrials</td>\n",
       "      <td>Electrical Products</td>\n",
       "    </tr>\n",
       "    <tr>\n",
       "      <th>AA</th>\n",
       "      <td>Alcoa Corporation Common Stock</td>\n",
       "      <td>$49.36</td>\n",
       "      <td>2.7300</td>\n",
       "      <td>5.86%</td>\n",
       "      <td>8.733618e+09</td>\n",
       "      <td>NaN</td>\n",
       "      <td>2016.0</td>\n",
       "      <td>5592225</td>\n",
       "      <td>Industrials</td>\n",
       "      <td>Metal Fabrications</td>\n",
       "    </tr>\n",
       "    <tr>\n",
       "      <th>AAC</th>\n",
       "      <td>Ares Acquisition Corporation Class A Ordinary ...</td>\n",
       "      <td>$10.005</td>\n",
       "      <td>0.0050</td>\n",
       "      <td>0.05%</td>\n",
       "      <td>1.250625e+09</td>\n",
       "      <td>NaN</td>\n",
       "      <td>2021.0</td>\n",
       "      <td>11399</td>\n",
       "      <td>Finance</td>\n",
       "      <td>Business Services</td>\n",
       "    </tr>\n",
       "    <tr>\n",
       "      <th>AACG</th>\n",
       "      <td>ATA Creativity Global American Depositary Shares</td>\n",
       "      <td>$1.68</td>\n",
       "      <td>-0.0200</td>\n",
       "      <td>-1.18%</td>\n",
       "      <td>5.271323e+07</td>\n",
       "      <td>China</td>\n",
       "      <td>2008.0</td>\n",
       "      <td>601</td>\n",
       "      <td>Consumer Discretionary</td>\n",
       "      <td>Service to the Health Industry</td>\n",
       "    </tr>\n",
       "    <tr>\n",
       "      <th>AACI</th>\n",
       "      <td>Armada Acquisition Corp. I Common Stock</td>\n",
       "      <td>$9.985</td>\n",
       "      <td>0.0150</td>\n",
       "      <td>0.15%</td>\n",
       "      <td>2.067844e+08</td>\n",
       "      <td>United States</td>\n",
       "      <td>2021.0</td>\n",
       "      <td>83731</td>\n",
       "      <td>Industrials</td>\n",
       "      <td>Consumer Electronics/Appliances</td>\n",
       "    </tr>\n",
       "    <tr>\n",
       "      <th>...</th>\n",
       "      <td>...</td>\n",
       "      <td>...</td>\n",
       "      <td>...</td>\n",
       "      <td>...</td>\n",
       "      <td>...</td>\n",
       "      <td>...</td>\n",
       "      <td>...</td>\n",
       "      <td>...</td>\n",
       "      <td>...</td>\n",
       "      <td>...</td>\n",
       "    </tr>\n",
       "    <tr>\n",
       "      <th>ZWRKW</th>\n",
       "      <td>Z-Work Acquisition Corp. Warrant</td>\n",
       "      <td>$0.0005</td>\n",
       "      <td>-0.0006</td>\n",
       "      <td>-54.55%</td>\n",
       "      <td>0.000000e+00</td>\n",
       "      <td>United States</td>\n",
       "      <td>2021.0</td>\n",
       "      <td>2014</td>\n",
       "      <td>Industrials</td>\n",
       "      <td>Consumer Electronics/Appliances</td>\n",
       "    </tr>\n",
       "    <tr>\n",
       "      <th>ZWS</th>\n",
       "      <td>Zurn Elkay Water Solutions Corporation Common ...</td>\n",
       "      <td>$24.86</td>\n",
       "      <td>1.0000</td>\n",
       "      <td>4.19%</td>\n",
       "      <td>4.419974e+09</td>\n",
       "      <td>United States</td>\n",
       "      <td>2012.0</td>\n",
       "      <td>1257952</td>\n",
       "      <td>Utilities</td>\n",
       "      <td>Environmental Services</td>\n",
       "    </tr>\n",
       "    <tr>\n",
       "      <th>ZYME</th>\n",
       "      <td>Zymeworks Inc. Common Shares</td>\n",
       "      <td>$7.76</td>\n",
       "      <td>-0.1900</td>\n",
       "      <td>-2.39%</td>\n",
       "      <td>4.787484e+08</td>\n",
       "      <td>Canada</td>\n",
       "      <td>2022.0</td>\n",
       "      <td>632987</td>\n",
       "      <td>Health Care</td>\n",
       "      <td>Biotechnology: Biological Products (No Diagnos...</td>\n",
       "    </tr>\n",
       "    <tr>\n",
       "      <th>ZYNE</th>\n",
       "      <td>Zynerba Pharmaceuticals Inc. Common Stock</td>\n",
       "      <td>$0.53</td>\n",
       "      <td>0.0020</td>\n",
       "      <td>0.38%</td>\n",
       "      <td>2.424913e+07</td>\n",
       "      <td>United States</td>\n",
       "      <td>2015.0</td>\n",
       "      <td>256183</td>\n",
       "      <td>Health Care</td>\n",
       "      <td>Biotechnology: Pharmaceutical Preparations</td>\n",
       "    </tr>\n",
       "    <tr>\n",
       "      <th>ZYXI</th>\n",
       "      <td>Zynex Inc. Common Stock</td>\n",
       "      <td>$13.73</td>\n",
       "      <td>0.1800</td>\n",
       "      <td>1.33%</td>\n",
       "      <td>5.286050e+08</td>\n",
       "      <td>United States</td>\n",
       "      <td>NaN</td>\n",
       "      <td>166261</td>\n",
       "      <td>Health Care</td>\n",
       "      <td>Other Pharmaceuticals</td>\n",
       "    </tr>\n",
       "  </tbody>\n",
       "</table>\n",
       "<p>8290 rows × 10 columns</p>\n",
       "</div>"
      ],
      "text/plain": [
       "                                                     Name Last Sale  \\\n",
       "Symbol                                                                \n",
       "A                  Agilent Technologies Inc. Common Stock   $156.86   \n",
       "AA                        Alcoa Corporation Common Stock     $49.36   \n",
       "AAC     Ares Acquisition Corporation Class A Ordinary ...   $10.005   \n",
       "AACG     ATA Creativity Global American Depositary Shares     $1.68   \n",
       "AACI              Armada Acquisition Corp. I Common Stock    $9.985   \n",
       "...                                                   ...       ...   \n",
       "ZWRKW                    Z-Work Acquisition Corp. Warrant   $0.0005   \n",
       "ZWS     Zurn Elkay Water Solutions Corporation Common ...    $24.86   \n",
       "ZYME                         Zymeworks Inc. Common Shares     $7.76   \n",
       "ZYNE            Zynerba Pharmaceuticals Inc. Common Stock     $0.53   \n",
       "ZYXI                              Zynex Inc. Common Stock    $13.73   \n",
       "\n",
       "        Net Change % Change    Market Cap        Country  IPO Year   Volume  \\\n",
       "Symbol                                                                        \n",
       "A          11.7200    8.08%  4.643692e+10  United States    1999.0  3512521   \n",
       "AA          2.7300    5.86%  8.733618e+09            NaN    2016.0  5592225   \n",
       "AAC         0.0050    0.05%  1.250625e+09            NaN    2021.0    11399   \n",
       "AACG       -0.0200   -1.18%  5.271323e+07          China    2008.0      601   \n",
       "AACI        0.0150    0.15%  2.067844e+08  United States    2021.0    83731   \n",
       "...            ...      ...           ...            ...       ...      ...   \n",
       "ZWRKW      -0.0006  -54.55%  0.000000e+00  United States    2021.0     2014   \n",
       "ZWS         1.0000    4.19%  4.419974e+09  United States    2012.0  1257952   \n",
       "ZYME       -0.1900   -2.39%  4.787484e+08         Canada    2022.0   632987   \n",
       "ZYNE        0.0020    0.38%  2.424913e+07  United States    2015.0   256183   \n",
       "ZYXI        0.1800    1.33%  5.286050e+08  United States       NaN   166261   \n",
       "\n",
       "                        Sector  \\\n",
       "Symbol                           \n",
       "A                  Industrials   \n",
       "AA                 Industrials   \n",
       "AAC                    Finance   \n",
       "AACG    Consumer Discretionary   \n",
       "AACI               Industrials   \n",
       "...                        ...   \n",
       "ZWRKW              Industrials   \n",
       "ZWS                  Utilities   \n",
       "ZYME               Health Care   \n",
       "ZYNE               Health Care   \n",
       "ZYXI               Health Care   \n",
       "\n",
       "                                                 Industry  \n",
       "Symbol                                                     \n",
       "A                                     Electrical Products  \n",
       "AA                                     Metal Fabrications  \n",
       "AAC                                     Business Services  \n",
       "AACG                       Service to the Health Industry  \n",
       "AACI                      Consumer Electronics/Appliances  \n",
       "...                                                   ...  \n",
       "ZWRKW                     Consumer Electronics/Appliances  \n",
       "ZWS                                Environmental Services  \n",
       "ZYME    Biotechnology: Biological Products (No Diagnos...  \n",
       "ZYNE           Biotechnology: Pharmaceutical Preparations  \n",
       "ZYXI                                Other Pharmaceuticals  \n",
       "\n",
       "[8290 rows x 10 columns]"
      ]
     },
     "execution_count": 53,
     "metadata": {},
     "output_type": "execute_result"
    }
   ],
   "source": [
    "listings = pd.read_csv(\"nasdaq_listings.csv\", index_col = \"Symbol\")\n",
    "listings"
   ]
  },
  {
   "cell_type": "code",
   "execution_count": 54,
   "id": "2e089951",
   "metadata": {},
   "outputs": [
    {
     "data": {
      "text/html": [
       "<div>\n",
       "<style scoped>\n",
       "    .dataframe tbody tr th:only-of-type {\n",
       "        vertical-align: middle;\n",
       "    }\n",
       "\n",
       "    .dataframe tbody tr th {\n",
       "        vertical-align: top;\n",
       "    }\n",
       "\n",
       "    .dataframe thead th {\n",
       "        text-align: right;\n",
       "    }\n",
       "</style>\n",
       "<table border=\"1\" class=\"dataframe\">\n",
       "  <thead>\n",
       "    <tr style=\"text-align: right;\">\n",
       "      <th></th>\n",
       "      <th>Name</th>\n",
       "      <th>Last Sale</th>\n",
       "      <th>Net Change</th>\n",
       "      <th>% Change</th>\n",
       "      <th>Market Cap</th>\n",
       "      <th>Country</th>\n",
       "      <th>IPO Year</th>\n",
       "      <th>Volume</th>\n",
       "      <th>Sector</th>\n",
       "      <th>Industry</th>\n",
       "    </tr>\n",
       "    <tr>\n",
       "      <th>Symbol</th>\n",
       "      <th></th>\n",
       "      <th></th>\n",
       "      <th></th>\n",
       "      <th></th>\n",
       "      <th></th>\n",
       "      <th></th>\n",
       "      <th></th>\n",
       "      <th></th>\n",
       "      <th></th>\n",
       "      <th></th>\n",
       "    </tr>\n",
       "  </thead>\n",
       "  <tbody>\n",
       "    <tr>\n",
       "      <th>MSFT</th>\n",
       "      <td>Microsoft Corporation Common Stock</td>\n",
       "      <td>$245.03</td>\n",
       "      <td>2.98</td>\n",
       "      <td>1.23%</td>\n",
       "      <td>1.826570e+12</td>\n",
       "      <td>United States</td>\n",
       "      <td>1986.0</td>\n",
       "      <td>19653979</td>\n",
       "      <td>Technology</td>\n",
       "      <td>Computer Software: Prepackaged Software</td>\n",
       "    </tr>\n",
       "  </tbody>\n",
       "</table>\n",
       "</div>"
      ],
      "text/plain": [
       "                                      Name Last Sale  Net Change % Change  \\\n",
       "Symbol                                                                      \n",
       "MSFT    Microsoft Corporation Common Stock   $245.03        2.98    1.23%   \n",
       "\n",
       "          Market Cap        Country  IPO Year    Volume      Sector  \\\n",
       "Symbol                                                                \n",
       "MSFT    1.826570e+12  United States    1986.0  19653979  Technology   \n",
       "\n",
       "                                       Industry  \n",
       "Symbol                                           \n",
       "MSFT    Computer Software: Prepackaged Software  "
      ]
     },
     "execution_count": 54,
     "metadata": {},
     "output_type": "execute_result"
    }
   ],
   "source": [
    "listings.loc[listings.Name.str.contains(\"Microsoft\")]"
   ]
  },
  {
   "cell_type": "markdown",
   "id": "de18dcc2",
   "metadata": {},
   "source": [
    "What´s an appropriate Peer Group for MSFT?"
   ]
  },
  {
   "cell_type": "markdown",
   "id": "7b854012",
   "metadata": {},
   "source": [
    "__Same Industry (Computer Software)__"
   ]
  },
  {
   "cell_type": "code",
   "execution_count": 55,
   "id": "baa36dc8",
   "metadata": {},
   "outputs": [
    {
     "data": {
      "text/plain": [
       "Symbol\n",
       "A        False\n",
       "AA       False\n",
       "AAC      False\n",
       "AACG     False\n",
       "AACI     False\n",
       "         ...  \n",
       "ZWRKW    False\n",
       "ZWS      False\n",
       "ZYME     False\n",
       "ZYNE     False\n",
       "ZYXI     False\n",
       "Name: Industry, Length: 8290, dtype: bool"
      ]
     },
     "execution_count": 55,
     "metadata": {},
     "output_type": "execute_result"
    }
   ],
   "source": [
    "# Find the Peer Group of microsoft by masks\n",
    "\n",
    "# Computer Software companies\n",
    "mask1 = listings.Industry == \"Computer Software: Prepackaged Software\"\n",
    "mask1"
   ]
  },
  {
   "cell_type": "markdown",
   "id": "fe99f0f3",
   "metadata": {},
   "source": [
    "__Same Country (US)__"
   ]
  },
  {
   "cell_type": "code",
   "execution_count": 56,
   "id": "4e0a6183",
   "metadata": {},
   "outputs": [
    {
     "data": {
      "text/plain": [
       "Symbol\n",
       "A         True\n",
       "AA       False\n",
       "AAC      False\n",
       "AACG     False\n",
       "AACI      True\n",
       "         ...  \n",
       "ZWRKW     True\n",
       "ZWS       True\n",
       "ZYME     False\n",
       "ZYNE      True\n",
       "ZYXI      True\n",
       "Name: Country, Length: 8290, dtype: bool"
      ]
     },
     "execution_count": 56,
     "metadata": {},
     "output_type": "execute_result"
    }
   ],
   "source": [
    "# only from USE\n",
    "mask2 = (listings.Country == \"United States\") \n",
    "mask2"
   ]
  },
  {
   "cell_type": "markdown",
   "id": "2b1a422e",
   "metadata": {},
   "source": [
    "__Similar Size (large Cap)__"
   ]
  },
  {
   "cell_type": "code",
   "execution_count": 57,
   "id": "f3efd5da",
   "metadata": {},
   "outputs": [
    {
     "data": {
      "text/plain": [
       "Symbol\n",
       "A         True\n",
       "AA       False\n",
       "AAC      False\n",
       "AACG     False\n",
       "AACI     False\n",
       "         ...  \n",
       "ZWRKW    False\n",
       "ZWS      False\n",
       "ZYME     False\n",
       "ZYNE     False\n",
       "ZYXI     False\n",
       "Name: Market Cap, Length: 8290, dtype: bool"
      ]
     },
     "execution_count": 57,
     "metadata": {},
     "output_type": "execute_result"
    }
   ],
   "source": [
    "# big companies\n",
    "mask3 = listings[\"Market Cap\"] > 10000000000 # more than 10 billion\n",
    "mask3"
   ]
  },
  {
   "cell_type": "code",
   "execution_count": 58,
   "id": "d83cf242",
   "metadata": {},
   "outputs": [
    {
     "data": {
      "text/html": [
       "<div>\n",
       "<style scoped>\n",
       "    .dataframe tbody tr th:only-of-type {\n",
       "        vertical-align: middle;\n",
       "    }\n",
       "\n",
       "    .dataframe tbody tr th {\n",
       "        vertical-align: top;\n",
       "    }\n",
       "\n",
       "    .dataframe thead th {\n",
       "        text-align: right;\n",
       "    }\n",
       "</style>\n",
       "<table border=\"1\" class=\"dataframe\">\n",
       "  <thead>\n",
       "    <tr style=\"text-align: right;\">\n",
       "      <th></th>\n",
       "      <th>Name</th>\n",
       "      <th>Last Sale</th>\n",
       "      <th>Net Change</th>\n",
       "      <th>% Change</th>\n",
       "      <th>Market Cap</th>\n",
       "      <th>Country</th>\n",
       "      <th>IPO Year</th>\n",
       "      <th>Volume</th>\n",
       "      <th>Sector</th>\n",
       "      <th>Industry</th>\n",
       "    </tr>\n",
       "    <tr>\n",
       "      <th>Symbol</th>\n",
       "      <th></th>\n",
       "      <th></th>\n",
       "      <th></th>\n",
       "      <th></th>\n",
       "      <th></th>\n",
       "      <th></th>\n",
       "      <th></th>\n",
       "      <th></th>\n",
       "      <th></th>\n",
       "      <th></th>\n",
       "    </tr>\n",
       "  </thead>\n",
       "  <tbody>\n",
       "    <tr>\n",
       "      <th>ADBE</th>\n",
       "      <td>Adobe Inc. Common Stock</td>\n",
       "      <td>$330.88</td>\n",
       "      <td>9.39</td>\n",
       "      <td>2.92%</td>\n",
       "      <td>1.538260e+11</td>\n",
       "      <td>United States</td>\n",
       "      <td>1986.0</td>\n",
       "      <td>2572817</td>\n",
       "      <td>Technology</td>\n",
       "      <td>Computer Software: Prepackaged Software</td>\n",
       "    </tr>\n",
       "    <tr>\n",
       "      <th>ADSK</th>\n",
       "      <td>Autodesk Inc. Common Stock</td>\n",
       "      <td>$208.90</td>\n",
       "      <td>2.40</td>\n",
       "      <td>1.16%</td>\n",
       "      <td>4.509296e+10</td>\n",
       "      <td>United States</td>\n",
       "      <td>NaN</td>\n",
       "      <td>2491024</td>\n",
       "      <td>Technology</td>\n",
       "      <td>Computer Software: Prepackaged Software</td>\n",
       "    </tr>\n",
       "    <tr>\n",
       "      <th>ANSS</th>\n",
       "      <td>ANSYS Inc. Common Stock</td>\n",
       "      <td>$244.03</td>\n",
       "      <td>2.75</td>\n",
       "      <td>1.14%</td>\n",
       "      <td>2.125800e+10</td>\n",
       "      <td>United States</td>\n",
       "      <td>1996.0</td>\n",
       "      <td>278949</td>\n",
       "      <td>Technology</td>\n",
       "      <td>Computer Software: Prepackaged Software</td>\n",
       "    </tr>\n",
       "    <tr>\n",
       "      <th>CDNS</th>\n",
       "      <td>Cadence Design Systems Inc. Common Stock</td>\n",
       "      <td>$165.20</td>\n",
       "      <td>3.34</td>\n",
       "      <td>2.06%</td>\n",
       "      <td>4.531700e+10</td>\n",
       "      <td>United States</td>\n",
       "      <td>NaN</td>\n",
       "      <td>1118381</td>\n",
       "      <td>Technology</td>\n",
       "      <td>Computer Software: Prepackaged Software</td>\n",
       "    </tr>\n",
       "    <tr>\n",
       "      <th>CRM</th>\n",
       "      <td>Salesforce Inc. Common Stock</td>\n",
       "      <td>$149.25</td>\n",
       "      <td>4.40</td>\n",
       "      <td>3.04%</td>\n",
       "      <td>1.492500e+11</td>\n",
       "      <td>United States</td>\n",
       "      <td>2004.0</td>\n",
       "      <td>7014815</td>\n",
       "      <td>Technology</td>\n",
       "      <td>Computer Software: Prepackaged Software</td>\n",
       "    </tr>\n",
       "    <tr>\n",
       "      <th>FICO</th>\n",
       "      <td>Fair Isaac Corproation Common Stock</td>\n",
       "      <td>$577.90</td>\n",
       "      <td>-3.59</td>\n",
       "      <td>-0.62%</td>\n",
       "      <td>1.443341e+10</td>\n",
       "      <td>United States</td>\n",
       "      <td>NaN</td>\n",
       "      <td>174968</td>\n",
       "      <td>Technology</td>\n",
       "      <td>Computer Software: Prepackaged Software</td>\n",
       "    </tr>\n",
       "    <tr>\n",
       "      <th>GEN</th>\n",
       "      <td>Gen Digital Inc. Common Stock</td>\n",
       "      <td>$23.11</td>\n",
       "      <td>0.06</td>\n",
       "      <td>0.26%</td>\n",
       "      <td>2.408470e+11</td>\n",
       "      <td>United States</td>\n",
       "      <td>NaN</td>\n",
       "      <td>5092454</td>\n",
       "      <td>Technology</td>\n",
       "      <td>Computer Software: Prepackaged Software</td>\n",
       "    </tr>\n",
       "    <tr>\n",
       "      <th>HUBS</th>\n",
       "      <td>HubSpot Inc. Common Stock</td>\n",
       "      <td>$272.58</td>\n",
       "      <td>8.74</td>\n",
       "      <td>3.31%</td>\n",
       "      <td>1.324090e+10</td>\n",
       "      <td>United States</td>\n",
       "      <td>2014.0</td>\n",
       "      <td>645430</td>\n",
       "      <td>Technology</td>\n",
       "      <td>Computer Software: Prepackaged Software</td>\n",
       "    </tr>\n",
       "    <tr>\n",
       "      <th>INTU</th>\n",
       "      <td>Intuit Inc. Common Stock</td>\n",
       "      <td>$392.23</td>\n",
       "      <td>17.23</td>\n",
       "      <td>4.60%</td>\n",
       "      <td>1.105580e+11</td>\n",
       "      <td>United States</td>\n",
       "      <td>1993.0</td>\n",
       "      <td>2298040</td>\n",
       "      <td>Technology</td>\n",
       "      <td>Computer Software: Prepackaged Software</td>\n",
       "    </tr>\n",
       "    <tr>\n",
       "      <th>MSFT</th>\n",
       "      <td>Microsoft Corporation Common Stock</td>\n",
       "      <td>$245.03</td>\n",
       "      <td>2.98</td>\n",
       "      <td>1.23%</td>\n",
       "      <td>1.826570e+12</td>\n",
       "      <td>United States</td>\n",
       "      <td>1986.0</td>\n",
       "      <td>19653979</td>\n",
       "      <td>Technology</td>\n",
       "      <td>Computer Software: Prepackaged Software</td>\n",
       "    </tr>\n",
       "    <tr>\n",
       "      <th>NOW</th>\n",
       "      <td>ServiceNow Inc. Common Stock</td>\n",
       "      <td>$400.28</td>\n",
       "      <td>12.90</td>\n",
       "      <td>3.33%</td>\n",
       "      <td>8.085656e+10</td>\n",
       "      <td>United States</td>\n",
       "      <td>2012.0</td>\n",
       "      <td>1375514</td>\n",
       "      <td>Technology</td>\n",
       "      <td>Computer Software: Prepackaged Software</td>\n",
       "    </tr>\n",
       "    <tr>\n",
       "      <th>ORCL</th>\n",
       "      <td>Oracle Corporation Common Stock</td>\n",
       "      <td>$82.12</td>\n",
       "      <td>2.30</td>\n",
       "      <td>2.88%</td>\n",
       "      <td>2.214090e+11</td>\n",
       "      <td>United States</td>\n",
       "      <td>1986.0</td>\n",
       "      <td>8795492</td>\n",
       "      <td>Technology</td>\n",
       "      <td>Computer Software: Prepackaged Software</td>\n",
       "    </tr>\n",
       "    <tr>\n",
       "      <th>PCTY</th>\n",
       "      <td>Paylocity Holding Corporation Common Stock</td>\n",
       "      <td>$208.92</td>\n",
       "      <td>3.22</td>\n",
       "      <td>1.57%</td>\n",
       "      <td>1.163139e+10</td>\n",
       "      <td>United States</td>\n",
       "      <td>2014.0</td>\n",
       "      <td>463179</td>\n",
       "      <td>Technology</td>\n",
       "      <td>Computer Software: Prepackaged Software</td>\n",
       "    </tr>\n",
       "    <tr>\n",
       "      <th>PTC</th>\n",
       "      <td>PTC Inc. Common Stock</td>\n",
       "      <td>$124.96</td>\n",
       "      <td>1.75</td>\n",
       "      <td>1.42%</td>\n",
       "      <td>1.467930e+10</td>\n",
       "      <td>United States</td>\n",
       "      <td>NaN</td>\n",
       "      <td>618538</td>\n",
       "      <td>Technology</td>\n",
       "      <td>Computer Software: Prepackaged Software</td>\n",
       "    </tr>\n",
       "    <tr>\n",
       "      <th>SE</th>\n",
       "      <td>Sea Limited American Depositary Shares each re...</td>\n",
       "      <td>$53.55</td>\n",
       "      <td>-0.54</td>\n",
       "      <td>-1.00%</td>\n",
       "      <td>3.008107e+10</td>\n",
       "      <td>United States</td>\n",
       "      <td>2017.0</td>\n",
       "      <td>4134374</td>\n",
       "      <td>Technology</td>\n",
       "      <td>Computer Software: Prepackaged Software</td>\n",
       "    </tr>\n",
       "    <tr>\n",
       "      <th>SNOW</th>\n",
       "      <td>Snowflake Inc. Class A Common Stock</td>\n",
       "      <td>$143.36</td>\n",
       "      <td>2.22</td>\n",
       "      <td>1.57%</td>\n",
       "      <td>4.587520e+10</td>\n",
       "      <td>United States</td>\n",
       "      <td>2020.0</td>\n",
       "      <td>3998356</td>\n",
       "      <td>Technology</td>\n",
       "      <td>Computer Software: Prepackaged Software</td>\n",
       "    </tr>\n",
       "    <tr>\n",
       "      <th>SPLK</th>\n",
       "      <td>Splunk Inc. Common Stock</td>\n",
       "      <td>$77.34</td>\n",
       "      <td>0.06</td>\n",
       "      <td>0.08%</td>\n",
       "      <td>1.258322e+10</td>\n",
       "      <td>United States</td>\n",
       "      <td>2012.0</td>\n",
       "      <td>1254171</td>\n",
       "      <td>Technology</td>\n",
       "      <td>Computer Software: Prepackaged Software</td>\n",
       "    </tr>\n",
       "    <tr>\n",
       "      <th>SQ</th>\n",
       "      <td>Block Inc. Class A Common Stock</td>\n",
       "      <td>$62.72</td>\n",
       "      <td>0.87</td>\n",
       "      <td>1.41%</td>\n",
       "      <td>3.751102e+10</td>\n",
       "      <td>United States</td>\n",
       "      <td>2015.0</td>\n",
       "      <td>8990073</td>\n",
       "      <td>Technology</td>\n",
       "      <td>Computer Software: Prepackaged Software</td>\n",
       "    </tr>\n",
       "    <tr>\n",
       "      <th>TTWO</th>\n",
       "      <td>Take-Two Interactive Software Inc. Common Stock</td>\n",
       "      <td>$100.29</td>\n",
       "      <td>2.86</td>\n",
       "      <td>2.94%</td>\n",
       "      <td>1.683058e+10</td>\n",
       "      <td>United States</td>\n",
       "      <td>1997.0</td>\n",
       "      <td>1714239</td>\n",
       "      <td>Technology</td>\n",
       "      <td>Computer Software: Prepackaged Software</td>\n",
       "    </tr>\n",
       "    <tr>\n",
       "      <th>TYL</th>\n",
       "      <td>Tyler Technologies Inc. Common Stock</td>\n",
       "      <td>$326.93</td>\n",
       "      <td>5.11</td>\n",
       "      <td>1.59%</td>\n",
       "      <td>1.361333e+10</td>\n",
       "      <td>United States</td>\n",
       "      <td>NaN</td>\n",
       "      <td>308497</td>\n",
       "      <td>Technology</td>\n",
       "      <td>Computer Software: Prepackaged Software</td>\n",
       "    </tr>\n",
       "    <tr>\n",
       "      <th>VMW</th>\n",
       "      <td>Vmware Inc. Common stock Class A</td>\n",
       "      <td>$118.39</td>\n",
       "      <td>1.62</td>\n",
       "      <td>1.39%</td>\n",
       "      <td>5.008191e+10</td>\n",
       "      <td>United States</td>\n",
       "      <td>2007.0</td>\n",
       "      <td>1434236</td>\n",
       "      <td>Technology</td>\n",
       "      <td>Computer Software: Prepackaged Software</td>\n",
       "    </tr>\n",
       "    <tr>\n",
       "      <th>WDAY</th>\n",
       "      <td>Workday Inc. Class A Common Stock</td>\n",
       "      <td>$146.29</td>\n",
       "      <td>3.09</td>\n",
       "      <td>2.16%</td>\n",
       "      <td>3.745024e+10</td>\n",
       "      <td>United States</td>\n",
       "      <td>NaN</td>\n",
       "      <td>1289170</td>\n",
       "      <td>Technology</td>\n",
       "      <td>Computer Software: Prepackaged Software</td>\n",
       "    </tr>\n",
       "    <tr>\n",
       "      <th>ZI</th>\n",
       "      <td>ZoomInfo Technologies Inc Common Stock</td>\n",
       "      <td>$27.36</td>\n",
       "      <td>-0.15</td>\n",
       "      <td>-0.55%</td>\n",
       "      <td>1.104406e+10</td>\n",
       "      <td>United States</td>\n",
       "      <td>2020.0</td>\n",
       "      <td>3322873</td>\n",
       "      <td>Technology</td>\n",
       "      <td>Computer Software: Prepackaged Software</td>\n",
       "    </tr>\n",
       "    <tr>\n",
       "      <th>ZM</th>\n",
       "      <td>Zoom Video Communications Inc. Class A Common ...</td>\n",
       "      <td>$77.15</td>\n",
       "      <td>-3.11</td>\n",
       "      <td>-3.88%</td>\n",
       "      <td>2.296332e+10</td>\n",
       "      <td>United States</td>\n",
       "      <td>2019.0</td>\n",
       "      <td>15725695</td>\n",
       "      <td>Technology</td>\n",
       "      <td>Computer Software: Prepackaged Software</td>\n",
       "    </tr>\n",
       "  </tbody>\n",
       "</table>\n",
       "</div>"
      ],
      "text/plain": [
       "                                                     Name Last Sale  \\\n",
       "Symbol                                                                \n",
       "ADBE                              Adobe Inc. Common Stock   $330.88   \n",
       "ADSK                           Autodesk Inc. Common Stock   $208.90   \n",
       "ANSS                              ANSYS Inc. Common Stock   $244.03   \n",
       "CDNS             Cadence Design Systems Inc. Common Stock   $165.20   \n",
       "CRM                          Salesforce Inc. Common Stock   $149.25   \n",
       "FICO                  Fair Isaac Corproation Common Stock   $577.90   \n",
       "GEN                         Gen Digital Inc. Common Stock    $23.11   \n",
       "HUBS                            HubSpot Inc. Common Stock   $272.58   \n",
       "INTU                             Intuit Inc. Common Stock   $392.23   \n",
       "MSFT                   Microsoft Corporation Common Stock   $245.03   \n",
       "NOW                          ServiceNow Inc. Common Stock   $400.28   \n",
       "ORCL                      Oracle Corporation Common Stock    $82.12   \n",
       "PCTY           Paylocity Holding Corporation Common Stock   $208.92   \n",
       "PTC                                 PTC Inc. Common Stock   $124.96   \n",
       "SE      Sea Limited American Depositary Shares each re...    $53.55   \n",
       "SNOW                  Snowflake Inc. Class A Common Stock   $143.36   \n",
       "SPLK                             Splunk Inc. Common Stock    $77.34   \n",
       "SQ                        Block Inc. Class A Common Stock    $62.72   \n",
       "TTWO      Take-Two Interactive Software Inc. Common Stock   $100.29   \n",
       "TYL                  Tyler Technologies Inc. Common Stock   $326.93   \n",
       "VMW                      Vmware Inc. Common stock Class A   $118.39   \n",
       "WDAY                    Workday Inc. Class A Common Stock   $146.29   \n",
       "ZI                 ZoomInfo Technologies Inc Common Stock    $27.36   \n",
       "ZM      Zoom Video Communications Inc. Class A Common ...    $77.15   \n",
       "\n",
       "        Net Change % Change    Market Cap        Country  IPO Year    Volume  \\\n",
       "Symbol                                                                         \n",
       "ADBE          9.39    2.92%  1.538260e+11  United States    1986.0   2572817   \n",
       "ADSK          2.40    1.16%  4.509296e+10  United States       NaN   2491024   \n",
       "ANSS          2.75    1.14%  2.125800e+10  United States    1996.0    278949   \n",
       "CDNS          3.34    2.06%  4.531700e+10  United States       NaN   1118381   \n",
       "CRM           4.40    3.04%  1.492500e+11  United States    2004.0   7014815   \n",
       "FICO         -3.59   -0.62%  1.443341e+10  United States       NaN    174968   \n",
       "GEN           0.06    0.26%  2.408470e+11  United States       NaN   5092454   \n",
       "HUBS          8.74    3.31%  1.324090e+10  United States    2014.0    645430   \n",
       "INTU         17.23    4.60%  1.105580e+11  United States    1993.0   2298040   \n",
       "MSFT          2.98    1.23%  1.826570e+12  United States    1986.0  19653979   \n",
       "NOW          12.90    3.33%  8.085656e+10  United States    2012.0   1375514   \n",
       "ORCL          2.30    2.88%  2.214090e+11  United States    1986.0   8795492   \n",
       "PCTY          3.22    1.57%  1.163139e+10  United States    2014.0    463179   \n",
       "PTC           1.75    1.42%  1.467930e+10  United States       NaN    618538   \n",
       "SE           -0.54   -1.00%  3.008107e+10  United States    2017.0   4134374   \n",
       "SNOW          2.22    1.57%  4.587520e+10  United States    2020.0   3998356   \n",
       "SPLK          0.06    0.08%  1.258322e+10  United States    2012.0   1254171   \n",
       "SQ            0.87    1.41%  3.751102e+10  United States    2015.0   8990073   \n",
       "TTWO          2.86    2.94%  1.683058e+10  United States    1997.0   1714239   \n",
       "TYL           5.11    1.59%  1.361333e+10  United States       NaN    308497   \n",
       "VMW           1.62    1.39%  5.008191e+10  United States    2007.0   1434236   \n",
       "WDAY          3.09    2.16%  3.745024e+10  United States       NaN   1289170   \n",
       "ZI           -0.15   -0.55%  1.104406e+10  United States    2020.0   3322873   \n",
       "ZM           -3.11   -3.88%  2.296332e+10  United States    2019.0  15725695   \n",
       "\n",
       "            Sector                                 Industry  \n",
       "Symbol                                                       \n",
       "ADBE    Technology  Computer Software: Prepackaged Software  \n",
       "ADSK    Technology  Computer Software: Prepackaged Software  \n",
       "ANSS    Technology  Computer Software: Prepackaged Software  \n",
       "CDNS    Technology  Computer Software: Prepackaged Software  \n",
       "CRM     Technology  Computer Software: Prepackaged Software  \n",
       "FICO    Technology  Computer Software: Prepackaged Software  \n",
       "GEN     Technology  Computer Software: Prepackaged Software  \n",
       "HUBS    Technology  Computer Software: Prepackaged Software  \n",
       "INTU    Technology  Computer Software: Prepackaged Software  \n",
       "MSFT    Technology  Computer Software: Prepackaged Software  \n",
       "NOW     Technology  Computer Software: Prepackaged Software  \n",
       "ORCL    Technology  Computer Software: Prepackaged Software  \n",
       "PCTY    Technology  Computer Software: Prepackaged Software  \n",
       "PTC     Technology  Computer Software: Prepackaged Software  \n",
       "SE      Technology  Computer Software: Prepackaged Software  \n",
       "SNOW    Technology  Computer Software: Prepackaged Software  \n",
       "SPLK    Technology  Computer Software: Prepackaged Software  \n",
       "SQ      Technology  Computer Software: Prepackaged Software  \n",
       "TTWO    Technology  Computer Software: Prepackaged Software  \n",
       "TYL     Technology  Computer Software: Prepackaged Software  \n",
       "VMW     Technology  Computer Software: Prepackaged Software  \n",
       "WDAY    Technology  Computer Software: Prepackaged Software  \n",
       "ZI      Technology  Computer Software: Prepackaged Software  \n",
       "ZM      Technology  Computer Software: Prepackaged Software  "
      ]
     },
     "execution_count": 58,
     "metadata": {},
     "output_type": "execute_result"
    }
   ],
   "source": [
    "# Apply the masks for reach the peer group os microsoft\n",
    "peerg = listings.loc[mask1 & mask2 & mask3]\n",
    "\n",
    "# Here's the companies that most like microsoft:\n",
    "peerg"
   ]
  },
  {
   "cell_type": "code",
   "execution_count": 59,
   "id": "4b7cf3eb",
   "metadata": {},
   "outputs": [
    {
     "name": "stdout",
     "output_type": "stream",
     "text": [
      "<class 'pandas.core.frame.DataFrame'>\n",
      "Index: 24 entries, ADBE to ZM\n",
      "Data columns (total 10 columns):\n",
      " #   Column      Non-Null Count  Dtype  \n",
      "---  ------      --------------  -----  \n",
      " 0   Name        24 non-null     object \n",
      " 1   Last Sale   24 non-null     object \n",
      " 2   Net Change  24 non-null     float64\n",
      " 3   % Change    24 non-null     object \n",
      " 4   Market Cap  24 non-null     float64\n",
      " 5   Country     24 non-null     object \n",
      " 6   IPO Year    17 non-null     float64\n",
      " 7   Volume      24 non-null     int64  \n",
      " 8   Sector      24 non-null     object \n",
      " 9   Industry    24 non-null     object \n",
      "dtypes: float64(3), int64(1), object(6)\n",
      "memory usage: 2.1+ KB\n"
     ]
    }
   ],
   "source": [
    "peerg.info()"
   ]
  },
  {
   "cell_type": "code",
   "execution_count": 60,
   "id": "d2a0fa7a",
   "metadata": {},
   "outputs": [
    {
     "data": {
      "text/plain": [
       "['ADBE',\n",
       " 'ADSK',\n",
       " 'ANSS',\n",
       " 'CDNS',\n",
       " 'CRM',\n",
       " 'FICO',\n",
       " 'GEN',\n",
       " 'HUBS',\n",
       " 'INTU',\n",
       " 'MSFT',\n",
       " 'NOW',\n",
       " 'ORCL',\n",
       " 'PCTY',\n",
       " 'PTC',\n",
       " 'SE',\n",
       " 'SNOW',\n",
       " 'SPLK',\n",
       " 'SQ',\n",
       " 'TTWO',\n",
       " 'TYL',\n",
       " 'VMW',\n",
       " 'WDAY',\n",
       " 'ZI',\n",
       " 'ZM']"
      ]
     },
     "execution_count": 60,
     "metadata": {},
     "output_type": "execute_result"
    }
   ],
   "source": [
    "symbols = peerg.index.to_list()\n",
    "symbols"
   ]
  },
  {
   "cell_type": "code",
   "execution_count": 61,
   "id": "d40517d5",
   "metadata": {},
   "outputs": [
    {
     "data": {
      "text/html": [
       "<div>\n",
       "<style scoped>\n",
       "    .dataframe tbody tr th:only-of-type {\n",
       "        vertical-align: middle;\n",
       "    }\n",
       "\n",
       "    .dataframe tbody tr th {\n",
       "        vertical-align: top;\n",
       "    }\n",
       "\n",
       "    .dataframe thead th {\n",
       "        text-align: right;\n",
       "    }\n",
       "</style>\n",
       "<table border=\"1\" class=\"dataframe\">\n",
       "  <thead>\n",
       "    <tr style=\"text-align: right;\">\n",
       "      <th></th>\n",
       "      <th>Name</th>\n",
       "    </tr>\n",
       "    <tr>\n",
       "      <th>Symbol</th>\n",
       "      <th></th>\n",
       "    </tr>\n",
       "  </thead>\n",
       "  <tbody>\n",
       "    <tr>\n",
       "      <th>ADBE</th>\n",
       "      <td>Adobe Inc. Common Stock</td>\n",
       "    </tr>\n",
       "    <tr>\n",
       "      <th>ADSK</th>\n",
       "      <td>Autodesk Inc. Common Stock</td>\n",
       "    </tr>\n",
       "    <tr>\n",
       "      <th>ANSS</th>\n",
       "      <td>ANSYS Inc. Common Stock</td>\n",
       "    </tr>\n",
       "    <tr>\n",
       "      <th>CDNS</th>\n",
       "      <td>Cadence Design Systems Inc. Common Stock</td>\n",
       "    </tr>\n",
       "    <tr>\n",
       "      <th>CRM</th>\n",
       "      <td>Salesforce Inc. Common Stock</td>\n",
       "    </tr>\n",
       "    <tr>\n",
       "      <th>FICO</th>\n",
       "      <td>Fair Isaac Corproation Common Stock</td>\n",
       "    </tr>\n",
       "    <tr>\n",
       "      <th>GEN</th>\n",
       "      <td>Gen Digital Inc. Common Stock</td>\n",
       "    </tr>\n",
       "    <tr>\n",
       "      <th>HUBS</th>\n",
       "      <td>HubSpot Inc. Common Stock</td>\n",
       "    </tr>\n",
       "    <tr>\n",
       "      <th>INTU</th>\n",
       "      <td>Intuit Inc. Common Stock</td>\n",
       "    </tr>\n",
       "    <tr>\n",
       "      <th>MSFT</th>\n",
       "      <td>Microsoft Corporation Common Stock</td>\n",
       "    </tr>\n",
       "    <tr>\n",
       "      <th>NOW</th>\n",
       "      <td>ServiceNow Inc. Common Stock</td>\n",
       "    </tr>\n",
       "    <tr>\n",
       "      <th>ORCL</th>\n",
       "      <td>Oracle Corporation Common Stock</td>\n",
       "    </tr>\n",
       "    <tr>\n",
       "      <th>PCTY</th>\n",
       "      <td>Paylocity Holding Corporation Common Stock</td>\n",
       "    </tr>\n",
       "    <tr>\n",
       "      <th>PTC</th>\n",
       "      <td>PTC Inc. Common Stock</td>\n",
       "    </tr>\n",
       "    <tr>\n",
       "      <th>SE</th>\n",
       "      <td>Sea Limited American Depositary Shares each re...</td>\n",
       "    </tr>\n",
       "    <tr>\n",
       "      <th>SNOW</th>\n",
       "      <td>Snowflake Inc. Class A Common Stock</td>\n",
       "    </tr>\n",
       "    <tr>\n",
       "      <th>SPLK</th>\n",
       "      <td>Splunk Inc. Common Stock</td>\n",
       "    </tr>\n",
       "    <tr>\n",
       "      <th>SQ</th>\n",
       "      <td>Block Inc. Class A Common Stock</td>\n",
       "    </tr>\n",
       "    <tr>\n",
       "      <th>TTWO</th>\n",
       "      <td>Take-Two Interactive Software Inc. Common Stock</td>\n",
       "    </tr>\n",
       "    <tr>\n",
       "      <th>TYL</th>\n",
       "      <td>Tyler Technologies Inc. Common Stock</td>\n",
       "    </tr>\n",
       "    <tr>\n",
       "      <th>VMW</th>\n",
       "      <td>Vmware Inc. Common stock Class A</td>\n",
       "    </tr>\n",
       "    <tr>\n",
       "      <th>WDAY</th>\n",
       "      <td>Workday Inc. Class A Common Stock</td>\n",
       "    </tr>\n",
       "    <tr>\n",
       "      <th>ZI</th>\n",
       "      <td>ZoomInfo Technologies Inc Common Stock</td>\n",
       "    </tr>\n",
       "    <tr>\n",
       "      <th>ZM</th>\n",
       "      <td>Zoom Video Communications Inc. Class A Common ...</td>\n",
       "    </tr>\n",
       "  </tbody>\n",
       "</table>\n",
       "</div>"
      ],
      "text/plain": [
       "                                                     Name\n",
       "Symbol                                                   \n",
       "ADBE                              Adobe Inc. Common Stock\n",
       "ADSK                           Autodesk Inc. Common Stock\n",
       "ANSS                              ANSYS Inc. Common Stock\n",
       "CDNS             Cadence Design Systems Inc. Common Stock\n",
       "CRM                          Salesforce Inc. Common Stock\n",
       "FICO                  Fair Isaac Corproation Common Stock\n",
       "GEN                         Gen Digital Inc. Common Stock\n",
       "HUBS                            HubSpot Inc. Common Stock\n",
       "INTU                             Intuit Inc. Common Stock\n",
       "MSFT                   Microsoft Corporation Common Stock\n",
       "NOW                          ServiceNow Inc. Common Stock\n",
       "ORCL                      Oracle Corporation Common Stock\n",
       "PCTY           Paylocity Holding Corporation Common Stock\n",
       "PTC                                 PTC Inc. Common Stock\n",
       "SE      Sea Limited American Depositary Shares each re...\n",
       "SNOW                  Snowflake Inc. Class A Common Stock\n",
       "SPLK                             Splunk Inc. Common Stock\n",
       "SQ                        Block Inc. Class A Common Stock\n",
       "TTWO      Take-Two Interactive Software Inc. Common Stock\n",
       "TYL                  Tyler Technologies Inc. Common Stock\n",
       "VMW                      Vmware Inc. Common stock Class A\n",
       "WDAY                    Workday Inc. Class A Common Stock\n",
       "ZI                 ZoomInfo Technologies Inc Common Stock\n",
       "ZM      Zoom Video Communications Inc. Class A Common ..."
      ]
     },
     "execution_count": 61,
     "metadata": {},
     "output_type": "execute_result"
    }
   ],
   "source": [
    "df = peerg[[\"Name\"]].copy()\n",
    "df"
   ]
  },
  {
   "cell_type": "markdown",
   "metadata": {},
   "source": [
    "__Get the multiples for all the peer groups comanies!__\n",
    "\n",
    "- Its all what we did before.. \n",
    "    - `forwardPE` -> ratio of Price / Erning  \n",
    "    - `pegRatio` -> PEG ratio (ratio of Price/Earnings to Growth ratio) \n",
    "    - `priceToBook` -> ratio of Price / book ratio\n",
    "    - `PS` -> ratio of Price / Sells \n",
    "    - `PC` -> ratio of Price / chashflow\n",
    "    - `DY` -> Dividends yield"
   ]
  },
  {
   "cell_type": "code",
   "execution_count": 63,
   "id": "2f5c47cb",
   "metadata": {},
   "outputs": [
    {
     "name": "stdout",
     "output_type": "stream",
     "text": [
      "24\r"
     ]
    }
   ],
   "source": [
    "count = 0\n",
    "for symbol in symbols:\n",
    "    count += 1\n",
    "    print(count, end = '\\r')\n",
    "    try:\n",
    "        # get the ticker\n",
    "        ticker = Ticker(symbol)\n",
    "    except:\n",
    "        print(\"Ticker {} not found.\".format(ticker))\n",
    "        continue\n",
    "    try:\n",
    "\n",
    "        df.loc[symbol, \"PE\"] = ticker.key_stats[symbol][\"forwardPE\"]\n",
    "    except:\n",
    "        pass\n",
    "    try:\n",
    "        df.loc[symbol, \"PEG\"] = ticker.key_stats[symbol][\"pegRatio\"]\n",
    "    except: \n",
    "        pass\n",
    "    try:\n",
    "        df.loc[symbol, \"PB\"] = ticker.key_stats[symbol][\"priceToBook\"]\n",
    "    except:\n",
    "        pass\n",
    "    try:\n",
    "        df.loc[symbol, \"PS\"] = ticker.price[symbol][\"regularMarketPrice\"] / ticker.financial_data[symbol][\"revenuePerShare\"]\n",
    "    except:\n",
    "        pass\n",
    "    try:    \n",
    "        df.loc[symbol, \"PC\"] = ticker.price[symbol][\"regularMarketPrice\"] / (ticker.financial_data[symbol][\"operatingCashflow\"] / ticker.key_stats[symbol][\"sharesOutstanding\"])\n",
    "    except:\n",
    "        pass\n",
    "    try:  \n",
    "        df.loc[symbol, \"DY\"] = ticker.summary_detail[symbol][\"dividendYield\"]\n",
    "    except:\n",
    "        pass"
   ]
  },
  {
   "cell_type": "code",
   "execution_count": 64,
   "id": "878323f3",
   "metadata": {},
   "outputs": [
    {
     "data": {
      "text/html": [
       "<div>\n",
       "<style scoped>\n",
       "    .dataframe tbody tr th:only-of-type {\n",
       "        vertical-align: middle;\n",
       "    }\n",
       "\n",
       "    .dataframe tbody tr th {\n",
       "        vertical-align: top;\n",
       "    }\n",
       "\n",
       "    .dataframe thead th {\n",
       "        text-align: right;\n",
       "    }\n",
       "</style>\n",
       "<table border=\"1\" class=\"dataframe\">\n",
       "  <thead>\n",
       "    <tr style=\"text-align: right;\">\n",
       "      <th></th>\n",
       "      <th>Name</th>\n",
       "      <th>PE</th>\n",
       "      <th>PEG</th>\n",
       "      <th>PB</th>\n",
       "      <th>PS</th>\n",
       "      <th>PC</th>\n",
       "      <th>DY</th>\n",
       "    </tr>\n",
       "    <tr>\n",
       "      <th>Symbol</th>\n",
       "      <th></th>\n",
       "      <th></th>\n",
       "      <th></th>\n",
       "      <th></th>\n",
       "      <th></th>\n",
       "      <th></th>\n",
       "      <th></th>\n",
       "    </tr>\n",
       "  </thead>\n",
       "  <tbody>\n",
       "    <tr>\n",
       "      <th>ADBE</th>\n",
       "      <td>Adobe Inc. Common Stock</td>\n",
       "      <td>32.833150</td>\n",
       "      <td>2.54</td>\n",
       "      <td>17.063824</td>\n",
       "      <td>14.361407</td>\n",
       "      <td>33.472204</td>\n",
       "      <td>0.0115</td>\n",
       "    </tr>\n",
       "    <tr>\n",
       "      <th>ADSK</th>\n",
       "      <td>Autodesk Inc. Common Stock</td>\n",
       "      <td>24.775946</td>\n",
       "      <td>1.89</td>\n",
       "      <td>37.278210</td>\n",
       "      <td>8.646802</td>\n",
       "      <td>20.067835</td>\n",
       "      <td>0.0196</td>\n",
       "    </tr>\n",
       "    <tr>\n",
       "      <th>ANSS</th>\n",
       "      <td>ANSYS Inc. Common Stock</td>\n",
       "      <td>30.599370</td>\n",
       "      <td>3.20</td>\n",
       "      <td>5.047089</td>\n",
       "      <td>11.708377</td>\n",
       "      <td>38.397724</td>\n",
       "      <td>0.1290</td>\n",
       "    </tr>\n",
       "    <tr>\n",
       "      <th>CDNS</th>\n",
       "      <td>Cadence Design Systems Inc. Common Stock</td>\n",
       "      <td>44.964226</td>\n",
       "      <td>2.58</td>\n",
       "      <td>23.059584</td>\n",
       "      <td>18.142700</td>\n",
       "      <td>53.559318</td>\n",
       "      <td>0.0043</td>\n",
       "    </tr>\n",
       "    <tr>\n",
       "      <th>CRM</th>\n",
       "      <td>Salesforce Inc. Common Stock</td>\n",
       "      <td>22.926517</td>\n",
       "      <td>1.01</td>\n",
       "      <td>3.613839</td>\n",
       "      <td>6.402189</td>\n",
       "      <td>24.936600</td>\n",
       "      <td>0.0673</td>\n",
       "    </tr>\n",
       "    <tr>\n",
       "      <th>FICO</th>\n",
       "      <td>Fair Isaac Corproation Common Stock</td>\n",
       "      <td>35.972637</td>\n",
       "      <td>2.39</td>\n",
       "      <td>NaN</td>\n",
       "      <td>16.710744</td>\n",
       "      <td>53.350470</td>\n",
       "      <td>0.0006</td>\n",
       "    </tr>\n",
       "    <tr>\n",
       "      <th>GEN</th>\n",
       "      <td>Gen Digital Inc. Common Stock</td>\n",
       "      <td>8.325991</td>\n",
       "      <td>0.80</td>\n",
       "      <td>5.018587</td>\n",
       "      <td>3.214832</td>\n",
       "      <td>12.344051</td>\n",
       "      <td>0.0265</td>\n",
       "    </tr>\n",
       "    <tr>\n",
       "      <th>HUBS</th>\n",
       "      <td>HubSpot Inc. Common Stock</td>\n",
       "      <td>65.216020</td>\n",
       "      <td>1.77</td>\n",
       "      <td>18.237232</td>\n",
       "      <td>10.381868</td>\n",
       "      <td>64.550320</td>\n",
       "      <td>NaN</td>\n",
       "    </tr>\n",
       "    <tr>\n",
       "      <th>INTU</th>\n",
       "      <td>Intuit Inc. Common Stock</td>\n",
       "      <td>28.565756</td>\n",
       "      <td>2.20</td>\n",
       "      <td>8.641810</td>\n",
       "      <td>10.407964</td>\n",
       "      <td>29.557716</td>\n",
       "      <td>0.0068</td>\n",
       "    </tr>\n",
       "    <tr>\n",
       "      <th>MSFT</th>\n",
       "      <td>Microsoft Corporation Common Stock</td>\n",
       "      <td>28.336940</td>\n",
       "      <td>2.03</td>\n",
       "      <td>12.345297</td>\n",
       "      <td>12.494633</td>\n",
       "      <td>28.696929</td>\n",
       "      <td>0.0082</td>\n",
       "    </tr>\n",
       "    <tr>\n",
       "      <th>NOW</th>\n",
       "      <td>ServiceNow Inc. Common Stock</td>\n",
       "      <td>50.189460</td>\n",
       "      <td>2.28</td>\n",
       "      <td>18.183138</td>\n",
       "      <td>15.341231</td>\n",
       "      <td>44.300902</td>\n",
       "      <td>NaN</td>\n",
       "    </tr>\n",
       "    <tr>\n",
       "      <th>ORCL</th>\n",
       "      <td>Oracle Corporation Common Stock</td>\n",
       "      <td>18.293270</td>\n",
       "      <td>1.88</td>\n",
       "      <td>131.965320</td>\n",
       "      <td>6.062779</td>\n",
       "      <td>17.621877</td>\n",
       "      <td>0.0140</td>\n",
       "    </tr>\n",
       "    <tr>\n",
       "      <th>PCTY</th>\n",
       "      <td>Paylocity Holding Corporation Common Stock</td>\n",
       "      <td>20.895803</td>\n",
       "      <td>0.81</td>\n",
       "      <td>9.085132</td>\n",
       "      <td>6.509332</td>\n",
       "      <td>24.693837</td>\n",
       "      <td>NaN</td>\n",
       "    </tr>\n",
       "    <tr>\n",
       "      <th>PTC</th>\n",
       "      <td>PTC Inc. Common Stock</td>\n",
       "      <td>25.356667</td>\n",
       "      <td>2.75</td>\n",
       "      <td>6.750977</td>\n",
       "      <td>8.585779</td>\n",
       "      <td>29.596345</td>\n",
       "      <td>0.0148</td>\n",
       "    </tr>\n",
       "    <tr>\n",
       "      <th>SE</th>\n",
       "      <td>Sea Limited American Depositary Shares each re...</td>\n",
       "      <td>39.008476</td>\n",
       "      <td>0.35</td>\n",
       "      <td>4.104691</td>\n",
       "      <td>2.029273</td>\n",
       "      <td>19.328931</td>\n",
       "      <td>NaN</td>\n",
       "    </tr>\n",
       "    <tr>\n",
       "      <th>SNOW</th>\n",
       "      <td>Snowflake Inc. Class A Common Stock</td>\n",
       "      <td>152.596160</td>\n",
       "      <td>3.44</td>\n",
       "      <td>9.871859</td>\n",
       "      <td>21.003176</td>\n",
       "      <td>77.033614</td>\n",
       "      <td>NaN</td>\n",
       "    </tr>\n",
       "    <tr>\n",
       "      <th>SPLK</th>\n",
       "      <td>Splunk Inc. Common Stock</td>\n",
       "      <td>33.212670</td>\n",
       "      <td>1.52</td>\n",
       "      <td>NaN</td>\n",
       "      <td>6.291788</td>\n",
       "      <td>29.933779</td>\n",
       "      <td>NaN</td>\n",
       "    </tr>\n",
       "    <tr>\n",
       "      <th>SQ</th>\n",
       "      <td>Block Inc. Class A Common Stock</td>\n",
       "      <td>16.889610</td>\n",
       "      <td>0.39</td>\n",
       "      <td>1.789720</td>\n",
       "      <td>1.513177</td>\n",
       "      <td>30.496764</td>\n",
       "      <td>NaN</td>\n",
       "    </tr>\n",
       "    <tr>\n",
       "      <th>TTWO</th>\n",
       "      <td>Take-Two Interactive Software Inc. Common Stock</td>\n",
       "      <td>19.879469</td>\n",
       "      <td>0.83</td>\n",
       "      <td>3.026679</td>\n",
       "      <td>4.659010</td>\n",
       "      <td>-302.076996</td>\n",
       "      <td>0.0323</td>\n",
       "    </tr>\n",
       "    <tr>\n",
       "      <th>TYL</th>\n",
       "      <td>Tyler Technologies Inc. Common Stock</td>\n",
       "      <td>47.208620</td>\n",
       "      <td>5.02</td>\n",
       "      <td>6.145468</td>\n",
       "      <td>9.073041</td>\n",
       "      <td>49.424517</td>\n",
       "      <td>0.0116</td>\n",
       "    </tr>\n",
       "    <tr>\n",
       "      <th>VMW</th>\n",
       "      <td>Vmware Inc. Common stock Class A</td>\n",
       "      <td>18.400740</td>\n",
       "      <td>1.94</td>\n",
       "      <td>25.276085</td>\n",
       "      <td>4.683195</td>\n",
       "      <td>12.654365</td>\n",
       "      <td>0.0536</td>\n",
       "    </tr>\n",
       "    <tr>\n",
       "      <th>WDAY</th>\n",
       "      <td>Workday Inc. Class A Common Stock</td>\n",
       "      <td>34.236008</td>\n",
       "      <td>1.40</td>\n",
       "      <td>9.449246</td>\n",
       "      <td>8.702842</td>\n",
       "      <td>25.942350</td>\n",
       "      <td>NaN</td>\n",
       "    </tr>\n",
       "    <tr>\n",
       "      <th>ZI</th>\n",
       "      <td>ZoomInfo Technologies Inc Common Stock</td>\n",
       "      <td>12.676767</td>\n",
       "      <td>1.45</td>\n",
       "      <td>2.193289</td>\n",
       "      <td>4.109365</td>\n",
       "      <td>11.477626</td>\n",
       "      <td>NaN</td>\n",
       "    </tr>\n",
       "    <tr>\n",
       "      <th>ZM</th>\n",
       "      <td>Zoom Video Communications Inc. Class A Common ...</td>\n",
       "      <td>13.495614</td>\n",
       "      <td>66.45</td>\n",
       "      <td>2.644948</td>\n",
       "      <td>4.077657</td>\n",
       "      <td>12.406553</td>\n",
       "      <td>NaN</td>\n",
       "    </tr>\n",
       "  </tbody>\n",
       "</table>\n",
       "</div>"
      ],
      "text/plain": [
       "                                                     Name          PE    PEG  \\\n",
       "Symbol                                                                         \n",
       "ADBE                              Adobe Inc. Common Stock   32.833150   2.54   \n",
       "ADSK                           Autodesk Inc. Common Stock   24.775946   1.89   \n",
       "ANSS                              ANSYS Inc. Common Stock   30.599370   3.20   \n",
       "CDNS             Cadence Design Systems Inc. Common Stock   44.964226   2.58   \n",
       "CRM                          Salesforce Inc. Common Stock   22.926517   1.01   \n",
       "FICO                  Fair Isaac Corproation Common Stock   35.972637   2.39   \n",
       "GEN                         Gen Digital Inc. Common Stock    8.325991   0.80   \n",
       "HUBS                            HubSpot Inc. Common Stock   65.216020   1.77   \n",
       "INTU                             Intuit Inc. Common Stock   28.565756   2.20   \n",
       "MSFT                   Microsoft Corporation Common Stock   28.336940   2.03   \n",
       "NOW                          ServiceNow Inc. Common Stock   50.189460   2.28   \n",
       "ORCL                      Oracle Corporation Common Stock   18.293270   1.88   \n",
       "PCTY           Paylocity Holding Corporation Common Stock   20.895803   0.81   \n",
       "PTC                                 PTC Inc. Common Stock   25.356667   2.75   \n",
       "SE      Sea Limited American Depositary Shares each re...   39.008476   0.35   \n",
       "SNOW                  Snowflake Inc. Class A Common Stock  152.596160   3.44   \n",
       "SPLK                             Splunk Inc. Common Stock   33.212670   1.52   \n",
       "SQ                        Block Inc. Class A Common Stock   16.889610   0.39   \n",
       "TTWO      Take-Two Interactive Software Inc. Common Stock   19.879469   0.83   \n",
       "TYL                  Tyler Technologies Inc. Common Stock   47.208620   5.02   \n",
       "VMW                      Vmware Inc. Common stock Class A   18.400740   1.94   \n",
       "WDAY                    Workday Inc. Class A Common Stock   34.236008   1.40   \n",
       "ZI                 ZoomInfo Technologies Inc Common Stock   12.676767   1.45   \n",
       "ZM      Zoom Video Communications Inc. Class A Common ...   13.495614  66.45   \n",
       "\n",
       "                PB         PS          PC      DY  \n",
       "Symbol                                             \n",
       "ADBE     17.063824  14.361407   33.472204  0.0115  \n",
       "ADSK     37.278210   8.646802   20.067835  0.0196  \n",
       "ANSS      5.047089  11.708377   38.397724  0.1290  \n",
       "CDNS     23.059584  18.142700   53.559318  0.0043  \n",
       "CRM       3.613839   6.402189   24.936600  0.0673  \n",
       "FICO           NaN  16.710744   53.350470  0.0006  \n",
       "GEN       5.018587   3.214832   12.344051  0.0265  \n",
       "HUBS     18.237232  10.381868   64.550320     NaN  \n",
       "INTU      8.641810  10.407964   29.557716  0.0068  \n",
       "MSFT     12.345297  12.494633   28.696929  0.0082  \n",
       "NOW      18.183138  15.341231   44.300902     NaN  \n",
       "ORCL    131.965320   6.062779   17.621877  0.0140  \n",
       "PCTY      9.085132   6.509332   24.693837     NaN  \n",
       "PTC       6.750977   8.585779   29.596345  0.0148  \n",
       "SE        4.104691   2.029273   19.328931     NaN  \n",
       "SNOW      9.871859  21.003176   77.033614     NaN  \n",
       "SPLK           NaN   6.291788   29.933779     NaN  \n",
       "SQ        1.789720   1.513177   30.496764     NaN  \n",
       "TTWO      3.026679   4.659010 -302.076996  0.0323  \n",
       "TYL       6.145468   9.073041   49.424517  0.0116  \n",
       "VMW      25.276085   4.683195   12.654365  0.0536  \n",
       "WDAY      9.449246   8.702842   25.942350     NaN  \n",
       "ZI        2.193289   4.109365   11.477626     NaN  \n",
       "ZM        2.644948   4.077657   12.406553     NaN  "
      ]
     },
     "execution_count": 64,
     "metadata": {},
     "output_type": "execute_result"
    }
   ],
   "source": [
    "df\n",
    "\n",
    "# Show the multiples: "
   ]
  },
  {
   "cell_type": "markdown",
   "metadata": {},
   "source": [
    "----"
   ]
  },
  {
   "cell_type": "markdown",
   "id": "f236b415",
   "metadata": {},
   "source": [
    "# Multiples Valuation\n",
    "\n",
    "> __So far we orgenize the peer group of microsoft (all the biggest computer softer in USA like microsoft) and we calculate all the multiples. Now we can compare the multiples across all the companies!__"
   ]
  },
  {
   "cell_type": "code",
   "execution_count": 65,
   "id": "5cd9c38d",
   "metadata": {},
   "outputs": [],
   "source": [
    "pd.options.display.float_format = '{:.2f}'.format"
   ]
  },
  {
   "cell_type": "code",
   "execution_count": 72,
   "id": "4e2b8e3a",
   "metadata": {},
   "outputs": [
    {
     "data": {
      "text/html": [
       "<div>\n",
       "<style scoped>\n",
       "    .dataframe tbody tr th:only-of-type {\n",
       "        vertical-align: middle;\n",
       "    }\n",
       "\n",
       "    .dataframe tbody tr th {\n",
       "        vertical-align: top;\n",
       "    }\n",
       "\n",
       "    .dataframe thead th {\n",
       "        text-align: right;\n",
       "    }\n",
       "</style>\n",
       "<table border=\"1\" class=\"dataframe\">\n",
       "  <thead>\n",
       "    <tr style=\"text-align: right;\">\n",
       "      <th></th>\n",
       "      <th>Name</th>\n",
       "      <th>PE</th>\n",
       "      <th>PEG</th>\n",
       "      <th>PB</th>\n",
       "      <th>PS</th>\n",
       "      <th>PC</th>\n",
       "      <th>DY</th>\n",
       "    </tr>\n",
       "    <tr>\n",
       "      <th>Symbol</th>\n",
       "      <th></th>\n",
       "      <th></th>\n",
       "      <th></th>\n",
       "      <th></th>\n",
       "      <th></th>\n",
       "      <th></th>\n",
       "      <th></th>\n",
       "    </tr>\n",
       "  </thead>\n",
       "  <tbody>\n",
       "    <tr>\n",
       "      <th>ADBE</th>\n",
       "      <td>Adobe Inc. Common Stock</td>\n",
       "      <td>32.83</td>\n",
       "      <td>2.54</td>\n",
       "      <td>17.06</td>\n",
       "      <td>14.36</td>\n",
       "      <td>33.47</td>\n",
       "      <td>0.01</td>\n",
       "    </tr>\n",
       "    <tr>\n",
       "      <th>ADSK</th>\n",
       "      <td>Autodesk Inc. Common Stock</td>\n",
       "      <td>24.78</td>\n",
       "      <td>1.89</td>\n",
       "      <td>37.28</td>\n",
       "      <td>8.65</td>\n",
       "      <td>20.07</td>\n",
       "      <td>0.02</td>\n",
       "    </tr>\n",
       "    <tr>\n",
       "      <th>ANSS</th>\n",
       "      <td>ANSYS Inc. Common Stock</td>\n",
       "      <td>30.60</td>\n",
       "      <td>3.20</td>\n",
       "      <td>5.05</td>\n",
       "      <td>11.71</td>\n",
       "      <td>38.40</td>\n",
       "      <td>0.13</td>\n",
       "    </tr>\n",
       "    <tr>\n",
       "      <th>CDNS</th>\n",
       "      <td>Cadence Design Systems Inc. Common Stock</td>\n",
       "      <td>44.96</td>\n",
       "      <td>2.58</td>\n",
       "      <td>23.06</td>\n",
       "      <td>18.14</td>\n",
       "      <td>53.56</td>\n",
       "      <td>0.00</td>\n",
       "    </tr>\n",
       "    <tr>\n",
       "      <th>CRM</th>\n",
       "      <td>Salesforce Inc. Common Stock</td>\n",
       "      <td>22.93</td>\n",
       "      <td>1.01</td>\n",
       "      <td>3.61</td>\n",
       "      <td>6.40</td>\n",
       "      <td>24.94</td>\n",
       "      <td>0.07</td>\n",
       "    </tr>\n",
       "    <tr>\n",
       "      <th>FICO</th>\n",
       "      <td>Fair Isaac Corproation Common Stock</td>\n",
       "      <td>35.97</td>\n",
       "      <td>2.39</td>\n",
       "      <td>NaN</td>\n",
       "      <td>16.71</td>\n",
       "      <td>53.35</td>\n",
       "      <td>0.00</td>\n",
       "    </tr>\n",
       "    <tr>\n",
       "      <th>GEN</th>\n",
       "      <td>Gen Digital Inc. Common Stock</td>\n",
       "      <td>8.33</td>\n",
       "      <td>0.80</td>\n",
       "      <td>5.02</td>\n",
       "      <td>3.21</td>\n",
       "      <td>12.34</td>\n",
       "      <td>0.03</td>\n",
       "    </tr>\n",
       "    <tr>\n",
       "      <th>HUBS</th>\n",
       "      <td>HubSpot Inc. Common Stock</td>\n",
       "      <td>65.22</td>\n",
       "      <td>1.77</td>\n",
       "      <td>18.24</td>\n",
       "      <td>10.38</td>\n",
       "      <td>64.55</td>\n",
       "      <td>NaN</td>\n",
       "    </tr>\n",
       "    <tr>\n",
       "      <th>INTU</th>\n",
       "      <td>Intuit Inc. Common Stock</td>\n",
       "      <td>28.57</td>\n",
       "      <td>2.20</td>\n",
       "      <td>8.64</td>\n",
       "      <td>10.41</td>\n",
       "      <td>29.56</td>\n",
       "      <td>0.01</td>\n",
       "    </tr>\n",
       "    <tr>\n",
       "      <th>MSFT</th>\n",
       "      <td>Microsoft Corporation Common Stock</td>\n",
       "      <td>28.34</td>\n",
       "      <td>2.03</td>\n",
       "      <td>12.35</td>\n",
       "      <td>12.49</td>\n",
       "      <td>28.70</td>\n",
       "      <td>0.01</td>\n",
       "    </tr>\n",
       "    <tr>\n",
       "      <th>NOW</th>\n",
       "      <td>ServiceNow Inc. Common Stock</td>\n",
       "      <td>50.19</td>\n",
       "      <td>2.28</td>\n",
       "      <td>18.18</td>\n",
       "      <td>15.34</td>\n",
       "      <td>44.30</td>\n",
       "      <td>NaN</td>\n",
       "    </tr>\n",
       "    <tr>\n",
       "      <th>ORCL</th>\n",
       "      <td>Oracle Corporation Common Stock</td>\n",
       "      <td>18.29</td>\n",
       "      <td>1.88</td>\n",
       "      <td>131.97</td>\n",
       "      <td>6.06</td>\n",
       "      <td>17.62</td>\n",
       "      <td>0.01</td>\n",
       "    </tr>\n",
       "    <tr>\n",
       "      <th>PCTY</th>\n",
       "      <td>Paylocity Holding Corporation Common Stock</td>\n",
       "      <td>20.90</td>\n",
       "      <td>0.81</td>\n",
       "      <td>9.09</td>\n",
       "      <td>6.51</td>\n",
       "      <td>24.69</td>\n",
       "      <td>NaN</td>\n",
       "    </tr>\n",
       "    <tr>\n",
       "      <th>PTC</th>\n",
       "      <td>PTC Inc. Common Stock</td>\n",
       "      <td>25.36</td>\n",
       "      <td>2.75</td>\n",
       "      <td>6.75</td>\n",
       "      <td>8.59</td>\n",
       "      <td>29.60</td>\n",
       "      <td>0.01</td>\n",
       "    </tr>\n",
       "    <tr>\n",
       "      <th>SE</th>\n",
       "      <td>Sea Limited American Depositary Shares each re...</td>\n",
       "      <td>39.01</td>\n",
       "      <td>0.35</td>\n",
       "      <td>4.10</td>\n",
       "      <td>2.03</td>\n",
       "      <td>19.33</td>\n",
       "      <td>NaN</td>\n",
       "    </tr>\n",
       "    <tr>\n",
       "      <th>SNOW</th>\n",
       "      <td>Snowflake Inc. Class A Common Stock</td>\n",
       "      <td>152.60</td>\n",
       "      <td>3.44</td>\n",
       "      <td>9.87</td>\n",
       "      <td>21.00</td>\n",
       "      <td>77.03</td>\n",
       "      <td>NaN</td>\n",
       "    </tr>\n",
       "    <tr>\n",
       "      <th>SPLK</th>\n",
       "      <td>Splunk Inc. Common Stock</td>\n",
       "      <td>33.21</td>\n",
       "      <td>1.52</td>\n",
       "      <td>NaN</td>\n",
       "      <td>6.29</td>\n",
       "      <td>29.93</td>\n",
       "      <td>NaN</td>\n",
       "    </tr>\n",
       "    <tr>\n",
       "      <th>SQ</th>\n",
       "      <td>Block Inc. Class A Common Stock</td>\n",
       "      <td>16.89</td>\n",
       "      <td>0.39</td>\n",
       "      <td>1.79</td>\n",
       "      <td>1.51</td>\n",
       "      <td>30.50</td>\n",
       "      <td>NaN</td>\n",
       "    </tr>\n",
       "    <tr>\n",
       "      <th>TTWO</th>\n",
       "      <td>Take-Two Interactive Software Inc. Common Stock</td>\n",
       "      <td>19.88</td>\n",
       "      <td>0.83</td>\n",
       "      <td>3.03</td>\n",
       "      <td>4.66</td>\n",
       "      <td>-302.08</td>\n",
       "      <td>0.03</td>\n",
       "    </tr>\n",
       "    <tr>\n",
       "      <th>TYL</th>\n",
       "      <td>Tyler Technologies Inc. Common Stock</td>\n",
       "      <td>47.21</td>\n",
       "      <td>5.02</td>\n",
       "      <td>6.15</td>\n",
       "      <td>9.07</td>\n",
       "      <td>49.42</td>\n",
       "      <td>0.01</td>\n",
       "    </tr>\n",
       "    <tr>\n",
       "      <th>VMW</th>\n",
       "      <td>Vmware Inc. Common stock Class A</td>\n",
       "      <td>18.40</td>\n",
       "      <td>1.94</td>\n",
       "      <td>25.28</td>\n",
       "      <td>4.68</td>\n",
       "      <td>12.65</td>\n",
       "      <td>0.05</td>\n",
       "    </tr>\n",
       "    <tr>\n",
       "      <th>WDAY</th>\n",
       "      <td>Workday Inc. Class A Common Stock</td>\n",
       "      <td>34.24</td>\n",
       "      <td>1.40</td>\n",
       "      <td>9.45</td>\n",
       "      <td>8.70</td>\n",
       "      <td>25.94</td>\n",
       "      <td>NaN</td>\n",
       "    </tr>\n",
       "    <tr>\n",
       "      <th>ZI</th>\n",
       "      <td>ZoomInfo Technologies Inc Common Stock</td>\n",
       "      <td>12.68</td>\n",
       "      <td>1.45</td>\n",
       "      <td>2.19</td>\n",
       "      <td>4.11</td>\n",
       "      <td>11.48</td>\n",
       "      <td>NaN</td>\n",
       "    </tr>\n",
       "    <tr>\n",
       "      <th>ZM</th>\n",
       "      <td>Zoom Video Communications Inc. Class A Common ...</td>\n",
       "      <td>13.50</td>\n",
       "      <td>66.45</td>\n",
       "      <td>2.64</td>\n",
       "      <td>4.08</td>\n",
       "      <td>12.41</td>\n",
       "      <td>NaN</td>\n",
       "    </tr>\n",
       "  </tbody>\n",
       "</table>\n",
       "</div>"
      ],
      "text/plain": [
       "                                                     Name     PE   PEG     PB  \\\n",
       "Symbol                                                                          \n",
       "ADBE                              Adobe Inc. Common Stock  32.83  2.54  17.06   \n",
       "ADSK                           Autodesk Inc. Common Stock  24.78  1.89  37.28   \n",
       "ANSS                              ANSYS Inc. Common Stock  30.60  3.20   5.05   \n",
       "CDNS             Cadence Design Systems Inc. Common Stock  44.96  2.58  23.06   \n",
       "CRM                          Salesforce Inc. Common Stock  22.93  1.01   3.61   \n",
       "FICO                  Fair Isaac Corproation Common Stock  35.97  2.39    NaN   \n",
       "GEN                         Gen Digital Inc. Common Stock   8.33  0.80   5.02   \n",
       "HUBS                            HubSpot Inc. Common Stock  65.22  1.77  18.24   \n",
       "INTU                             Intuit Inc. Common Stock  28.57  2.20   8.64   \n",
       "MSFT                   Microsoft Corporation Common Stock  28.34  2.03  12.35   \n",
       "NOW                          ServiceNow Inc. Common Stock  50.19  2.28  18.18   \n",
       "ORCL                      Oracle Corporation Common Stock  18.29  1.88 131.97   \n",
       "PCTY           Paylocity Holding Corporation Common Stock  20.90  0.81   9.09   \n",
       "PTC                                 PTC Inc. Common Stock  25.36  2.75   6.75   \n",
       "SE      Sea Limited American Depositary Shares each re...  39.01  0.35   4.10   \n",
       "SNOW                  Snowflake Inc. Class A Common Stock 152.60  3.44   9.87   \n",
       "SPLK                             Splunk Inc. Common Stock  33.21  1.52    NaN   \n",
       "SQ                        Block Inc. Class A Common Stock  16.89  0.39   1.79   \n",
       "TTWO      Take-Two Interactive Software Inc. Common Stock  19.88  0.83   3.03   \n",
       "TYL                  Tyler Technologies Inc. Common Stock  47.21  5.02   6.15   \n",
       "VMW                      Vmware Inc. Common stock Class A  18.40  1.94  25.28   \n",
       "WDAY                    Workday Inc. Class A Common Stock  34.24  1.40   9.45   \n",
       "ZI                 ZoomInfo Technologies Inc Common Stock  12.68  1.45   2.19   \n",
       "ZM      Zoom Video Communications Inc. Class A Common ...  13.50 66.45   2.64   \n",
       "\n",
       "          PS      PC   DY  \n",
       "Symbol                     \n",
       "ADBE   14.36   33.47 0.01  \n",
       "ADSK    8.65   20.07 0.02  \n",
       "ANSS   11.71   38.40 0.13  \n",
       "CDNS   18.14   53.56 0.00  \n",
       "CRM     6.40   24.94 0.07  \n",
       "FICO   16.71   53.35 0.00  \n",
       "GEN     3.21   12.34 0.03  \n",
       "HUBS   10.38   64.55  NaN  \n",
       "INTU   10.41   29.56 0.01  \n",
       "MSFT   12.49   28.70 0.01  \n",
       "NOW    15.34   44.30  NaN  \n",
       "ORCL    6.06   17.62 0.01  \n",
       "PCTY    6.51   24.69  NaN  \n",
       "PTC     8.59   29.60 0.01  \n",
       "SE      2.03   19.33  NaN  \n",
       "SNOW   21.00   77.03  NaN  \n",
       "SPLK    6.29   29.93  NaN  \n",
       "SQ      1.51   30.50  NaN  \n",
       "TTWO    4.66 -302.08 0.03  \n",
       "TYL     9.07   49.42 0.01  \n",
       "VMW     4.68   12.65 0.05  \n",
       "WDAY    8.70   25.94  NaN  \n",
       "ZI      4.11   11.48  NaN  \n",
       "ZM      4.08   12.41  NaN  "
      ]
     },
     "execution_count": 72,
     "metadata": {},
     "output_type": "execute_result"
    }
   ],
   "source": [
    "df\n",
    "# Remind our self about the df of all the companies and their multiples:"
   ]
  },
  {
   "cell_type": "markdown",
   "id": "b7615a58",
   "metadata": {},
   "source": [
    "__Calculate \"Average\" Peer Group Multiples (Median!)__"
   ]
  },
  {
   "cell_type": "code",
   "execution_count": 67,
   "id": "1d7f0f4b",
   "metadata": {},
   "outputs": [
    {
     "data": {
      "text/plain": [
       "PE    28.57\n",
       "PEG    1.89\n",
       "PB     8.64\n",
       "PS     8.59\n",
       "PC    29.56\n",
       "DY     0.01\n",
       "dtype: float64"
      ]
     },
     "execution_count": 67,
     "metadata": {},
     "output_type": "execute_result"
    }
   ],
   "source": [
    "# Let's find the company (exclude microsoft,\n",
    "# becase we calculate the valuation for Microsoft in the cell below.)\n",
    "# in the median (we calculate median),\n",
    "# and see this company multiples! \n",
    "\n",
    "pm = df.drop(labels = [\"MSFT\"]\n",
    ").median(numeric_only = True)\n",
    "pm"
   ]
  },
  {
   "cell_type": "code",
   "execution_count": 68,
   "id": "6f14d123",
   "metadata": {},
   "outputs": [
    {
     "data": {
      "text/plain": [
       "array([369.64087901, 341.39172414, 256.67903257, 251.96684989,\n",
       "       377.67886123, 203.16054054])"
      ]
     },
     "execution_count": 68,
     "metadata": {},
     "output_type": "execute_result"
    }
   ],
   "source": [
    "# calculate the valuation for Microsoft.\n",
    "# the earnings, growth, book, cashflow - is all microsoft parameters.\n",
    "# we calculate those microsoft parameter with the\n",
    "# multiples of the median company (avarage company)\n",
    "\n",
    "valuation = np.array([pm.PE * earnings, pm.PEG * growth * earnings,\n",
    "                      pm.PB * book, pm.PS * sales, pm.PC * cashflow, div / pm.DY])\n",
    "valuation\n",
    "\n",
    "# So for each multiple, we get one fair value estimate for Microsoft.\n",
    "\n",
    "# Now you can compare those values to microsoft values, and compare. "
   ]
  },
  {
   "cell_type": "code",
   "execution_count": 69,
   "id": "1b45602a",
   "metadata": {},
   "outputs": [
    {
     "data": {
      "text/plain": [
       "PE    369.64\n",
       "PEG   341.39\n",
       "PB    256.68\n",
       "PS    251.97\n",
       "PC    377.68\n",
       "DY    203.16\n",
       "dtype: float64"
      ]
     },
     "execution_count": 69,
     "metadata": {},
     "output_type": "execute_result"
    }
   ],
   "source": [
    "valuation = pd.Series(index = pm.index, data = valuation)\n",
    "valuation"
   ]
  },
  {
   "cell_type": "code",
   "execution_count": 70,
   "id": "213f2821",
   "metadata": {},
   "outputs": [
    {
     "data": {
      "text/plain": [
       "366.68"
      ]
     },
     "execution_count": 70,
     "metadata": {},
     "output_type": "execute_result"
    }
   ],
   "source": [
    "current_price"
   ]
  },
  {
   "cell_type": "code",
   "execution_count": 71,
   "id": "8c66dce6",
   "metadata": {},
   "outputs": [
    {
     "data": {
      "text/plain": [
       "300.08631456376577"
      ]
     },
     "execution_count": 71,
     "metadata": {},
     "output_type": "execute_result"
    }
   ],
   "source": [
    "valuation.mean()"
   ]
  },
  {
   "cell_type": "markdown",
   "id": "52ce5d86",
   "metadata": {},
   "source": [
    "- MSFT´s Multiples Value is close to the Price\n",
    "- Is MSFT over-/ undervalued? \n",
    "- If semi-strong EMH holds: No (Price Multiples are publicly available information)\n",
    "- There might be factors justifying a Price Premium/Discount (latest news, qualitative factors)\n",
    "- Price Multiples should be used together and in combination with other valuation/analysis tools."
   ]
  }
 ],
 "metadata": {
  "kernelspec": {
   "display_name": "Python 3 (ipykernel)",
   "language": "python",
   "name": "python3"
  },
  "language_info": {
   "codemirror_mode": {
    "name": "ipython",
    "version": 3
   },
   "file_extension": ".py",
   "mimetype": "text/x-python",
   "name": "python",
   "nbconvert_exporter": "python",
   "pygments_lexer": "ipython3",
   "version": "3.11.3"
  }
 },
 "nbformat": 4,
 "nbformat_minor": 5
}
