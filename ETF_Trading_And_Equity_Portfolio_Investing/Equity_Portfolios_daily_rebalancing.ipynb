{
 "cells": [
  {
   "cell_type": "markdown",
   "id": "3dec88eb",
   "metadata": {},
   "source": [
    "# Creating & Analyzing Equity Portfolios (with rebalancing)\n",
    "\n",
    "> __Our goal is to create an optimal portfolio, and re-balancing the weigths over time - for save to optimization over time.__"
   ]
  },
  {
   "cell_type": "markdown",
   "metadata": {},
   "source": [
    "---"
   ]
  },
  {
   "cell_type": "markdown",
   "id": "c833d1fa",
   "metadata": {},
   "source": [
    "# Getting started"
   ]
  },
  {
   "cell_type": "code",
   "execution_count": 1,
   "id": "dcc56de6",
   "metadata": {},
   "outputs": [],
   "source": [
    "import pandas as pd\n",
    "import numpy as np\n",
    "import matplotlib.pyplot as plt\n",
    "plt.style.use(\"seaborn-v0_8\")"
   ]
  },
  {
   "cell_type": "code",
   "execution_count": 2,
   "id": "68d34ec2",
   "metadata": {},
   "outputs": [
    {
     "data": {
      "text/html": [
       "<div>\n",
       "<style scoped>\n",
       "    .dataframe tbody tr th:only-of-type {\n",
       "        vertical-align: middle;\n",
       "    }\n",
       "\n",
       "    .dataframe tbody tr th {\n",
       "        vertical-align: top;\n",
       "    }\n",
       "\n",
       "    .dataframe thead th {\n",
       "        text-align: right;\n",
       "    }\n",
       "</style>\n",
       "<table border=\"1\" class=\"dataframe\">\n",
       "  <thead>\n",
       "    <tr style=\"text-align: right;\">\n",
       "      <th></th>\n",
       "      <th>AAPL</th>\n",
       "      <th>BA</th>\n",
       "      <th>DIS</th>\n",
       "      <th>GE</th>\n",
       "      <th>JPM</th>\n",
       "      <th>MSFT</th>\n",
       "      <th>TSLA</th>\n",
       "      <th>WMT</th>\n",
       "    </tr>\n",
       "    <tr>\n",
       "      <th>Date</th>\n",
       "      <th></th>\n",
       "      <th></th>\n",
       "      <th></th>\n",
       "      <th></th>\n",
       "      <th></th>\n",
       "      <th></th>\n",
       "      <th></th>\n",
       "      <th></th>\n",
       "    </tr>\n",
       "  </thead>\n",
       "  <tbody>\n",
       "    <tr>\n",
       "      <th>2017-07-03</th>\n",
       "      <td>35.875000</td>\n",
       "      <td>198.589996</td>\n",
       "      <td>107.459999</td>\n",
       "      <td>211.153839</td>\n",
       "      <td>92.750000</td>\n",
       "      <td>68.169998</td>\n",
       "      <td>23.507999</td>\n",
       "      <td>75.360001</td>\n",
       "    </tr>\n",
       "    <tr>\n",
       "      <th>2017-07-05</th>\n",
       "      <td>36.022499</td>\n",
       "      <td>201.809998</td>\n",
       "      <td>105.629997</td>\n",
       "      <td>210.384613</td>\n",
       "      <td>93.680000</td>\n",
       "      <td>69.080002</td>\n",
       "      <td>21.806000</td>\n",
       "      <td>75.320000</td>\n",
       "    </tr>\n",
       "    <tr>\n",
       "      <th>2017-07-06</th>\n",
       "      <td>35.682499</td>\n",
       "      <td>201.479996</td>\n",
       "      <td>103.349998</td>\n",
       "      <td>202.384613</td>\n",
       "      <td>93.379997</td>\n",
       "      <td>68.570000</td>\n",
       "      <td>20.588667</td>\n",
       "      <td>75.470001</td>\n",
       "    </tr>\n",
       "    <tr>\n",
       "      <th>2017-07-07</th>\n",
       "      <td>36.044998</td>\n",
       "      <td>202.369995</td>\n",
       "      <td>103.320000</td>\n",
       "      <td>201.153839</td>\n",
       "      <td>93.849998</td>\n",
       "      <td>69.459999</td>\n",
       "      <td>20.881332</td>\n",
       "      <td>75.330002</td>\n",
       "    </tr>\n",
       "    <tr>\n",
       "      <th>2017-07-10</th>\n",
       "      <td>36.264999</td>\n",
       "      <td>203.960007</td>\n",
       "      <td>103.589996</td>\n",
       "      <td>200.307693</td>\n",
       "      <td>93.190002</td>\n",
       "      <td>69.980003</td>\n",
       "      <td>21.070000</td>\n",
       "      <td>73.230003</td>\n",
       "    </tr>\n",
       "    <tr>\n",
       "      <th>...</th>\n",
       "      <td>...</td>\n",
       "      <td>...</td>\n",
       "      <td>...</td>\n",
       "      <td>...</td>\n",
       "      <td>...</td>\n",
       "      <td>...</td>\n",
       "      <td>...</td>\n",
       "      <td>...</td>\n",
       "    </tr>\n",
       "    <tr>\n",
       "      <th>2022-06-24</th>\n",
       "      <td>141.660004</td>\n",
       "      <td>141.529999</td>\n",
       "      <td>97.779999</td>\n",
       "      <td>67.080002</td>\n",
       "      <td>117.320000</td>\n",
       "      <td>267.700012</td>\n",
       "      <td>245.706665</td>\n",
       "      <td>123.720001</td>\n",
       "    </tr>\n",
       "    <tr>\n",
       "      <th>2022-06-27</th>\n",
       "      <td>141.660004</td>\n",
       "      <td>138.720001</td>\n",
       "      <td>96.610001</td>\n",
       "      <td>66.709999</td>\n",
       "      <td>116.379997</td>\n",
       "      <td>264.890015</td>\n",
       "      <td>244.919998</td>\n",
       "      <td>124.120003</td>\n",
       "    </tr>\n",
       "    <tr>\n",
       "      <th>2022-06-28</th>\n",
       "      <td>137.440002</td>\n",
       "      <td>138.699997</td>\n",
       "      <td>95.919998</td>\n",
       "      <td>65.879997</td>\n",
       "      <td>115.820000</td>\n",
       "      <td>256.480011</td>\n",
       "      <td>232.663330</td>\n",
       "      <td>122.370003</td>\n",
       "    </tr>\n",
       "    <tr>\n",
       "      <th>2022-06-29</th>\n",
       "      <td>139.229996</td>\n",
       "      <td>138.449997</td>\n",
       "      <td>95.650002</td>\n",
       "      <td>63.689999</td>\n",
       "      <td>115.300003</td>\n",
       "      <td>260.260010</td>\n",
       "      <td>228.490005</td>\n",
       "      <td>121.919998</td>\n",
       "    </tr>\n",
       "    <tr>\n",
       "      <th>2022-06-30</th>\n",
       "      <td>136.720001</td>\n",
       "      <td>136.720001</td>\n",
       "      <td>94.400002</td>\n",
       "      <td>63.669998</td>\n",
       "      <td>112.610001</td>\n",
       "      <td>256.829987</td>\n",
       "      <td>224.473328</td>\n",
       "      <td>121.580002</td>\n",
       "    </tr>\n",
       "  </tbody>\n",
       "</table>\n",
       "<p>1258 rows × 8 columns</p>\n",
       "</div>"
      ],
      "text/plain": [
       "                  AAPL          BA         DIS          GE         JPM  \\\n",
       "Date                                                                     \n",
       "2017-07-03   35.875000  198.589996  107.459999  211.153839   92.750000   \n",
       "2017-07-05   36.022499  201.809998  105.629997  210.384613   93.680000   \n",
       "2017-07-06   35.682499  201.479996  103.349998  202.384613   93.379997   \n",
       "2017-07-07   36.044998  202.369995  103.320000  201.153839   93.849998   \n",
       "2017-07-10   36.264999  203.960007  103.589996  200.307693   93.190002   \n",
       "...                ...         ...         ...         ...         ...   \n",
       "2022-06-24  141.660004  141.529999   97.779999   67.080002  117.320000   \n",
       "2022-06-27  141.660004  138.720001   96.610001   66.709999  116.379997   \n",
       "2022-06-28  137.440002  138.699997   95.919998   65.879997  115.820000   \n",
       "2022-06-29  139.229996  138.449997   95.650002   63.689999  115.300003   \n",
       "2022-06-30  136.720001  136.720001   94.400002   63.669998  112.610001   \n",
       "\n",
       "                  MSFT        TSLA         WMT  \n",
       "Date                                            \n",
       "2017-07-03   68.169998   23.507999   75.360001  \n",
       "2017-07-05   69.080002   21.806000   75.320000  \n",
       "2017-07-06   68.570000   20.588667   75.470001  \n",
       "2017-07-07   69.459999   20.881332   75.330002  \n",
       "2017-07-10   69.980003   21.070000   73.230003  \n",
       "...                ...         ...         ...  \n",
       "2022-06-24  267.700012  245.706665  123.720001  \n",
       "2022-06-27  264.890015  244.919998  124.120003  \n",
       "2022-06-28  256.480011  232.663330  122.370003  \n",
       "2022-06-29  260.260010  228.490005  121.919998  \n",
       "2022-06-30  256.829987  224.473328  121.580002  \n",
       "\n",
       "[1258 rows x 8 columns]"
      ]
     },
     "execution_count": 2,
     "metadata": {},
     "output_type": "execute_result"
    }
   ],
   "source": [
    "prices = pd.read_csv(\"stocks.csv\", index_col = \"Date\", parse_dates = [\"Date\"])\n",
    "prices"
   ]
  },
  {
   "cell_type": "code",
   "execution_count": 7,
   "id": "7d8fe524",
   "metadata": {},
   "outputs": [
    {
     "data": {
      "text/html": [
       "<div>\n",
       "<style scoped>\n",
       "    .dataframe tbody tr th:only-of-type {\n",
       "        vertical-align: middle;\n",
       "    }\n",
       "\n",
       "    .dataframe tbody tr th {\n",
       "        vertical-align: top;\n",
       "    }\n",
       "\n",
       "    .dataframe thead th {\n",
       "        text-align: right;\n",
       "    }\n",
       "</style>\n",
       "<table border=\"1\" class=\"dataframe\">\n",
       "  <thead>\n",
       "    <tr style=\"text-align: right;\">\n",
       "      <th></th>\n",
       "      <th>AAPL</th>\n",
       "      <th>BA</th>\n",
       "      <th>DIS</th>\n",
       "      <th>GE</th>\n",
       "      <th>JPM</th>\n",
       "      <th>MSFT</th>\n",
       "      <th>TSLA</th>\n",
       "      <th>WMT</th>\n",
       "    </tr>\n",
       "    <tr>\n",
       "      <th>Date</th>\n",
       "      <th></th>\n",
       "      <th></th>\n",
       "      <th></th>\n",
       "      <th></th>\n",
       "      <th></th>\n",
       "      <th></th>\n",
       "      <th></th>\n",
       "      <th></th>\n",
       "    </tr>\n",
       "  </thead>\n",
       "  <tbody>\n",
       "    <tr>\n",
       "      <th>2017-07-05</th>\n",
       "      <td>0.004111</td>\n",
       "      <td>0.016214</td>\n",
       "      <td>-0.017030</td>\n",
       "      <td>-0.003643</td>\n",
       "      <td>0.010027</td>\n",
       "      <td>0.013349</td>\n",
       "      <td>-0.072401</td>\n",
       "      <td>-0.000531</td>\n",
       "    </tr>\n",
       "    <tr>\n",
       "      <th>2017-07-06</th>\n",
       "      <td>-0.009439</td>\n",
       "      <td>-0.001635</td>\n",
       "      <td>-0.021585</td>\n",
       "      <td>-0.038026</td>\n",
       "      <td>-0.003202</td>\n",
       "      <td>-0.007383</td>\n",
       "      <td>-0.055826</td>\n",
       "      <td>0.001992</td>\n",
       "    </tr>\n",
       "    <tr>\n",
       "      <th>2017-07-07</th>\n",
       "      <td>0.010159</td>\n",
       "      <td>0.004417</td>\n",
       "      <td>-0.000290</td>\n",
       "      <td>-0.006081</td>\n",
       "      <td>0.005033</td>\n",
       "      <td>0.012979</td>\n",
       "      <td>0.014215</td>\n",
       "      <td>-0.001855</td>\n",
       "    </tr>\n",
       "    <tr>\n",
       "      <th>2017-07-10</th>\n",
       "      <td>0.006104</td>\n",
       "      <td>0.007857</td>\n",
       "      <td>0.002613</td>\n",
       "      <td>-0.004206</td>\n",
       "      <td>-0.007032</td>\n",
       "      <td>0.007486</td>\n",
       "      <td>0.009035</td>\n",
       "      <td>-0.027877</td>\n",
       "    </tr>\n",
       "    <tr>\n",
       "      <th>2017-07-11</th>\n",
       "      <td>0.003240</td>\n",
       "      <td>0.011326</td>\n",
       "      <td>0.002413</td>\n",
       "      <td>0.013057</td>\n",
       "      <td>-0.003863</td>\n",
       "      <td>0.000143</td>\n",
       "      <td>0.035343</td>\n",
       "      <td>0.003277</td>\n",
       "    </tr>\n",
       "    <tr>\n",
       "      <th>...</th>\n",
       "      <td>...</td>\n",
       "      <td>...</td>\n",
       "      <td>...</td>\n",
       "      <td>...</td>\n",
       "      <td>...</td>\n",
       "      <td>...</td>\n",
       "      <td>...</td>\n",
       "      <td>...</td>\n",
       "    </tr>\n",
       "    <tr>\n",
       "      <th>2022-06-24</th>\n",
       "      <td>0.024517</td>\n",
       "      <td>0.056431</td>\n",
       "      <td>0.036903</td>\n",
       "      <td>0.046980</td>\n",
       "      <td>0.029846</td>\n",
       "      <td>0.034150</td>\n",
       "      <td>0.045249</td>\n",
       "      <td>0.000809</td>\n",
       "    </tr>\n",
       "    <tr>\n",
       "      <th>2022-06-27</th>\n",
       "      <td>0.000000</td>\n",
       "      <td>-0.019854</td>\n",
       "      <td>-0.011966</td>\n",
       "      <td>-0.005516</td>\n",
       "      <td>-0.008012</td>\n",
       "      <td>-0.010497</td>\n",
       "      <td>-0.003202</td>\n",
       "      <td>0.003233</td>\n",
       "    </tr>\n",
       "    <tr>\n",
       "      <th>2022-06-28</th>\n",
       "      <td>-0.029790</td>\n",
       "      <td>-0.000144</td>\n",
       "      <td>-0.007142</td>\n",
       "      <td>-0.012442</td>\n",
       "      <td>-0.004812</td>\n",
       "      <td>-0.031749</td>\n",
       "      <td>-0.050044</td>\n",
       "      <td>-0.014099</td>\n",
       "    </tr>\n",
       "    <tr>\n",
       "      <th>2022-06-29</th>\n",
       "      <td>0.013024</td>\n",
       "      <td>-0.001802</td>\n",
       "      <td>-0.002815</td>\n",
       "      <td>-0.033242</td>\n",
       "      <td>-0.004490</td>\n",
       "      <td>0.014738</td>\n",
       "      <td>-0.017937</td>\n",
       "      <td>-0.003677</td>\n",
       "    </tr>\n",
       "    <tr>\n",
       "      <th>2022-06-30</th>\n",
       "      <td>-0.018028</td>\n",
       "      <td>-0.012495</td>\n",
       "      <td>-0.013068</td>\n",
       "      <td>-0.000314</td>\n",
       "      <td>-0.023330</td>\n",
       "      <td>-0.013179</td>\n",
       "      <td>-0.017579</td>\n",
       "      <td>-0.002789</td>\n",
       "    </tr>\n",
       "  </tbody>\n",
       "</table>\n",
       "<p>1257 rows × 8 columns</p>\n",
       "</div>"
      ],
      "text/plain": [
       "                AAPL        BA       DIS        GE       JPM      MSFT  \\\n",
       "Date                                                                     \n",
       "2017-07-05  0.004111  0.016214 -0.017030 -0.003643  0.010027  0.013349   \n",
       "2017-07-06 -0.009439 -0.001635 -0.021585 -0.038026 -0.003202 -0.007383   \n",
       "2017-07-07  0.010159  0.004417 -0.000290 -0.006081  0.005033  0.012979   \n",
       "2017-07-10  0.006104  0.007857  0.002613 -0.004206 -0.007032  0.007486   \n",
       "2017-07-11  0.003240  0.011326  0.002413  0.013057 -0.003863  0.000143   \n",
       "...              ...       ...       ...       ...       ...       ...   \n",
       "2022-06-24  0.024517  0.056431  0.036903  0.046980  0.029846  0.034150   \n",
       "2022-06-27  0.000000 -0.019854 -0.011966 -0.005516 -0.008012 -0.010497   \n",
       "2022-06-28 -0.029790 -0.000144 -0.007142 -0.012442 -0.004812 -0.031749   \n",
       "2022-06-29  0.013024 -0.001802 -0.002815 -0.033242 -0.004490  0.014738   \n",
       "2022-06-30 -0.018028 -0.012495 -0.013068 -0.000314 -0.023330 -0.013179   \n",
       "\n",
       "                TSLA       WMT  \n",
       "Date                            \n",
       "2017-07-05 -0.072401 -0.000531  \n",
       "2017-07-06 -0.055826  0.001992  \n",
       "2017-07-07  0.014215 -0.001855  \n",
       "2017-07-10  0.009035 -0.027877  \n",
       "2017-07-11  0.035343  0.003277  \n",
       "...              ...       ...  \n",
       "2022-06-24  0.045249  0.000809  \n",
       "2022-06-27 -0.003202  0.003233  \n",
       "2022-06-28 -0.050044 -0.014099  \n",
       "2022-06-29 -0.017937 -0.003677  \n",
       "2022-06-30 -0.017579 -0.002789  \n",
       "\n",
       "[1257 rows x 8 columns]"
      ]
     },
     "execution_count": 7,
     "metadata": {},
     "output_type": "execute_result"
    }
   ],
   "source": [
    "returns = prices.pct_change().dropna() \n",
    "returns"
   ]
  },
  {
   "cell_type": "code",
   "execution_count": 8,
   "id": "4c2cfa79",
   "metadata": {},
   "outputs": [
    {
     "name": "stdout",
     "output_type": "stream",
     "text": [
      "<class 'pandas.core.frame.DataFrame'>\n",
      "DatetimeIndex: 1257 entries, 2017-07-05 to 2022-06-30\n",
      "Data columns (total 8 columns):\n",
      " #   Column  Non-Null Count  Dtype  \n",
      "---  ------  --------------  -----  \n",
      " 0   AAPL    1257 non-null   float64\n",
      " 1   BA      1257 non-null   float64\n",
      " 2   DIS     1257 non-null   float64\n",
      " 3   GE      1257 non-null   float64\n",
      " 4   JPM     1257 non-null   float64\n",
      " 5   MSFT    1257 non-null   float64\n",
      " 6   TSLA    1257 non-null   float64\n",
      " 7   WMT     1257 non-null   float64\n",
      "dtypes: float64(8)\n",
      "memory usage: 88.4 KB\n"
     ]
    }
   ],
   "source": [
    "returns.info()"
   ]
  },
  {
   "cell_type": "code",
   "execution_count": 9,
   "id": "88183776",
   "metadata": {},
   "outputs": [],
   "source": [
    "# Function that calculate the annualize risk & return\n",
    "def ann_risk_return(returns_df): # assumes simple returns as input\n",
    "    summary = pd.DataFrame(index = returns_df.columns)\n",
    "    summary[\"ann. Risk\"] = returns_df.std() * np.sqrt(252)\n",
    "    log_returns = np.log(returns_df + 1)\n",
    "    summary[\"CAGR\"] = np.exp(log_returns.mean() * 252) - 1\n",
    "    return summary"
   ]
  },
  {
   "cell_type": "code",
   "execution_count": 10,
   "id": "2cd02c8b",
   "metadata": {},
   "outputs": [
    {
     "data": {
      "text/html": [
       "<div>\n",
       "<style scoped>\n",
       "    .dataframe tbody tr th:only-of-type {\n",
       "        vertical-align: middle;\n",
       "    }\n",
       "\n",
       "    .dataframe tbody tr th {\n",
       "        vertical-align: top;\n",
       "    }\n",
       "\n",
       "    .dataframe thead th {\n",
       "        text-align: right;\n",
       "    }\n",
       "</style>\n",
       "<table border=\"1\" class=\"dataframe\">\n",
       "  <thead>\n",
       "    <tr style=\"text-align: right;\">\n",
       "      <th></th>\n",
       "      <th>ann. Risk</th>\n",
       "      <th>CAGR</th>\n",
       "    </tr>\n",
       "  </thead>\n",
       "  <tbody>\n",
       "    <tr>\n",
       "      <th>AAPL</th>\n",
       "      <td>0.320853</td>\n",
       "      <td>0.306835</td>\n",
       "    </tr>\n",
       "    <tr>\n",
       "      <th>BA</th>\n",
       "      <td>0.495955</td>\n",
       "      <td>-0.075152</td>\n",
       "    </tr>\n",
       "    <tr>\n",
       "      <th>DIS</th>\n",
       "      <td>0.306920</td>\n",
       "      <td>-0.022299</td>\n",
       "    </tr>\n",
       "    <tr>\n",
       "      <th>GE</th>\n",
       "      <td>0.432135</td>\n",
       "      <td>-0.213220</td>\n",
       "    </tr>\n",
       "    <tr>\n",
       "      <th>JPM</th>\n",
       "      <td>0.312383</td>\n",
       "      <td>0.037617</td>\n",
       "    </tr>\n",
       "    <tr>\n",
       "      <th>MSFT</th>\n",
       "      <td>0.294255</td>\n",
       "      <td>0.301433</td>\n",
       "    </tr>\n",
       "    <tr>\n",
       "      <th>TSLA</th>\n",
       "      <td>0.636075</td>\n",
       "      <td>0.596477</td>\n",
       "    </tr>\n",
       "    <tr>\n",
       "      <th>WMT</th>\n",
       "      <td>0.231155</td>\n",
       "      <td>0.100836</td>\n",
       "    </tr>\n",
       "  </tbody>\n",
       "</table>\n",
       "</div>"
      ],
      "text/plain": [
       "      ann. Risk      CAGR\n",
       "AAPL   0.320853  0.306835\n",
       "BA     0.495955 -0.075152\n",
       "DIS    0.306920 -0.022299\n",
       "GE     0.432135 -0.213220\n",
       "JPM    0.312383  0.037617\n",
       "MSFT   0.294255  0.301433\n",
       "TSLA   0.636075  0.596477\n",
       "WMT    0.231155  0.100836"
      ]
     },
     "execution_count": 10,
     "metadata": {},
     "output_type": "execute_result"
    }
   ],
   "source": [
    "# Calculate the annualize risk & return of thoses instruments: \n",
    "summary = ann_risk_return(returns.iloc[1:])\n",
    "summary"
   ]
  },
  {
   "cell_type": "markdown",
   "metadata": {},
   "source": [
    "---"
   ]
  },
  {
   "cell_type": "markdown",
   "id": "ac5e4d65",
   "metadata": {},
   "source": [
    "# Creating Random Portfolios (Part 1)"
   ]
  },
  {
   "cell_type": "code",
   "execution_count": 57,
   "id": "bba88209",
   "metadata": {},
   "outputs": [
    {
     "data": {
      "text/plain": [
       "8"
      ]
     },
     "execution_count": 57,
     "metadata": {},
     "output_type": "execute_result"
    }
   ],
   "source": [
    "# number of assets\n",
    "noa = len(returns.columns) \n",
    "noa"
   ]
  },
  {
   "cell_type": "code",
   "execution_count": 58,
   "id": "fb48ba70",
   "metadata": {},
   "outputs": [
    {
     "data": {
      "text/plain": [
       "10000"
      ]
     },
     "execution_count": 58,
     "metadata": {},
     "output_type": "execute_result"
    }
   ],
   "source": [
    "# number of random portfolios\n",
    "nop = 10000 \n",
    "nop"
   ]
  },
  {
   "cell_type": "code",
   "execution_count": 59,
   "id": "303842ff",
   "metadata": {},
   "outputs": [],
   "source": [
    "# 80,000 random floats between 0 and 1\n",
    "np.random.seed(123)\n",
    "matrix = np.random.random(noa * nop).reshape(nop, noa)"
   ]
  },
  {
   "cell_type": "code",
   "execution_count": 60,
   "id": "1c90ff7b",
   "metadata": {},
   "outputs": [
    {
     "data": {
      "text/plain": [
       "array([[0.69646919, 0.28613933, 0.22685145, ..., 0.42310646, 0.9807642 ,\n",
       "        0.68482974],\n",
       "       [0.4809319 , 0.39211752, 0.34317802, ..., 0.0596779 , 0.39804426,\n",
       "        0.73799541],\n",
       "       [0.18249173, 0.17545176, 0.53155137, ..., 0.84943179, 0.72445532,\n",
       "        0.61102351],\n",
       "       ...,\n",
       "       [0.1412533 , 0.28570045, 0.56403074, ..., 0.34359409, 0.87588094,\n",
       "        0.78291379],\n",
       "       [0.1896295 , 0.45365639, 0.82695243, ..., 0.91009298, 0.92561585,\n",
       "        0.38263481],\n",
       "       [0.84641632, 0.3538014 , 0.67855546, ..., 0.40234825, 0.42038566,\n",
       "        0.91972547]])"
      ]
     },
     "execution_count": 60,
     "metadata": {},
     "output_type": "execute_result"
    }
   ],
   "source": [
    "matrix"
   ]
  },
  {
   "cell_type": "code",
   "execution_count": 61,
   "id": "6adedb04",
   "metadata": {},
   "outputs": [
    {
     "data": {
      "text/plain": [
       "(10000, 8)"
      ]
     },
     "execution_count": 61,
     "metadata": {},
     "output_type": "execute_result"
    }
   ],
   "source": [
    "matrix.shape\n",
    "\n",
    "# (10000, 8) -> 10000 portfolios. each portfolio have 8 weigths \n",
    "# (each weigth for each asset) "
   ]
  },
  {
   "cell_type": "code",
   "execution_count": 62,
   "id": "2ff10bc5",
   "metadata": {},
   "outputs": [
    {
     "data": {
      "text/plain": [
       "array([[4.56894411],\n",
       "       [3.57956695],\n",
       "       [4.24063404],\n",
       "       ...,\n",
       "       [3.82262761],\n",
       "       [4.93698499],\n",
       "       [3.99183794]])"
      ]
     },
     "execution_count": 62,
     "metadata": {},
     "output_type": "execute_result"
    }
   ],
   "source": [
    "matrix.sum(axis = 1, keepdims= True)\n",
    "# We need to normalize (each portfolio weigths must sum to 1)"
   ]
  },
  {
   "cell_type": "code",
   "execution_count": 63,
   "id": "01d5efb0",
   "metadata": {},
   "outputs": [
    {
     "data": {
      "text/plain": [
       "array([[0.15243548, 0.06262702, 0.04965074, ..., 0.09260487, 0.21465883,\n",
       "        0.14988797],\n",
       "       [0.13435477, 0.10954328, 0.09587138, ..., 0.01667182, 0.111199  ,\n",
       "        0.20616891],\n",
       "       [0.04303407, 0.04137394, 0.12534715, ..., 0.20030773, 0.17083656,\n",
       "        0.14408777],\n",
       "       ...,\n",
       "       [0.03695189, 0.07473928, 0.14755053, ..., 0.08988427, 0.22913059,\n",
       "        0.20481037],\n",
       "       [0.03840998, 0.09188936, 0.16750151, ..., 0.18434186, 0.18748606,\n",
       "        0.07750374],\n",
       "       [0.21203674, 0.0886312 , 0.16998572, ..., 0.10079273, 0.10531131,\n",
       "        0.2304015 ]])"
      ]
     },
     "execution_count": 63,
     "metadata": {},
     "output_type": "execute_result"
    }
   ],
   "source": [
    "# normalize (now each portfolio weigths will sum to 1)\n",
    "weights = matrix / matrix.sum(axis = 1, keepdims= True) # make portfolio weights summing up to 1\n",
    "weights"
   ]
  },
  {
   "cell_type": "code",
   "execution_count": 64,
   "id": "bddd31f3",
   "metadata": {},
   "outputs": [
    {
     "data": {
      "text/plain": [
       "array([[1.],\n",
       "       [1.],\n",
       "       [1.],\n",
       "       ...,\n",
       "       [1.],\n",
       "       [1.],\n",
       "       [1.]])"
      ]
     },
     "execution_count": 64,
     "metadata": {},
     "output_type": "execute_result"
    }
   ],
   "source": [
    "# Senity check\n",
    "weights.sum(axis = 1, keepdims= True)"
   ]
  },
  {
   "cell_type": "markdown",
   "id": "19f9b479",
   "metadata": {},
   "source": [
    "__one Portfolio__"
   ]
  },
  {
   "cell_type": "code",
   "execution_count": 65,
   "id": "86d2f374",
   "metadata": {},
   "outputs": [
    {
     "data": {
      "text/plain": [
       "array([0.15243548, 0.06262702, 0.04965074, 0.12066568, 0.15746942,\n",
       "       0.09260487, 0.21465883, 0.14988797])"
      ]
     },
     "execution_count": 65,
     "metadata": {},
     "output_type": "execute_result"
    }
   ],
   "source": [
    "w1 = weights[0]\n",
    "w1"
   ]
  },
  {
   "cell_type": "markdown",
   "id": "0ec31946",
   "metadata": {},
   "source": [
    "__Daily rebalancing of weights.__"
   ]
  },
  {
   "cell_type": "code",
   "execution_count": 66,
   "metadata": {},
   "outputs": [
    {
     "data": {
      "text/html": [
       "<div>\n",
       "<style scoped>\n",
       "    .dataframe tbody tr th:only-of-type {\n",
       "        vertical-align: middle;\n",
       "    }\n",
       "\n",
       "    .dataframe tbody tr th {\n",
       "        vertical-align: top;\n",
       "    }\n",
       "\n",
       "    .dataframe thead th {\n",
       "        text-align: right;\n",
       "    }\n",
       "</style>\n",
       "<table border=\"1\" class=\"dataframe\">\n",
       "  <thead>\n",
       "    <tr style=\"text-align: right;\">\n",
       "      <th></th>\n",
       "      <th>AAPL</th>\n",
       "      <th>BA</th>\n",
       "      <th>DIS</th>\n",
       "      <th>GE</th>\n",
       "      <th>JPM</th>\n",
       "      <th>MSFT</th>\n",
       "      <th>TSLA</th>\n",
       "      <th>WMT</th>\n",
       "    </tr>\n",
       "    <tr>\n",
       "      <th>Date</th>\n",
       "      <th></th>\n",
       "      <th></th>\n",
       "      <th></th>\n",
       "      <th></th>\n",
       "      <th></th>\n",
       "      <th></th>\n",
       "      <th></th>\n",
       "      <th></th>\n",
       "    </tr>\n",
       "  </thead>\n",
       "  <tbody>\n",
       "    <tr>\n",
       "      <th>2017-07-05</th>\n",
       "      <td>0.0041</td>\n",
       "      <td>0.0162</td>\n",
       "      <td>-0.0170</td>\n",
       "      <td>-0.0036</td>\n",
       "      <td>0.0100</td>\n",
       "      <td>0.0133</td>\n",
       "      <td>-0.0724</td>\n",
       "      <td>-0.0005</td>\n",
       "    </tr>\n",
       "    <tr>\n",
       "      <th>2017-07-06</th>\n",
       "      <td>-0.0094</td>\n",
       "      <td>-0.0016</td>\n",
       "      <td>-0.0216</td>\n",
       "      <td>-0.0380</td>\n",
       "      <td>-0.0032</td>\n",
       "      <td>-0.0074</td>\n",
       "      <td>-0.0558</td>\n",
       "      <td>0.0020</td>\n",
       "    </tr>\n",
       "  </tbody>\n",
       "</table>\n",
       "</div>"
      ],
      "text/plain": [
       "              AAPL      BA     DIS      GE     JPM    MSFT    TSLA     WMT\n",
       "Date                                                                      \n",
       "2017-07-05  0.0041  0.0162 -0.0170 -0.0036  0.0100  0.0133 -0.0724 -0.0005\n",
       "2017-07-06 -0.0094 -0.0016 -0.0216 -0.0380 -0.0032 -0.0074 -0.0558  0.0020"
      ]
     },
     "execution_count": 66,
     "metadata": {},
     "output_type": "execute_result"
    }
   ],
   "source": [
    "returns.head(2)"
   ]
  },
  {
   "cell_type": "code",
   "execution_count": 67,
   "id": "6b7761b1",
   "metadata": {},
   "outputs": [
    {
     "data": {
      "text/plain": [
       "Date\n",
       "2017-07-05   -0.0124\n",
       "2017-07-06   -0.0201\n",
       "2017-07-07    0.0058\n",
       "2017-07-10   -0.0016\n",
       "2017-07-11    0.0104\n",
       "               ...  \n",
       "2022-06-24    0.0325\n",
       "2022-06-27   -0.0049\n",
       "2022-06-28   -0.0230\n",
       "2022-06-29   -0.0060\n",
       "2022-06-30   -0.0133\n",
       "Length: 1257, dtype: float64"
      ]
     },
     "execution_count": 67,
     "metadata": {},
     "output_type": "execute_result"
    }
   ],
   "source": [
    "# weighted average simple returns over time\n",
    "returns.mul(w1).sum(axis = 1) "
   ]
  },
  {
   "cell_type": "code",
   "execution_count": 68,
   "id": "fd885c05",
   "metadata": {},
   "outputs": [
    {
     "data": {
      "text/plain": [
       "Date\n",
       "2017-07-05   -0.0124\n",
       "2017-07-06   -0.0201\n",
       "2017-07-07    0.0058\n",
       "2017-07-10   -0.0016\n",
       "2017-07-11    0.0104\n",
       "               ...  \n",
       "2022-06-24    0.0325\n",
       "2022-06-27   -0.0049\n",
       "2022-06-28   -0.0230\n",
       "2022-06-29   -0.0060\n",
       "2022-06-30   -0.0133\n",
       "Length: 1257, dtype: float64"
      ]
     },
     "execution_count": 68,
     "metadata": {},
     "output_type": "execute_result"
    }
   ],
   "source": [
    "port1 = returns.dot(w1) # dot product\n",
    "port1"
   ]
  },
  {
   "cell_type": "markdown",
   "id": "887a952b",
   "metadata": {},
   "source": [
    "-> __Active rebalancing__! __Weights restored__ to initial/target weights at the end of each day. <br>\n",
    "-> selling daily winners and buying daily losers. (__Contrarian Trading Strategy__)\n"
   ]
  },
  {
   "cell_type": "code",
   "execution_count": 69,
   "id": "d415901b",
   "metadata": {},
   "outputs": [
    {
     "data": {
      "text/html": [
       "<div>\n",
       "<style scoped>\n",
       "    .dataframe tbody tr th:only-of-type {\n",
       "        vertical-align: middle;\n",
       "    }\n",
       "\n",
       "    .dataframe tbody tr th {\n",
       "        vertical-align: top;\n",
       "    }\n",
       "\n",
       "    .dataframe thead th {\n",
       "        text-align: right;\n",
       "    }\n",
       "</style>\n",
       "<table border=\"1\" class=\"dataframe\">\n",
       "  <thead>\n",
       "    <tr style=\"text-align: right;\">\n",
       "      <th></th>\n",
       "      <th>ann. Risk</th>\n",
       "      <th>CAGR</th>\n",
       "    </tr>\n",
       "  </thead>\n",
       "  <tbody>\n",
       "    <tr>\n",
       "      <th>0</th>\n",
       "      <td>0.2739</td>\n",
       "      <td>0.2196</td>\n",
       "    </tr>\n",
       "  </tbody>\n",
       "</table>\n",
       "</div>"
      ],
      "text/plain": [
       "   ann. Risk   CAGR\n",
       "0     0.2739 0.2196"
      ]
     },
     "execution_count": 69,
     "metadata": {},
     "output_type": "execute_result"
    }
   ],
   "source": [
    "ann_risk_return(port1.to_frame())"
   ]
  },
  {
   "cell_type": "markdown",
   "id": "c2537de6",
   "metadata": {},
   "source": [
    "# Creating Random Portfolios - many Portfolios"
   ]
  },
  {
   "cell_type": "code",
   "execution_count": 70,
   "id": "0649b723",
   "metadata": {},
   "outputs": [
    {
     "data": {
      "text/plain": [
       "array([[0.15243548, 0.06262702, 0.04965074, ..., 0.09260487, 0.21465883,\n",
       "        0.14988797],\n",
       "       [0.13435477, 0.10954328, 0.09587138, ..., 0.01667182, 0.111199  ,\n",
       "        0.20616891],\n",
       "       [0.04303407, 0.04137394, 0.12534715, ..., 0.20030773, 0.17083656,\n",
       "        0.14408777],\n",
       "       ...,\n",
       "       [0.03695189, 0.07473928, 0.14755053, ..., 0.08988427, 0.22913059,\n",
       "        0.20481037],\n",
       "       [0.03840998, 0.09188936, 0.16750151, ..., 0.18434186, 0.18748606,\n",
       "        0.07750374],\n",
       "       [0.21203674, 0.0886312 , 0.16998572, ..., 0.10079273, 0.10531131,\n",
       "        0.2304015 ]])"
      ]
     },
     "execution_count": 70,
     "metadata": {},
     "output_type": "execute_result"
    }
   ],
   "source": [
    "weights"
   ]
  },
  {
   "cell_type": "code",
   "execution_count": 71,
   "id": "86f6c44e",
   "metadata": {},
   "outputs": [
    {
     "data": {
      "text/html": [
       "<div>\n",
       "<style scoped>\n",
       "    .dataframe tbody tr th:only-of-type {\n",
       "        vertical-align: middle;\n",
       "    }\n",
       "\n",
       "    .dataframe tbody tr th {\n",
       "        vertical-align: top;\n",
       "    }\n",
       "\n",
       "    .dataframe thead th {\n",
       "        text-align: right;\n",
       "    }\n",
       "</style>\n",
       "<table border=\"1\" class=\"dataframe\">\n",
       "  <thead>\n",
       "    <tr style=\"text-align: right;\">\n",
       "      <th></th>\n",
       "      <th>0</th>\n",
       "      <th>1</th>\n",
       "      <th>2</th>\n",
       "      <th>3</th>\n",
       "      <th>4</th>\n",
       "      <th>5</th>\n",
       "      <th>6</th>\n",
       "      <th>7</th>\n",
       "      <th>8</th>\n",
       "      <th>9</th>\n",
       "      <th>...</th>\n",
       "      <th>9990</th>\n",
       "      <th>9991</th>\n",
       "      <th>9992</th>\n",
       "      <th>9993</th>\n",
       "      <th>9994</th>\n",
       "      <th>9995</th>\n",
       "      <th>9996</th>\n",
       "      <th>9997</th>\n",
       "      <th>9998</th>\n",
       "      <th>9999</th>\n",
       "    </tr>\n",
       "    <tr>\n",
       "      <th>Date</th>\n",
       "      <th></th>\n",
       "      <th></th>\n",
       "      <th></th>\n",
       "      <th></th>\n",
       "      <th></th>\n",
       "      <th></th>\n",
       "      <th></th>\n",
       "      <th></th>\n",
       "      <th></th>\n",
       "      <th></th>\n",
       "      <th></th>\n",
       "      <th></th>\n",
       "      <th></th>\n",
       "      <th></th>\n",
       "      <th></th>\n",
       "      <th></th>\n",
       "      <th></th>\n",
       "      <th></th>\n",
       "      <th></th>\n",
       "      <th></th>\n",
       "      <th></th>\n",
       "    </tr>\n",
       "  </thead>\n",
       "  <tbody>\n",
       "    <tr>\n",
       "      <th>2017-07-05</th>\n",
       "      <td>-0.0124</td>\n",
       "      <td>-0.0068</td>\n",
       "      <td>-0.0100</td>\n",
       "      <td>0.0018</td>\n",
       "      <td>-0.0115</td>\n",
       "      <td>-0.0064</td>\n",
       "      <td>-0.0012</td>\n",
       "      <td>-0.0070</td>\n",
       "      <td>-0.0019</td>\n",
       "      <td>0.0023</td>\n",
       "      <td>...</td>\n",
       "      <td>-0.0109</td>\n",
       "      <td>-0.0122</td>\n",
       "      <td>0.0009</td>\n",
       "      <td>-0.0068</td>\n",
       "      <td>-0.0234</td>\n",
       "      <td>-0.0103</td>\n",
       "      <td>-0.0015</td>\n",
       "      <td>-0.0173</td>\n",
       "      <td>-0.0106</td>\n",
       "      <td>-0.0072</td>\n",
       "    </tr>\n",
       "    <tr>\n",
       "      <th>2017-07-06</th>\n",
       "      <td>-0.0201</td>\n",
       "      <td>-0.0176</td>\n",
       "      <td>-0.0192</td>\n",
       "      <td>-0.0109</td>\n",
       "      <td>-0.0193</td>\n",
       "      <td>-0.0144</td>\n",
       "      <td>-0.0166</td>\n",
       "      <td>-0.0165</td>\n",
       "      <td>-0.0115</td>\n",
       "      <td>-0.0114</td>\n",
       "      <td>...</td>\n",
       "      <td>-0.0230</td>\n",
       "      <td>-0.0214</td>\n",
       "      <td>-0.0104</td>\n",
       "      <td>-0.0180</td>\n",
       "      <td>-0.0248</td>\n",
       "      <td>-0.0209</td>\n",
       "      <td>-0.0113</td>\n",
       "      <td>-0.0246</td>\n",
       "      <td>-0.0186</td>\n",
       "      <td>-0.0153</td>\n",
       "    </tr>\n",
       "    <tr>\n",
       "      <th>2017-07-07</th>\n",
       "      <td>0.0058</td>\n",
       "      <td>0.0026</td>\n",
       "      <td>0.0053</td>\n",
       "      <td>0.0057</td>\n",
       "      <td>0.0069</td>\n",
       "      <td>0.0042</td>\n",
       "      <td>0.0045</td>\n",
       "      <td>0.0045</td>\n",
       "      <td>0.0042</td>\n",
       "      <td>0.0033</td>\n",
       "      <td>...</td>\n",
       "      <td>0.0058</td>\n",
       "      <td>0.0057</td>\n",
       "      <td>0.0055</td>\n",
       "      <td>0.0053</td>\n",
       "      <td>0.0060</td>\n",
       "      <td>0.0053</td>\n",
       "      <td>0.0063</td>\n",
       "      <td>0.0035</td>\n",
       "      <td>0.0063</td>\n",
       "      <td>0.0044</td>\n",
       "    </tr>\n",
       "    <tr>\n",
       "      <th>2017-07-10</th>\n",
       "      <td>-0.0016</td>\n",
       "      <td>-0.0044</td>\n",
       "      <td>-0.0016</td>\n",
       "      <td>-0.0005</td>\n",
       "      <td>0.0010</td>\n",
       "      <td>-0.0058</td>\n",
       "      <td>-0.0002</td>\n",
       "      <td>-0.0011</td>\n",
       "      <td>-0.0038</td>\n",
       "      <td>-0.0039</td>\n",
       "      <td>...</td>\n",
       "      <td>0.0035</td>\n",
       "      <td>0.0009</td>\n",
       "      <td>-0.0006</td>\n",
       "      <td>0.0003</td>\n",
       "      <td>0.0006</td>\n",
       "      <td>0.0009</td>\n",
       "      <td>0.0005</td>\n",
       "      <td>-0.0027</td>\n",
       "      <td>0.0007</td>\n",
       "      <td>-0.0027</td>\n",
       "    </tr>\n",
       "    <tr>\n",
       "      <th>2017-07-11</th>\n",
       "      <td>0.0104</td>\n",
       "      <td>0.0087</td>\n",
       "      <td>0.0085</td>\n",
       "      <td>0.0044</td>\n",
       "      <td>0.0103</td>\n",
       "      <td>0.0065</td>\n",
       "      <td>0.0079</td>\n",
       "      <td>0.0079</td>\n",
       "      <td>0.0039</td>\n",
       "      <td>0.0067</td>\n",
       "      <td>...</td>\n",
       "      <td>0.0121</td>\n",
       "      <td>0.0109</td>\n",
       "      <td>0.0042</td>\n",
       "      <td>0.0060</td>\n",
       "      <td>0.0144</td>\n",
       "      <td>0.0115</td>\n",
       "      <td>0.0048</td>\n",
       "      <td>0.0127</td>\n",
       "      <td>0.0085</td>\n",
       "      <td>0.0077</td>\n",
       "    </tr>\n",
       "    <tr>\n",
       "      <th>...</th>\n",
       "      <td>...</td>\n",
       "      <td>...</td>\n",
       "      <td>...</td>\n",
       "      <td>...</td>\n",
       "      <td>...</td>\n",
       "      <td>...</td>\n",
       "      <td>...</td>\n",
       "      <td>...</td>\n",
       "      <td>...</td>\n",
       "      <td>...</td>\n",
       "      <td>...</td>\n",
       "      <td>...</td>\n",
       "      <td>...</td>\n",
       "      <td>...</td>\n",
       "      <td>...</td>\n",
       "      <td>...</td>\n",
       "      <td>...</td>\n",
       "      <td>...</td>\n",
       "      <td>...</td>\n",
       "      <td>...</td>\n",
       "      <td>...</td>\n",
       "    </tr>\n",
       "    <tr>\n",
       "      <th>2022-06-24</th>\n",
       "      <td>0.0325</td>\n",
       "      <td>0.0320</td>\n",
       "      <td>0.0331</td>\n",
       "      <td>0.0307</td>\n",
       "      <td>0.0350</td>\n",
       "      <td>0.0271</td>\n",
       "      <td>0.0369</td>\n",
       "      <td>0.0345</td>\n",
       "      <td>0.0259</td>\n",
       "      <td>0.0324</td>\n",
       "      <td>...</td>\n",
       "      <td>0.0405</td>\n",
       "      <td>0.0364</td>\n",
       "      <td>0.0346</td>\n",
       "      <td>0.0333</td>\n",
       "      <td>0.0353</td>\n",
       "      <td>0.0393</td>\n",
       "      <td>0.0314</td>\n",
       "      <td>0.0342</td>\n",
       "      <td>0.0357</td>\n",
       "      <td>0.0291</td>\n",
       "    </tr>\n",
       "    <tr>\n",
       "      <th>2022-06-27</th>\n",
       "      <td>-0.0049</td>\n",
       "      <td>-0.0053</td>\n",
       "      <td>-0.0064</td>\n",
       "      <td>-0.0064</td>\n",
       "      <td>-0.0070</td>\n",
       "      <td>-0.0040</td>\n",
       "      <td>-0.0074</td>\n",
       "      <td>-0.0076</td>\n",
       "      <td>-0.0047</td>\n",
       "      <td>-0.0063</td>\n",
       "      <td>...</td>\n",
       "      <td>-0.0075</td>\n",
       "      <td>-0.0074</td>\n",
       "      <td>-0.0092</td>\n",
       "      <td>-0.0066</td>\n",
       "      <td>-0.0061</td>\n",
       "      <td>-0.0078</td>\n",
       "      <td>-0.0073</td>\n",
       "      <td>-0.0055</td>\n",
       "      <td>-0.0080</td>\n",
       "      <td>-0.0050</td>\n",
       "    </tr>\n",
       "    <tr>\n",
       "      <th>2022-06-28</th>\n",
       "      <td>-0.0230</td>\n",
       "      <td>-0.0168</td>\n",
       "      <td>-0.0214</td>\n",
       "      <td>-0.0192</td>\n",
       "      <td>-0.0236</td>\n",
       "      <td>-0.0188</td>\n",
       "      <td>-0.0176</td>\n",
       "      <td>-0.0174</td>\n",
       "      <td>-0.0190</td>\n",
       "      <td>-0.0146</td>\n",
       "      <td>...</td>\n",
       "      <td>-0.0217</td>\n",
       "      <td>-0.0230</td>\n",
       "      <td>-0.0143</td>\n",
       "      <td>-0.0200</td>\n",
       "      <td>-0.0240</td>\n",
       "      <td>-0.0193</td>\n",
       "      <td>-0.0193</td>\n",
       "      <td>-0.0220</td>\n",
       "      <td>-0.0203</td>\n",
       "      <td>-0.0204</td>\n",
       "    </tr>\n",
       "    <tr>\n",
       "      <th>2022-06-29</th>\n",
       "      <td>-0.0060</td>\n",
       "      <td>-0.0085</td>\n",
       "      <td>-0.0053</td>\n",
       "      <td>0.0016</td>\n",
       "      <td>-0.0032</td>\n",
       "      <td>-0.0047</td>\n",
       "      <td>-0.0062</td>\n",
       "      <td>-0.0046</td>\n",
       "      <td>0.0009</td>\n",
       "      <td>-0.0052</td>\n",
       "      <td>...</td>\n",
       "      <td>-0.0074</td>\n",
       "      <td>-0.0053</td>\n",
       "      <td>-0.0009</td>\n",
       "      <td>-0.0030</td>\n",
       "      <td>-0.0070</td>\n",
       "      <td>-0.0086</td>\n",
       "      <td>0.0028</td>\n",
       "      <td>-0.0105</td>\n",
       "      <td>-0.0039</td>\n",
       "      <td>-0.0020</td>\n",
       "    </tr>\n",
       "    <tr>\n",
       "      <th>2022-06-30</th>\n",
       "      <td>-0.0133</td>\n",
       "      <td>-0.0107</td>\n",
       "      <td>-0.0125</td>\n",
       "      <td>-0.0129</td>\n",
       "      <td>-0.0134</td>\n",
       "      <td>-0.0127</td>\n",
       "      <td>-0.0121</td>\n",
       "      <td>-0.0127</td>\n",
       "      <td>-0.0115</td>\n",
       "      <td>-0.0115</td>\n",
       "      <td>...</td>\n",
       "      <td>-0.0132</td>\n",
       "      <td>-0.0114</td>\n",
       "      <td>-0.0152</td>\n",
       "      <td>-0.0139</td>\n",
       "      <td>-0.0134</td>\n",
       "      <td>-0.0134</td>\n",
       "      <td>-0.0140</td>\n",
       "      <td>-0.0096</td>\n",
       "      <td>-0.0145</td>\n",
       "      <td>-0.0112</td>\n",
       "    </tr>\n",
       "  </tbody>\n",
       "</table>\n",
       "<p>1257 rows × 10000 columns</p>\n",
       "</div>"
      ],
      "text/plain": [
       "              0       1       2       3       4       5       6       7     \\\n",
       "Date                                                                         \n",
       "2017-07-05 -0.0124 -0.0068 -0.0100  0.0018 -0.0115 -0.0064 -0.0012 -0.0070   \n",
       "2017-07-06 -0.0201 -0.0176 -0.0192 -0.0109 -0.0193 -0.0144 -0.0166 -0.0165   \n",
       "2017-07-07  0.0058  0.0026  0.0053  0.0057  0.0069  0.0042  0.0045  0.0045   \n",
       "2017-07-10 -0.0016 -0.0044 -0.0016 -0.0005  0.0010 -0.0058 -0.0002 -0.0011   \n",
       "2017-07-11  0.0104  0.0087  0.0085  0.0044  0.0103  0.0065  0.0079  0.0079   \n",
       "...            ...     ...     ...     ...     ...     ...     ...     ...   \n",
       "2022-06-24  0.0325  0.0320  0.0331  0.0307  0.0350  0.0271  0.0369  0.0345   \n",
       "2022-06-27 -0.0049 -0.0053 -0.0064 -0.0064 -0.0070 -0.0040 -0.0074 -0.0076   \n",
       "2022-06-28 -0.0230 -0.0168 -0.0214 -0.0192 -0.0236 -0.0188 -0.0176 -0.0174   \n",
       "2022-06-29 -0.0060 -0.0085 -0.0053  0.0016 -0.0032 -0.0047 -0.0062 -0.0046   \n",
       "2022-06-30 -0.0133 -0.0107 -0.0125 -0.0129 -0.0134 -0.0127 -0.0121 -0.0127   \n",
       "\n",
       "              8       9     ...    9990    9991    9992    9993    9994  \\\n",
       "Date                        ...                                           \n",
       "2017-07-05 -0.0019  0.0023  ... -0.0109 -0.0122  0.0009 -0.0068 -0.0234   \n",
       "2017-07-06 -0.0115 -0.0114  ... -0.0230 -0.0214 -0.0104 -0.0180 -0.0248   \n",
       "2017-07-07  0.0042  0.0033  ...  0.0058  0.0057  0.0055  0.0053  0.0060   \n",
       "2017-07-10 -0.0038 -0.0039  ...  0.0035  0.0009 -0.0006  0.0003  0.0006   \n",
       "2017-07-11  0.0039  0.0067  ...  0.0121  0.0109  0.0042  0.0060  0.0144   \n",
       "...            ...     ...  ...     ...     ...     ...     ...     ...   \n",
       "2022-06-24  0.0259  0.0324  ...  0.0405  0.0364  0.0346  0.0333  0.0353   \n",
       "2022-06-27 -0.0047 -0.0063  ... -0.0075 -0.0074 -0.0092 -0.0066 -0.0061   \n",
       "2022-06-28 -0.0190 -0.0146  ... -0.0217 -0.0230 -0.0143 -0.0200 -0.0240   \n",
       "2022-06-29  0.0009 -0.0052  ... -0.0074 -0.0053 -0.0009 -0.0030 -0.0070   \n",
       "2022-06-30 -0.0115 -0.0115  ... -0.0132 -0.0114 -0.0152 -0.0139 -0.0134   \n",
       "\n",
       "              9995    9996    9997    9998    9999  \n",
       "Date                                                \n",
       "2017-07-05 -0.0103 -0.0015 -0.0173 -0.0106 -0.0072  \n",
       "2017-07-06 -0.0209 -0.0113 -0.0246 -0.0186 -0.0153  \n",
       "2017-07-07  0.0053  0.0063  0.0035  0.0063  0.0044  \n",
       "2017-07-10  0.0009  0.0005 -0.0027  0.0007 -0.0027  \n",
       "2017-07-11  0.0115  0.0048  0.0127  0.0085  0.0077  \n",
       "...            ...     ...     ...     ...     ...  \n",
       "2022-06-24  0.0393  0.0314  0.0342  0.0357  0.0291  \n",
       "2022-06-27 -0.0078 -0.0073 -0.0055 -0.0080 -0.0050  \n",
       "2022-06-28 -0.0193 -0.0193 -0.0220 -0.0203 -0.0204  \n",
       "2022-06-29 -0.0086  0.0028 -0.0105 -0.0039 -0.0020  \n",
       "2022-06-30 -0.0134 -0.0140 -0.0096 -0.0145 -0.0112  \n",
       "\n",
       "[1257 rows x 10000 columns]"
      ]
     },
     "execution_count": 71,
     "metadata": {},
     "output_type": "execute_result"
    }
   ],
   "source": [
    "port_ret= returns.dot(weights.T)\n",
    "port_ret # weighted average simple returns for 10,000 portfolios"
   ]
  },
  {
   "cell_type": "code",
   "execution_count": 72,
   "id": "dfd2644f",
   "metadata": {},
   "outputs": [
    {
     "data": {
      "text/html": [
       "<div>\n",
       "<style scoped>\n",
       "    .dataframe tbody tr th:only-of-type {\n",
       "        vertical-align: middle;\n",
       "    }\n",
       "\n",
       "    .dataframe tbody tr th {\n",
       "        vertical-align: top;\n",
       "    }\n",
       "\n",
       "    .dataframe thead th {\n",
       "        text-align: right;\n",
       "    }\n",
       "</style>\n",
       "<table border=\"1\" class=\"dataframe\">\n",
       "  <thead>\n",
       "    <tr style=\"text-align: right;\">\n",
       "      <th></th>\n",
       "      <th>ann. Risk</th>\n",
       "      <th>CAGR</th>\n",
       "    </tr>\n",
       "  </thead>\n",
       "  <tbody>\n",
       "    <tr>\n",
       "      <th>0</th>\n",
       "      <td>0.2739</td>\n",
       "      <td>0.2196</td>\n",
       "    </tr>\n",
       "    <tr>\n",
       "      <th>1</th>\n",
       "      <td>0.2554</td>\n",
       "      <td>0.1067</td>\n",
       "    </tr>\n",
       "    <tr>\n",
       "      <th>2</th>\n",
       "      <td>0.2580</td>\n",
       "      <td>0.1864</td>\n",
       "    </tr>\n",
       "    <tr>\n",
       "      <th>3</th>\n",
       "      <td>0.2431</td>\n",
       "      <td>0.1619</td>\n",
       "    </tr>\n",
       "    <tr>\n",
       "      <th>4</th>\n",
       "      <td>0.2807</td>\n",
       "      <td>0.2369</td>\n",
       "    </tr>\n",
       "    <tr>\n",
       "      <th>...</th>\n",
       "      <td>...</td>\n",
       "      <td>...</td>\n",
       "    </tr>\n",
       "    <tr>\n",
       "      <th>9995</th>\n",
       "      <td>0.3049</td>\n",
       "      <td>0.1587</td>\n",
       "    </tr>\n",
       "    <tr>\n",
       "      <th>9996</th>\n",
       "      <td>0.2478</td>\n",
       "      <td>0.1879</td>\n",
       "    </tr>\n",
       "    <tr>\n",
       "      <th>9997</th>\n",
       "      <td>0.2761</td>\n",
       "      <td>0.1661</td>\n",
       "    </tr>\n",
       "    <tr>\n",
       "      <th>9998</th>\n",
       "      <td>0.2740</td>\n",
       "      <td>0.1974</td>\n",
       "    </tr>\n",
       "    <tr>\n",
       "      <th>9999</th>\n",
       "      <td>0.2408</td>\n",
       "      <td>0.1768</td>\n",
       "    </tr>\n",
       "  </tbody>\n",
       "</table>\n",
       "<p>10000 rows × 2 columns</p>\n",
       "</div>"
      ],
      "text/plain": [
       "      ann. Risk   CAGR\n",
       "0        0.2739 0.2196\n",
       "1        0.2554 0.1067\n",
       "2        0.2580 0.1864\n",
       "3        0.2431 0.1619\n",
       "4        0.2807 0.2369\n",
       "...         ...    ...\n",
       "9995     0.3049 0.1587\n",
       "9996     0.2478 0.1879\n",
       "9997     0.2761 0.1661\n",
       "9998     0.2740 0.1974\n",
       "9999     0.2408 0.1768\n",
       "\n",
       "[10000 rows x 2 columns]"
      ]
     },
     "execution_count": 72,
     "metadata": {},
     "output_type": "execute_result"
    }
   ],
   "source": [
    "port_summary = ann_risk_return(port_ret)\n",
    "port_summary"
   ]
  },
  {
   "cell_type": "code",
   "execution_count": 73,
   "id": "9626d4c9",
   "metadata": {},
   "outputs": [
    {
     "data": {
      "text/html": [
       "<div>\n",
       "<style scoped>\n",
       "    .dataframe tbody tr th:only-of-type {\n",
       "        vertical-align: middle;\n",
       "    }\n",
       "\n",
       "    .dataframe tbody tr th {\n",
       "        vertical-align: top;\n",
       "    }\n",
       "\n",
       "    .dataframe thead th {\n",
       "        text-align: right;\n",
       "    }\n",
       "</style>\n",
       "<table border=\"1\" class=\"dataframe\">\n",
       "  <thead>\n",
       "    <tr style=\"text-align: right;\">\n",
       "      <th></th>\n",
       "      <th>ann. Risk</th>\n",
       "      <th>CAGR</th>\n",
       "      <th>RaR</th>\n",
       "    </tr>\n",
       "  </thead>\n",
       "  <tbody>\n",
       "    <tr>\n",
       "      <th>AAPL</th>\n",
       "      <td>0.3209</td>\n",
       "      <td>0.3068</td>\n",
       "      <td>0.9563</td>\n",
       "    </tr>\n",
       "    <tr>\n",
       "      <th>BA</th>\n",
       "      <td>0.4960</td>\n",
       "      <td>-0.0752</td>\n",
       "      <td>-0.1515</td>\n",
       "    </tr>\n",
       "    <tr>\n",
       "      <th>DIS</th>\n",
       "      <td>0.3069</td>\n",
       "      <td>-0.0223</td>\n",
       "      <td>-0.0727</td>\n",
       "    </tr>\n",
       "    <tr>\n",
       "      <th>GE</th>\n",
       "      <td>0.4321</td>\n",
       "      <td>-0.2132</td>\n",
       "      <td>-0.4934</td>\n",
       "    </tr>\n",
       "    <tr>\n",
       "      <th>JPM</th>\n",
       "      <td>0.3124</td>\n",
       "      <td>0.0376</td>\n",
       "      <td>0.1204</td>\n",
       "    </tr>\n",
       "    <tr>\n",
       "      <th>MSFT</th>\n",
       "      <td>0.2943</td>\n",
       "      <td>0.3014</td>\n",
       "      <td>1.0244</td>\n",
       "    </tr>\n",
       "    <tr>\n",
       "      <th>TSLA</th>\n",
       "      <td>0.6361</td>\n",
       "      <td>0.5965</td>\n",
       "      <td>0.9377</td>\n",
       "    </tr>\n",
       "    <tr>\n",
       "      <th>WMT</th>\n",
       "      <td>0.2312</td>\n",
       "      <td>0.1008</td>\n",
       "      <td>0.4362</td>\n",
       "    </tr>\n",
       "  </tbody>\n",
       "</table>\n",
       "</div>"
      ],
      "text/plain": [
       "      ann. Risk    CAGR     RaR\n",
       "AAPL     0.3209  0.3068  0.9563\n",
       "BA       0.4960 -0.0752 -0.1515\n",
       "DIS      0.3069 -0.0223 -0.0727\n",
       "GE       0.4321 -0.2132 -0.4934\n",
       "JPM      0.3124  0.0376  0.1204\n",
       "MSFT     0.2943  0.3014  1.0244\n",
       "TSLA     0.6361  0.5965  0.9377\n",
       "WMT      0.2312  0.1008  0.4362"
      ]
     },
     "execution_count": 73,
     "metadata": {},
     "output_type": "execute_result"
    }
   ],
   "source": [
    "summary"
   ]
  },
  {
   "cell_type": "code",
   "execution_count": 74,
   "id": "1acfab74",
   "metadata": {},
   "outputs": [
    {
     "data": {
      "image/png": "[encoded data removed]",
      "text/plain": [
       "<Figure size 1500x900 with 1 Axes>"
      ]
     },
     "metadata": {},
     "output_type": "display_data"
    }
   ],
   "source": [
    "plt.figure(figsize = (15, 9))\n",
    "plt.scatter(port_summary.loc[:, \"ann. Risk\"], port_summary.loc[:, \"CAGR\"],s= 20, color = \"red\")\n",
    "plt.scatter(summary.loc[:, \"ann. Risk\"], summary.loc[:, \"CAGR\"], s= 50, color = \"black\", marker = \"D\")\n",
    "for i in summary.index:\n",
    "    plt.annotate(i, xy=(summary.loc[i, \"ann. Risk\"]+0.01, summary.loc[i, \"CAGR\"]+0.01), size = 15)\n",
    "plt.xlabel(\"ann. Risk (std)\", fontsize = 15)\n",
    "plt.ylabel(\"CAGR\", fontsize = 15)\n",
    "plt.title(\"Risk/Return\", fontsize = 20)\n",
    "plt.show()"
   ]
  },
  {
   "cell_type": "markdown",
   "metadata": {},
   "source": [
    "---"
   ]
  },
  {
   "cell_type": "markdown",
   "id": "43e8584b",
   "metadata": {},
   "source": [
    "# Performance Measurement: Risk-adjusted Return"
   ]
  },
  {
   "cell_type": "markdown",
   "id": "8f3dcd53",
   "metadata": {},
   "source": [
    "__Risk-adjusted-Return (RaR): CAGR per unit of Risk. (similar to Sharpe Ratio)__"
   ]
  },
  {
   "cell_type": "code",
   "execution_count": 75,
   "id": "96508313",
   "metadata": {},
   "outputs": [
    {
     "data": {
      "text/html": [
       "<div>\n",
       "<style scoped>\n",
       "    .dataframe tbody tr th:only-of-type {\n",
       "        vertical-align: middle;\n",
       "    }\n",
       "\n",
       "    .dataframe tbody tr th {\n",
       "        vertical-align: top;\n",
       "    }\n",
       "\n",
       "    .dataframe thead th {\n",
       "        text-align: right;\n",
       "    }\n",
       "</style>\n",
       "<table border=\"1\" class=\"dataframe\">\n",
       "  <thead>\n",
       "    <tr style=\"text-align: right;\">\n",
       "      <th></th>\n",
       "      <th>ann. Risk</th>\n",
       "      <th>CAGR</th>\n",
       "      <th>RaR</th>\n",
       "    </tr>\n",
       "  </thead>\n",
       "  <tbody>\n",
       "    <tr>\n",
       "      <th>AAPL</th>\n",
       "      <td>0.3209</td>\n",
       "      <td>0.3068</td>\n",
       "      <td>0.9563</td>\n",
       "    </tr>\n",
       "    <tr>\n",
       "      <th>BA</th>\n",
       "      <td>0.4960</td>\n",
       "      <td>-0.0752</td>\n",
       "      <td>-0.1515</td>\n",
       "    </tr>\n",
       "    <tr>\n",
       "      <th>DIS</th>\n",
       "      <td>0.3069</td>\n",
       "      <td>-0.0223</td>\n",
       "      <td>-0.0727</td>\n",
       "    </tr>\n",
       "    <tr>\n",
       "      <th>GE</th>\n",
       "      <td>0.4321</td>\n",
       "      <td>-0.2132</td>\n",
       "      <td>-0.4934</td>\n",
       "    </tr>\n",
       "    <tr>\n",
       "      <th>JPM</th>\n",
       "      <td>0.3124</td>\n",
       "      <td>0.0376</td>\n",
       "      <td>0.1204</td>\n",
       "    </tr>\n",
       "    <tr>\n",
       "      <th>MSFT</th>\n",
       "      <td>0.2943</td>\n",
       "      <td>0.3014</td>\n",
       "      <td>1.0244</td>\n",
       "    </tr>\n",
       "    <tr>\n",
       "      <th>TSLA</th>\n",
       "      <td>0.6361</td>\n",
       "      <td>0.5965</td>\n",
       "      <td>0.9377</td>\n",
       "    </tr>\n",
       "    <tr>\n",
       "      <th>WMT</th>\n",
       "      <td>0.2312</td>\n",
       "      <td>0.1008</td>\n",
       "      <td>0.4362</td>\n",
       "    </tr>\n",
       "  </tbody>\n",
       "</table>\n",
       "</div>"
      ],
      "text/plain": [
       "      ann. Risk    CAGR     RaR\n",
       "AAPL     0.3209  0.3068  0.9563\n",
       "BA       0.4960 -0.0752 -0.1515\n",
       "DIS      0.3069 -0.0223 -0.0727\n",
       "GE       0.4321 -0.2132 -0.4934\n",
       "JPM      0.3124  0.0376  0.1204\n",
       "MSFT     0.2943  0.3014  1.0244\n",
       "TSLA     0.6361  0.5965  0.9377\n",
       "WMT      0.2312  0.1008  0.4362"
      ]
     },
     "execution_count": 75,
     "metadata": {},
     "output_type": "execute_result"
    }
   ],
   "source": [
    "summary[\"RaR\"] = summary[\"CAGR\"].div(summary[\"ann. Risk\"])\n",
    "summary"
   ]
  },
  {
   "cell_type": "code",
   "execution_count": 76,
   "id": "7123acbe",
   "metadata": {},
   "outputs": [],
   "source": [
    "port_summary[\"RaR\"] = port_summary[\"CAGR\"].div(port_summary[\"ann. Risk\"])"
   ]
  },
  {
   "cell_type": "code",
   "execution_count": 77,
   "id": "a0f1f54b",
   "metadata": {
    "scrolled": true
   },
   "outputs": [
    {
     "data": {
      "text/html": [
       "<div>\n",
       "<style scoped>\n",
       "    .dataframe tbody tr th:only-of-type {\n",
       "        vertical-align: middle;\n",
       "    }\n",
       "\n",
       "    .dataframe tbody tr th {\n",
       "        vertical-align: top;\n",
       "    }\n",
       "\n",
       "    .dataframe thead th {\n",
       "        text-align: right;\n",
       "    }\n",
       "</style>\n",
       "<table border=\"1\" class=\"dataframe\">\n",
       "  <thead>\n",
       "    <tr style=\"text-align: right;\">\n",
       "      <th></th>\n",
       "      <th>ann. Risk</th>\n",
       "      <th>CAGR</th>\n",
       "      <th>RaR</th>\n",
       "    </tr>\n",
       "  </thead>\n",
       "  <tbody>\n",
       "    <tr>\n",
       "      <th>2269</th>\n",
       "      <td>0.3217</td>\n",
       "      <td>-0.0401</td>\n",
       "      <td>-0.1247</td>\n",
       "    </tr>\n",
       "    <tr>\n",
       "      <th>9367</th>\n",
       "      <td>0.3249</td>\n",
       "      <td>-0.0371</td>\n",
       "      <td>-0.1142</td>\n",
       "    </tr>\n",
       "    <tr>\n",
       "      <th>559</th>\n",
       "      <td>0.2908</td>\n",
       "      <td>-0.0325</td>\n",
       "      <td>-0.1116</td>\n",
       "    </tr>\n",
       "    <tr>\n",
       "      <th>4231</th>\n",
       "      <td>0.2943</td>\n",
       "      <td>-0.0312</td>\n",
       "      <td>-0.1061</td>\n",
       "    </tr>\n",
       "    <tr>\n",
       "      <th>664</th>\n",
       "      <td>0.3128</td>\n",
       "      <td>-0.0302</td>\n",
       "      <td>-0.0964</td>\n",
       "    </tr>\n",
       "    <tr>\n",
       "      <th>...</th>\n",
       "      <td>...</td>\n",
       "      <td>...</td>\n",
       "      <td>...</td>\n",
       "    </tr>\n",
       "    <tr>\n",
       "      <th>6822</th>\n",
       "      <td>0.2681</td>\n",
       "      <td>0.3099</td>\n",
       "      <td>1.1562</td>\n",
       "    </tr>\n",
       "    <tr>\n",
       "      <th>1741</th>\n",
       "      <td>0.2696</td>\n",
       "      <td>0.3120</td>\n",
       "      <td>1.1573</td>\n",
       "    </tr>\n",
       "    <tr>\n",
       "      <th>3054</th>\n",
       "      <td>0.2671</td>\n",
       "      <td>0.3162</td>\n",
       "      <td>1.1838</td>\n",
       "    </tr>\n",
       "    <tr>\n",
       "      <th>8228</th>\n",
       "      <td>0.3392</td>\n",
       "      <td>0.4034</td>\n",
       "      <td>1.1894</td>\n",
       "    </tr>\n",
       "    <tr>\n",
       "      <th>6501</th>\n",
       "      <td>0.2808</td>\n",
       "      <td>0.3352</td>\n",
       "      <td>1.1939</td>\n",
       "    </tr>\n",
       "  </tbody>\n",
       "</table>\n",
       "<p>10000 rows × 3 columns</p>\n",
       "</div>"
      ],
      "text/plain": [
       "      ann. Risk    CAGR     RaR\n",
       "2269     0.3217 -0.0401 -0.1247\n",
       "9367     0.3249 -0.0371 -0.1142\n",
       "559      0.2908 -0.0325 -0.1116\n",
       "4231     0.2943 -0.0312 -0.1061\n",
       "664      0.3128 -0.0302 -0.0964\n",
       "...         ...     ...     ...\n",
       "6822     0.2681  0.3099  1.1562\n",
       "1741     0.2696  0.3120  1.1573\n",
       "3054     0.2671  0.3162  1.1838\n",
       "8228     0.3392  0.4034  1.1894\n",
       "6501     0.2808  0.3352  1.1939\n",
       "\n",
       "[10000 rows x 3 columns]"
      ]
     },
     "execution_count": 77,
     "metadata": {},
     "output_type": "execute_result"
    }
   ],
   "source": [
    "port_summary.sort_values(\"RaR\")"
   ]
  },
  {
   "cell_type": "code",
   "execution_count": 78,
   "id": "de196d1f",
   "metadata": {},
   "outputs": [
    {
     "data": {
      "text/plain": [
       "-0.12474306232913128"
      ]
     },
     "execution_count": 78,
     "metadata": {},
     "output_type": "execute_result"
    }
   ],
   "source": [
    "vmin = port_summary.RaR.min()\n",
    "vmin"
   ]
  },
  {
   "cell_type": "code",
   "execution_count": 79,
   "id": "aa50d75b",
   "metadata": {},
   "outputs": [
    {
     "data": {
      "text/plain": [
       "1.1938729489467585"
      ]
     },
     "execution_count": 79,
     "metadata": {},
     "output_type": "execute_result"
    }
   ],
   "source": [
    "vmax = port_summary.RaR.max()\n",
    "vmax"
   ]
  },
  {
   "cell_type": "code",
   "execution_count": 80,
   "id": "4e78ea87",
   "metadata": {},
   "outputs": [
    {
     "data": {
      "image/png": "[encoded data removed]",
      "text/plain": [
       "<Figure size 1500x800 with 2 Axes>"
      ]
     },
     "metadata": {},
     "output_type": "display_data"
    }
   ],
   "source": [
    "plt.figure(figsize = (15, 8))\n",
    "plt.scatter(port_summary.loc[:, \"ann. Risk\"], port_summary.loc[:, \"CAGR\"], s= 20, \n",
    "            c = port_summary.loc[:, \"RaR\"], cmap = \"coolwarm\", vmin = vmin, vmax = vmax, alpha = 0.66)\n",
    "plt.colorbar()\n",
    "plt.scatter(summary.loc[:, \"ann. Risk\"], summary.loc[:, \"CAGR\"],s= 50, marker = \"D\", c = \"black\")\n",
    "for i in summary.index:\n",
    "    plt.annotate(i, xy=(summary.loc[i, \"ann. Risk\"]+0.01, summary.loc[i, \"CAGR\"]+0.01), size = 15)\n",
    "plt.xlabel(\"ann. Risk (std)\", fontsize = 15)\n",
    "plt.ylabel(\"CAGR\", fontsize = 15)\n",
    "plt.title(\"Risk-adjusted Return\", fontsize = 20)\n",
    "plt.show()"
   ]
  },
  {
   "cell_type": "markdown",
   "metadata": {},
   "source": [
    "---"
   ]
  },
  {
   "cell_type": "markdown",
   "id": "471cd147",
   "metadata": {},
   "source": [
    "# Portfolio Optimization"
   ]
  },
  {
   "cell_type": "markdown",
   "id": "7af64c71",
   "metadata": {},
   "source": [
    "__Note: We are optimizing the past here (backward looking)!__"
   ]
  },
  {
   "cell_type": "code",
   "execution_count": 81,
   "id": "d763723a",
   "metadata": {},
   "outputs": [],
   "source": [
    "import scipy.optimize as sco\n",
    "pd.options.display.float_format = '{:.4f}'.format\n",
    "np.set_printoptions(suppress = True)"
   ]
  },
  {
   "cell_type": "code",
   "execution_count": 82,
   "id": "7d1ffb02",
   "metadata": {},
   "outputs": [
    {
     "data": {
      "text/html": [
       "<div>\n",
       "<style scoped>\n",
       "    .dataframe tbody tr th:only-of-type {\n",
       "        vertical-align: middle;\n",
       "    }\n",
       "\n",
       "    .dataframe tbody tr th {\n",
       "        vertical-align: top;\n",
       "    }\n",
       "\n",
       "    .dataframe thead th {\n",
       "        text-align: right;\n",
       "    }\n",
       "</style>\n",
       "<table border=\"1\" class=\"dataframe\">\n",
       "  <thead>\n",
       "    <tr style=\"text-align: right;\">\n",
       "      <th></th>\n",
       "      <th>AAPL</th>\n",
       "      <th>BA</th>\n",
       "      <th>DIS</th>\n",
       "      <th>GE</th>\n",
       "      <th>JPM</th>\n",
       "      <th>MSFT</th>\n",
       "      <th>TSLA</th>\n",
       "      <th>WMT</th>\n",
       "    </tr>\n",
       "    <tr>\n",
       "      <th>Date</th>\n",
       "      <th></th>\n",
       "      <th></th>\n",
       "      <th></th>\n",
       "      <th></th>\n",
       "      <th></th>\n",
       "      <th></th>\n",
       "      <th></th>\n",
       "      <th></th>\n",
       "    </tr>\n",
       "  </thead>\n",
       "  <tbody>\n",
       "    <tr>\n",
       "      <th>2017-07-05</th>\n",
       "      <td>0.0041</td>\n",
       "      <td>0.0162</td>\n",
       "      <td>-0.0170</td>\n",
       "      <td>-0.0036</td>\n",
       "      <td>0.0100</td>\n",
       "      <td>0.0133</td>\n",
       "      <td>-0.0724</td>\n",
       "      <td>-0.0005</td>\n",
       "    </tr>\n",
       "    <tr>\n",
       "      <th>2017-07-06</th>\n",
       "      <td>-0.0094</td>\n",
       "      <td>-0.0016</td>\n",
       "      <td>-0.0216</td>\n",
       "      <td>-0.0380</td>\n",
       "      <td>-0.0032</td>\n",
       "      <td>-0.0074</td>\n",
       "      <td>-0.0558</td>\n",
       "      <td>0.0020</td>\n",
       "    </tr>\n",
       "    <tr>\n",
       "      <th>2017-07-07</th>\n",
       "      <td>0.0102</td>\n",
       "      <td>0.0044</td>\n",
       "      <td>-0.0003</td>\n",
       "      <td>-0.0061</td>\n",
       "      <td>0.0050</td>\n",
       "      <td>0.0130</td>\n",
       "      <td>0.0142</td>\n",
       "      <td>-0.0019</td>\n",
       "    </tr>\n",
       "    <tr>\n",
       "      <th>2017-07-10</th>\n",
       "      <td>0.0061</td>\n",
       "      <td>0.0079</td>\n",
       "      <td>0.0026</td>\n",
       "      <td>-0.0042</td>\n",
       "      <td>-0.0070</td>\n",
       "      <td>0.0075</td>\n",
       "      <td>0.0090</td>\n",
       "      <td>-0.0279</td>\n",
       "    </tr>\n",
       "    <tr>\n",
       "      <th>2017-07-11</th>\n",
       "      <td>0.0032</td>\n",
       "      <td>0.0113</td>\n",
       "      <td>0.0024</td>\n",
       "      <td>0.0131</td>\n",
       "      <td>-0.0039</td>\n",
       "      <td>0.0001</td>\n",
       "      <td>0.0353</td>\n",
       "      <td>0.0033</td>\n",
       "    </tr>\n",
       "    <tr>\n",
       "      <th>...</th>\n",
       "      <td>...</td>\n",
       "      <td>...</td>\n",
       "      <td>...</td>\n",
       "      <td>...</td>\n",
       "      <td>...</td>\n",
       "      <td>...</td>\n",
       "      <td>...</td>\n",
       "      <td>...</td>\n",
       "    </tr>\n",
       "    <tr>\n",
       "      <th>2022-06-24</th>\n",
       "      <td>0.0245</td>\n",
       "      <td>0.0564</td>\n",
       "      <td>0.0369</td>\n",
       "      <td>0.0470</td>\n",
       "      <td>0.0298</td>\n",
       "      <td>0.0341</td>\n",
       "      <td>0.0452</td>\n",
       "      <td>0.0008</td>\n",
       "    </tr>\n",
       "    <tr>\n",
       "      <th>2022-06-27</th>\n",
       "      <td>0.0000</td>\n",
       "      <td>-0.0199</td>\n",
       "      <td>-0.0120</td>\n",
       "      <td>-0.0055</td>\n",
       "      <td>-0.0080</td>\n",
       "      <td>-0.0105</td>\n",
       "      <td>-0.0032</td>\n",
       "      <td>0.0032</td>\n",
       "    </tr>\n",
       "    <tr>\n",
       "      <th>2022-06-28</th>\n",
       "      <td>-0.0298</td>\n",
       "      <td>-0.0001</td>\n",
       "      <td>-0.0071</td>\n",
       "      <td>-0.0124</td>\n",
       "      <td>-0.0048</td>\n",
       "      <td>-0.0317</td>\n",
       "      <td>-0.0500</td>\n",
       "      <td>-0.0141</td>\n",
       "    </tr>\n",
       "    <tr>\n",
       "      <th>2022-06-29</th>\n",
       "      <td>0.0130</td>\n",
       "      <td>-0.0018</td>\n",
       "      <td>-0.0028</td>\n",
       "      <td>-0.0332</td>\n",
       "      <td>-0.0045</td>\n",
       "      <td>0.0147</td>\n",
       "      <td>-0.0179</td>\n",
       "      <td>-0.0037</td>\n",
       "    </tr>\n",
       "    <tr>\n",
       "      <th>2022-06-30</th>\n",
       "      <td>-0.0180</td>\n",
       "      <td>-0.0125</td>\n",
       "      <td>-0.0131</td>\n",
       "      <td>-0.0003</td>\n",
       "      <td>-0.0233</td>\n",
       "      <td>-0.0132</td>\n",
       "      <td>-0.0176</td>\n",
       "      <td>-0.0028</td>\n",
       "    </tr>\n",
       "  </tbody>\n",
       "</table>\n",
       "<p>1257 rows × 8 columns</p>\n",
       "</div>"
      ],
      "text/plain": [
       "              AAPL      BA     DIS      GE     JPM    MSFT    TSLA     WMT\n",
       "Date                                                                      \n",
       "2017-07-05  0.0041  0.0162 -0.0170 -0.0036  0.0100  0.0133 -0.0724 -0.0005\n",
       "2017-07-06 -0.0094 -0.0016 -0.0216 -0.0380 -0.0032 -0.0074 -0.0558  0.0020\n",
       "2017-07-07  0.0102  0.0044 -0.0003 -0.0061  0.0050  0.0130  0.0142 -0.0019\n",
       "2017-07-10  0.0061  0.0079  0.0026 -0.0042 -0.0070  0.0075  0.0090 -0.0279\n",
       "2017-07-11  0.0032  0.0113  0.0024  0.0131 -0.0039  0.0001  0.0353  0.0033\n",
       "...            ...     ...     ...     ...     ...     ...     ...     ...\n",
       "2022-06-24  0.0245  0.0564  0.0369  0.0470  0.0298  0.0341  0.0452  0.0008\n",
       "2022-06-27  0.0000 -0.0199 -0.0120 -0.0055 -0.0080 -0.0105 -0.0032  0.0032\n",
       "2022-06-28 -0.0298 -0.0001 -0.0071 -0.0124 -0.0048 -0.0317 -0.0500 -0.0141\n",
       "2022-06-29  0.0130 -0.0018 -0.0028 -0.0332 -0.0045  0.0147 -0.0179 -0.0037\n",
       "2022-06-30 -0.0180 -0.0125 -0.0131 -0.0003 -0.0233 -0.0132 -0.0176 -0.0028\n",
       "\n",
       "[1257 rows x 8 columns]"
      ]
     },
     "execution_count": 82,
     "metadata": {},
     "output_type": "execute_result"
    }
   ],
   "source": [
    "returns "
   ]
  },
  {
   "cell_type": "code",
   "execution_count": 83,
   "id": "1fee61e4",
   "metadata": {},
   "outputs": [],
   "source": [
    "#calculate portfolio CAGR (based on weights)\n",
    "def port_ret(weights):\n",
    "    simple_ret = returns.dot(weights.T)\n",
    "    log_returns = np.log(simple_ret + 1)\n",
    "    cagr = np.exp(log_returns.mean() * 252) - 1\n",
    "    return cagr"
   ]
  },
  {
   "cell_type": "code",
   "execution_count": 84,
   "id": "bf327913",
   "metadata": {},
   "outputs": [],
   "source": [
    "#calculate annualized portfolio volatility (based on weights)\n",
    "def port_vol(weights):\n",
    "    simple_ret = returns.dot(weights.T)\n",
    "    return simple_ret.std() * np.sqrt(252)"
   ]
  },
  {
   "cell_type": "code",
   "execution_count": 85,
   "id": "43913eb3",
   "metadata": {},
   "outputs": [],
   "source": [
    "#define function to be minimized (sco only supports minimize, not maximize)\n",
    "#-> maximize RaR == minimize RaR * (-1)\n",
    "def min_func_RaR(weights): \n",
    "     return -(port_ret(weights)) / port_vol(weights) #Risk-adjusted Return * (-1)"
   ]
  },
  {
   "cell_type": "code",
   "execution_count": 86,
   "id": "70be4a51",
   "metadata": {},
   "outputs": [
    {
     "data": {
      "text/plain": [
       "8"
      ]
     },
     "execution_count": 86,
     "metadata": {},
     "output_type": "execute_result"
    }
   ],
   "source": [
    "#number of assets\n",
    "noa = len(returns.columns)\n",
    "noa"
   ]
  },
  {
   "cell_type": "code",
   "execution_count": 87,
   "id": "6626b185",
   "metadata": {},
   "outputs": [
    {
     "data": {
      "text/plain": [
       "array([0.125, 0.125, 0.125, 0.125, 0.125, 0.125, 0.125, 0.125])"
      ]
     },
     "execution_count": 87,
     "metadata": {},
     "output_type": "execute_result"
    }
   ],
   "source": [
    "#equal weights (starting point of optimization)\n",
    "eweigths = np.full(noa, 1/noa)\n",
    "eweigths"
   ]
  },
  {
   "cell_type": "code",
   "execution_count": 88,
   "id": "062303e5",
   "metadata": {},
   "outputs": [],
   "source": [
    "#constraint: weights must sum up to 1 -> sum of weights - 1 = 0\n",
    "cons = ({\"type\": \"eq\", \"fun\": lambda x: np.sum(x) - 1})"
   ]
  },
  {
   "cell_type": "code",
   "execution_count": 89,
   "id": "10028f35",
   "metadata": {},
   "outputs": [
    {
     "data": {
      "text/plain": [
       "((0, 1), (0, 1), (0, 1), (0, 1), (0, 1), (0, 1), (0, 1), (0, 1))"
      ]
     },
     "execution_count": 89,
     "metadata": {},
     "output_type": "execute_result"
    }
   ],
   "source": [
    "#bounds: all weights shall be between 0 and 1 -> can be changed\n",
    "bnds =  tuple((0, 1) for x in range(noa))\n",
    "bnds"
   ]
  },
  {
   "cell_type": "code",
   "execution_count": 90,
   "id": "f78b75ef",
   "metadata": {},
   "outputs": [],
   "source": [
    "#run optimization based on function to be minimized, starting with equal weights and based on respective bounds and constraints\n",
    "opts = sco.minimize(min_func_RaR, eweigths, method = \"SLSQP\", bounds = bnds, constraints= cons)"
   ]
  },
  {
   "cell_type": "code",
   "execution_count": 91,
   "id": "d04599ba",
   "metadata": {},
   "outputs": [
    {
     "data": {
      "text/plain": [
       " message: Optimization terminated successfully\n",
       " success: True\n",
       "  status: 0\n",
       "     fun: -1.290228328607146\n",
       "       x: [ 2.114e-01  0.000e+00  1.423e-16  7.902e-16  0.000e+00\n",
       "            3.920e-01  2.521e-01  1.445e-01]\n",
       "     nit: 9\n",
       "     jac: [-1.097e-02  1.062e+00  7.306e-01  1.528e+00  4.257e-01\n",
       "           -1.200e-02 -1.193e-02 -1.137e-02]\n",
       "    nfev: 84\n",
       "    njev: 9"
      ]
     },
     "execution_count": 91,
     "metadata": {},
     "output_type": "execute_result"
    }
   ],
   "source": [
    "#output of optimization\n",
    "opts"
   ]
  },
  {
   "cell_type": "code",
   "execution_count": 92,
   "id": "ec2c9604",
   "metadata": {
    "scrolled": true
   },
   "outputs": [
    {
     "data": {
      "text/plain": [
       "array([0.21141758, 0.        , 0.        , 0.        , 0.        ,\n",
       "       0.3919723 , 0.25213035, 0.14447978])"
      ]
     },
     "execution_count": 92,
     "metadata": {},
     "output_type": "execute_result"
    }
   ],
   "source": [
    "#getting the optimal weights\n",
    "optimal_weights = opts[\"x\"]\n",
    "optimal_weights"
   ]
  },
  {
   "cell_type": "code",
   "execution_count": 93,
   "id": "94a271c3",
   "metadata": {
    "scrolled": true
   },
   "outputs": [
    {
     "data": {
      "text/plain": [
       "MSFT   0.3920\n",
       "TSLA   0.2521\n",
       "AAPL   0.2114\n",
       "WMT    0.1445\n",
       "GE     0.0000\n",
       "DIS    0.0000\n",
       "BA     0.0000\n",
       "JPM    0.0000\n",
       "dtype: float64"
      ]
     },
     "execution_count": 93,
     "metadata": {},
     "output_type": "execute_result"
    }
   ],
   "source": [
    "pd.Series(data = optimal_weights, index = returns.columns).sort_values(ascending = False).head(20)"
   ]
  },
  {
   "cell_type": "markdown",
   "id": "0de751e0",
   "metadata": {},
   "source": [
    "-> __Optimization (without bounds) does not necessarily lead to practical/factual diversification.__"
   ]
  },
  {
   "cell_type": "code",
   "execution_count": 94,
   "id": "d3cae57b",
   "metadata": {},
   "outputs": [
    {
     "data": {
      "text/plain": [
       "0.38603963232210536"
      ]
     },
     "execution_count": 94,
     "metadata": {},
     "output_type": "execute_result"
    }
   ],
   "source": [
    "#cagr of the optimal portfolio\n",
    "cagr_opt = port_ret(optimal_weights)\n",
    "cagr_opt"
   ]
  },
  {
   "cell_type": "code",
   "execution_count": 95,
   "id": "139c06bb",
   "metadata": {},
   "outputs": [
    {
     "data": {
      "text/plain": [
       "0.29920257039996234"
      ]
     },
     "execution_count": 95,
     "metadata": {},
     "output_type": "execute_result"
    }
   ],
   "source": [
    "#volatility of the optimal portfolio\n",
    "vol_opt = port_vol(optimal_weights)\n",
    "vol_opt"
   ]
  },
  {
   "cell_type": "code",
   "execution_count": 96,
   "id": "efe127cd",
   "metadata": {},
   "outputs": [
    {
     "data": {
      "text/plain": [
       "1.290228328607146"
      ]
     },
     "execution_count": 96,
     "metadata": {},
     "output_type": "execute_result"
    }
   ],
   "source": [
    "#RaR of the optimal portfolio\n",
    "RaR_opt = -min_func_RaR(optimal_weights)\n",
    "RaR_opt"
   ]
  },
  {
   "cell_type": "code",
   "execution_count": 97,
   "id": "a6ac631c",
   "metadata": {},
   "outputs": [
    {
     "data": {
      "image/png": "[encoded data removed]",
      "text/plain": [
       "<Figure size 1500x800 with 2 Axes>"
      ]
     },
     "metadata": {},
     "output_type": "display_data"
    }
   ],
   "source": [
    "plt.figure(figsize = (15, 8))\n",
    "plt.scatter(port_summary.loc[:, \"ann. Risk\"], port_summary.loc[:, \"CAGR\"], s= 20, \n",
    "            c = port_summary.loc[:, \"RaR\"], cmap = \"coolwarm\", vmin = vmin, vmax = vmax, alpha = 0.66)\n",
    "plt.colorbar()\n",
    "plt.scatter(summary.loc[:, \"ann. Risk\"], summary.loc[:, \"CAGR\"],s= 50, marker = \"D\", c = \"black\")\n",
    "for i in summary.index:\n",
    "    plt.annotate(i, xy=(summary.loc[i, \"ann. Risk\"]+0.01, summary.loc[i, \"CAGR\"]+0.01), size = 15)\n",
    "plt.scatter(x = vol_opt, y = cagr_opt, s = 100, marker = \"X\", c = \"purple\") # best Portfolio\n",
    "plt.xlabel(\"ann. Risk (std)\", fontsize = 15)\n",
    "plt.ylabel(\"CAGR\", fontsize = 15)\n",
    "plt.title(\"The optimal Portfolio\", fontsize = 20)\n",
    "plt.show()"
   ]
  },
  {
   "cell_type": "markdown",
   "id": "9433b8c6",
   "metadata": {},
   "source": [
    "__Reminder: We are optimizing the past here (backward looking).__ <br>\n",
    "-> Very unlikely we had selected this optimal portfolio back in 2017 (__look ahead bias__)! <br>\n",
    "-> Very unlikely this will be the optimal portfolio in the future (__past performance is not a good indicator for future performance__)!"
   ]
  },
  {
   "cell_type": "code",
   "execution_count": null,
   "id": "564f0a6f",
   "metadata": {},
   "outputs": [],
   "source": []
  },
  {
   "cell_type": "markdown",
   "id": "d2fdf2c7",
   "metadata": {},
   "source": [
    "## Minimum Variance Portfolio"
   ]
  },
  {
   "cell_type": "markdown",
   "id": "c532f27c",
   "metadata": {},
   "source": [
    "(use code above with following replacements:)"
   ]
  },
  {
   "cell_type": "code",
   "execution_count": 98,
   "id": "b16983fb",
   "metadata": {},
   "outputs": [],
   "source": [
    "# Minimum Variance Portfolio\n",
    "opts = sco.minimize(port_vol, eweigths, method = \"SLSQP\", bounds = bnds, constraints= cons)"
   ]
  },
  {
   "cell_type": "code",
   "execution_count": null,
   "id": "49058412",
   "metadata": {},
   "outputs": [],
   "source": []
  },
  {
   "cell_type": "markdown",
   "id": "db3d6539",
   "metadata": {},
   "source": [
    "## Maximum Return Portfolio"
   ]
  },
  {
   "cell_type": "markdown",
   "id": "ebae188d",
   "metadata": {},
   "source": [
    "(use code above with following replacements:)"
   ]
  },
  {
   "cell_type": "code",
   "execution_count": 99,
   "id": "62e426c2",
   "metadata": {},
   "outputs": [],
   "source": [
    "#calculate portfolio CAGR (based on weights)\n",
    "def port_ret(weights):\n",
    "    simple_ret = returns.dot(weights.T)\n",
    "    log_returns = np.log(simple_ret + 1)\n",
    "    cagr = np.exp(log_returns.mean() * 252) - 1\n",
    "    return cagr * (-1)"
   ]
  },
  {
   "cell_type": "code",
   "execution_count": 100,
   "id": "10ba18a3",
   "metadata": {},
   "outputs": [],
   "source": [
    "# Maximum Return Portfolio\n",
    "opts = sco.minimize(port_ret, eweigths, method = \"SLSQP\", bounds = bnds, constraints= cons)"
   ]
  },
  {
   "cell_type": "code",
   "execution_count": 101,
   "id": "4e7a9e55",
   "metadata": {},
   "outputs": [
    {
     "data": {
      "text/plain": [
       "0.38603963232210536"
      ]
     },
     "execution_count": 101,
     "metadata": {},
     "output_type": "execute_result"
    }
   ],
   "source": [
    "#cagr of the optimal portfolio\n",
    "cagr_opt = -port_ret(optimal_weights)\n",
    "cagr_opt"
   ]
  },
  {
   "cell_type": "markdown",
   "metadata": {},
   "source": [
    "---"
   ]
  },
  {
   "cell_type": "markdown",
   "id": "13cfbafd",
   "metadata": {},
   "source": [
    "## The Efficient Frontier"
   ]
  },
  {
   "cell_type": "markdown",
   "id": "e9fc6178",
   "metadata": {},
   "source": [
    "__Idea: Find for each return level the portfolio with the lowest volatility.__"
   ]
  },
  {
   "cell_type": "code",
   "execution_count": 102,
   "id": "b3998328",
   "metadata": {},
   "outputs": [
    {
     "data": {
      "text/html": [
       "<div>\n",
       "<style scoped>\n",
       "    .dataframe tbody tr th:only-of-type {\n",
       "        vertical-align: middle;\n",
       "    }\n",
       "\n",
       "    .dataframe tbody tr th {\n",
       "        vertical-align: top;\n",
       "    }\n",
       "\n",
       "    .dataframe thead th {\n",
       "        text-align: right;\n",
       "    }\n",
       "</style>\n",
       "<table border=\"1\" class=\"dataframe\">\n",
       "  <thead>\n",
       "    <tr style=\"text-align: right;\">\n",
       "      <th></th>\n",
       "      <th>AAPL</th>\n",
       "      <th>BA</th>\n",
       "      <th>DIS</th>\n",
       "      <th>GE</th>\n",
       "      <th>JPM</th>\n",
       "      <th>MSFT</th>\n",
       "      <th>TSLA</th>\n",
       "      <th>WMT</th>\n",
       "    </tr>\n",
       "    <tr>\n",
       "      <th>Date</th>\n",
       "      <th></th>\n",
       "      <th></th>\n",
       "      <th></th>\n",
       "      <th></th>\n",
       "      <th></th>\n",
       "      <th></th>\n",
       "      <th></th>\n",
       "      <th></th>\n",
       "    </tr>\n",
       "  </thead>\n",
       "  <tbody>\n",
       "    <tr>\n",
       "      <th>2017-07-05</th>\n",
       "      <td>0.0041</td>\n",
       "      <td>0.0162</td>\n",
       "      <td>-0.0170</td>\n",
       "      <td>-0.0036</td>\n",
       "      <td>0.0100</td>\n",
       "      <td>0.0133</td>\n",
       "      <td>-0.0724</td>\n",
       "      <td>-0.0005</td>\n",
       "    </tr>\n",
       "    <tr>\n",
       "      <th>2017-07-06</th>\n",
       "      <td>-0.0094</td>\n",
       "      <td>-0.0016</td>\n",
       "      <td>-0.0216</td>\n",
       "      <td>-0.0380</td>\n",
       "      <td>-0.0032</td>\n",
       "      <td>-0.0074</td>\n",
       "      <td>-0.0558</td>\n",
       "      <td>0.0020</td>\n",
       "    </tr>\n",
       "    <tr>\n",
       "      <th>2017-07-07</th>\n",
       "      <td>0.0102</td>\n",
       "      <td>0.0044</td>\n",
       "      <td>-0.0003</td>\n",
       "      <td>-0.0061</td>\n",
       "      <td>0.0050</td>\n",
       "      <td>0.0130</td>\n",
       "      <td>0.0142</td>\n",
       "      <td>-0.0019</td>\n",
       "    </tr>\n",
       "    <tr>\n",
       "      <th>2017-07-10</th>\n",
       "      <td>0.0061</td>\n",
       "      <td>0.0079</td>\n",
       "      <td>0.0026</td>\n",
       "      <td>-0.0042</td>\n",
       "      <td>-0.0070</td>\n",
       "      <td>0.0075</td>\n",
       "      <td>0.0090</td>\n",
       "      <td>-0.0279</td>\n",
       "    </tr>\n",
       "    <tr>\n",
       "      <th>2017-07-11</th>\n",
       "      <td>0.0032</td>\n",
       "      <td>0.0113</td>\n",
       "      <td>0.0024</td>\n",
       "      <td>0.0131</td>\n",
       "      <td>-0.0039</td>\n",
       "      <td>0.0001</td>\n",
       "      <td>0.0353</td>\n",
       "      <td>0.0033</td>\n",
       "    </tr>\n",
       "    <tr>\n",
       "      <th>...</th>\n",
       "      <td>...</td>\n",
       "      <td>...</td>\n",
       "      <td>...</td>\n",
       "      <td>...</td>\n",
       "      <td>...</td>\n",
       "      <td>...</td>\n",
       "      <td>...</td>\n",
       "      <td>...</td>\n",
       "    </tr>\n",
       "    <tr>\n",
       "      <th>2022-06-24</th>\n",
       "      <td>0.0245</td>\n",
       "      <td>0.0564</td>\n",
       "      <td>0.0369</td>\n",
       "      <td>0.0470</td>\n",
       "      <td>0.0298</td>\n",
       "      <td>0.0341</td>\n",
       "      <td>0.0452</td>\n",
       "      <td>0.0008</td>\n",
       "    </tr>\n",
       "    <tr>\n",
       "      <th>2022-06-27</th>\n",
       "      <td>0.0000</td>\n",
       "      <td>-0.0199</td>\n",
       "      <td>-0.0120</td>\n",
       "      <td>-0.0055</td>\n",
       "      <td>-0.0080</td>\n",
       "      <td>-0.0105</td>\n",
       "      <td>-0.0032</td>\n",
       "      <td>0.0032</td>\n",
       "    </tr>\n",
       "    <tr>\n",
       "      <th>2022-06-28</th>\n",
       "      <td>-0.0298</td>\n",
       "      <td>-0.0001</td>\n",
       "      <td>-0.0071</td>\n",
       "      <td>-0.0124</td>\n",
       "      <td>-0.0048</td>\n",
       "      <td>-0.0317</td>\n",
       "      <td>-0.0500</td>\n",
       "      <td>-0.0141</td>\n",
       "    </tr>\n",
       "    <tr>\n",
       "      <th>2022-06-29</th>\n",
       "      <td>0.0130</td>\n",
       "      <td>-0.0018</td>\n",
       "      <td>-0.0028</td>\n",
       "      <td>-0.0332</td>\n",
       "      <td>-0.0045</td>\n",
       "      <td>0.0147</td>\n",
       "      <td>-0.0179</td>\n",
       "      <td>-0.0037</td>\n",
       "    </tr>\n",
       "    <tr>\n",
       "      <th>2022-06-30</th>\n",
       "      <td>-0.0180</td>\n",
       "      <td>-0.0125</td>\n",
       "      <td>-0.0131</td>\n",
       "      <td>-0.0003</td>\n",
       "      <td>-0.0233</td>\n",
       "      <td>-0.0132</td>\n",
       "      <td>-0.0176</td>\n",
       "      <td>-0.0028</td>\n",
       "    </tr>\n",
       "  </tbody>\n",
       "</table>\n",
       "<p>1257 rows × 8 columns</p>\n",
       "</div>"
      ],
      "text/plain": [
       "              AAPL      BA     DIS      GE     JPM    MSFT    TSLA     WMT\n",
       "Date                                                                      \n",
       "2017-07-05  0.0041  0.0162 -0.0170 -0.0036  0.0100  0.0133 -0.0724 -0.0005\n",
       "2017-07-06 -0.0094 -0.0016 -0.0216 -0.0380 -0.0032 -0.0074 -0.0558  0.0020\n",
       "2017-07-07  0.0102  0.0044 -0.0003 -0.0061  0.0050  0.0130  0.0142 -0.0019\n",
       "2017-07-10  0.0061  0.0079  0.0026 -0.0042 -0.0070  0.0075  0.0090 -0.0279\n",
       "2017-07-11  0.0032  0.0113  0.0024  0.0131 -0.0039  0.0001  0.0353  0.0033\n",
       "...            ...     ...     ...     ...     ...     ...     ...     ...\n",
       "2022-06-24  0.0245  0.0564  0.0369  0.0470  0.0298  0.0341  0.0452  0.0008\n",
       "2022-06-27  0.0000 -0.0199 -0.0120 -0.0055 -0.0080 -0.0105 -0.0032  0.0032\n",
       "2022-06-28 -0.0298 -0.0001 -0.0071 -0.0124 -0.0048 -0.0317 -0.0500 -0.0141\n",
       "2022-06-29  0.0130 -0.0018 -0.0028 -0.0332 -0.0045  0.0147 -0.0179 -0.0037\n",
       "2022-06-30 -0.0180 -0.0125 -0.0131 -0.0003 -0.0233 -0.0132 -0.0176 -0.0028\n",
       "\n",
       "[1257 rows x 8 columns]"
      ]
     },
     "execution_count": 102,
     "metadata": {},
     "output_type": "execute_result"
    }
   ],
   "source": [
    "returns"
   ]
  },
  {
   "cell_type": "code",
   "execution_count": 103,
   "id": "b338367b",
   "metadata": {},
   "outputs": [
    {
     "data": {
      "text/html": [
       "<div>\n",
       "<style scoped>\n",
       "    .dataframe tbody tr th:only-of-type {\n",
       "        vertical-align: middle;\n",
       "    }\n",
       "\n",
       "    .dataframe tbody tr th {\n",
       "        vertical-align: top;\n",
       "    }\n",
       "\n",
       "    .dataframe thead th {\n",
       "        text-align: right;\n",
       "    }\n",
       "</style>\n",
       "<table border=\"1\" class=\"dataframe\">\n",
       "  <thead>\n",
       "    <tr style=\"text-align: right;\">\n",
       "      <th></th>\n",
       "      <th>ann. Risk</th>\n",
       "      <th>CAGR</th>\n",
       "      <th>RaR</th>\n",
       "    </tr>\n",
       "  </thead>\n",
       "  <tbody>\n",
       "    <tr>\n",
       "      <th>AAPL</th>\n",
       "      <td>0.3209</td>\n",
       "      <td>0.3068</td>\n",
       "      <td>0.9563</td>\n",
       "    </tr>\n",
       "    <tr>\n",
       "      <th>BA</th>\n",
       "      <td>0.4960</td>\n",
       "      <td>-0.0752</td>\n",
       "      <td>-0.1515</td>\n",
       "    </tr>\n",
       "    <tr>\n",
       "      <th>DIS</th>\n",
       "      <td>0.3069</td>\n",
       "      <td>-0.0223</td>\n",
       "      <td>-0.0727</td>\n",
       "    </tr>\n",
       "    <tr>\n",
       "      <th>GE</th>\n",
       "      <td>0.4321</td>\n",
       "      <td>-0.2132</td>\n",
       "      <td>-0.4934</td>\n",
       "    </tr>\n",
       "    <tr>\n",
       "      <th>JPM</th>\n",
       "      <td>0.3124</td>\n",
       "      <td>0.0376</td>\n",
       "      <td>0.1204</td>\n",
       "    </tr>\n",
       "    <tr>\n",
       "      <th>MSFT</th>\n",
       "      <td>0.2943</td>\n",
       "      <td>0.3014</td>\n",
       "      <td>1.0244</td>\n",
       "    </tr>\n",
       "    <tr>\n",
       "      <th>TSLA</th>\n",
       "      <td>0.6361</td>\n",
       "      <td>0.5965</td>\n",
       "      <td>0.9377</td>\n",
       "    </tr>\n",
       "    <tr>\n",
       "      <th>WMT</th>\n",
       "      <td>0.2312</td>\n",
       "      <td>0.1008</td>\n",
       "      <td>0.4362</td>\n",
       "    </tr>\n",
       "  </tbody>\n",
       "</table>\n",
       "</div>"
      ],
      "text/plain": [
       "      ann. Risk    CAGR     RaR\n",
       "AAPL     0.3209  0.3068  0.9563\n",
       "BA       0.4960 -0.0752 -0.1515\n",
       "DIS      0.3069 -0.0223 -0.0727\n",
       "GE       0.4321 -0.2132 -0.4934\n",
       "JPM      0.3124  0.0376  0.1204\n",
       "MSFT     0.2943  0.3014  1.0244\n",
       "TSLA     0.6361  0.5965  0.9377\n",
       "WMT      0.2312  0.1008  0.4362"
      ]
     },
     "execution_count": 103,
     "metadata": {},
     "output_type": "execute_result"
    }
   ],
   "source": [
    "summary"
   ]
  },
  {
   "cell_type": "code",
   "execution_count": 104,
   "id": "b085489d",
   "metadata": {},
   "outputs": [],
   "source": [
    "#calculate portfolio CAGR (based on weights)\n",
    "def port_ret(weights):\n",
    "    simple_ret = returns.dot(weights.T).iloc[1:]\n",
    "    log_returns = np.log(simple_ret + 1)\n",
    "    cagr = np.exp(log_returns.mean() * 252) - 1\n",
    "    return cagr"
   ]
  },
  {
   "cell_type": "code",
   "execution_count": 105,
   "id": "0ba9b074",
   "metadata": {},
   "outputs": [],
   "source": [
    "#calculate annualized portfolio volatility (based on weights)\n",
    "def port_vol(weights):\n",
    "    simple_ret = returns.dot(weights.T).iloc[1:]\n",
    "    return simple_ret.std() * np.sqrt(252)"
   ]
  },
  {
   "cell_type": "code",
   "execution_count": 106,
   "id": "e418ca1a",
   "metadata": {},
   "outputs": [
    {
     "data": {
      "text/plain": [
       "8"
      ]
     },
     "execution_count": 106,
     "metadata": {},
     "output_type": "execute_result"
    }
   ],
   "source": [
    "noa = len(returns.columns)\n",
    "noa"
   ]
  },
  {
   "cell_type": "code",
   "execution_count": 107,
   "id": "7c6ed7e8",
   "metadata": {},
   "outputs": [
    {
     "data": {
      "text/plain": [
       "array([0.125, 0.125, 0.125, 0.125, 0.125, 0.125, 0.125, 0.125])"
      ]
     },
     "execution_count": 107,
     "metadata": {},
     "output_type": "execute_result"
    }
   ],
   "source": [
    "#equal weights (starting point of optimization)\n",
    "eweigths = np.full(noa, 1/noa)\n",
    "eweigths"
   ]
  },
  {
   "cell_type": "code",
   "execution_count": 108,
   "id": "8c662a4d",
   "metadata": {},
   "outputs": [
    {
     "data": {
      "text/plain": [
       "array([-0.21321957, -0.20504081, -0.19686206, -0.18868331, -0.18050455,\n",
       "       -0.1723258 , -0.16414704, -0.15596829, -0.14778953, -0.13961078,\n",
       "       -0.13143202, -0.12325327, -0.11507451, -0.10689576, -0.098717  ,\n",
       "       -0.09053825, -0.08235949, -0.07418074, -0.06600198, -0.05782323,\n",
       "       -0.04964447, -0.04146572, -0.03328696, -0.02510821, -0.01692945,\n",
       "       -0.0087507 , -0.00057194,  0.00760681,  0.01578557,  0.02396432,\n",
       "        0.03214308,  0.04032183,  0.04850058,  0.05667934,  0.06485809,\n",
       "        0.07303685,  0.0812156 ,  0.08939436,  0.09757311,  0.10575187,\n",
       "        0.11393062,  0.12210938,  0.13028813,  0.13846689,  0.14664564,\n",
       "        0.1548244 ,  0.16300315,  0.17118191,  0.17936066,  0.18753942,\n",
       "        0.19571817,  0.20389693,  0.21207568,  0.22025444,  0.22843319,\n",
       "        0.23661195,  0.2447907 ,  0.25296946,  0.26114821,  0.26932697,\n",
       "        0.27750572,  0.28568448,  0.29386323,  0.30204198,  0.31022074,\n",
       "        0.31839949,  0.32657825,  0.334757  ,  0.34293576,  0.35111451,\n",
       "        0.35929327,  0.36747202,  0.37565078,  0.38382953,  0.39200829,\n",
       "        0.40018704,  0.4083658 ,  0.41654455,  0.42472331,  0.43290206,\n",
       "        0.44108082,  0.44925957,  0.45743833,  0.46561708,  0.47379584,\n",
       "        0.48197459,  0.49015335,  0.4983321 ,  0.50651086,  0.51468961,\n",
       "        0.52286837,  0.53104712,  0.53922587,  0.54740463,  0.55558338,\n",
       "        0.56376214,  0.57194089,  0.58011965,  0.5882984 ,  0.59647716])"
      ]
     },
     "execution_count": 108,
     "metadata": {},
     "output_type": "execute_result"
    }
   ],
   "source": [
    "tcagrs = np.linspace(summary.CAGR.min(), summary.CAGR.max(), 100)\n",
    "tcagrs # evenly spaced target returns between min and max"
   ]
  },
  {
   "cell_type": "code",
   "execution_count": 109,
   "id": "b633c861",
   "metadata": {},
   "outputs": [],
   "source": [
    "# portfolio return == tcagr\n",
    "cons = ({\"type\": \"eq\", \"fun\": lambda x: port_ret(x) - tcagr},\n",
    "       {\"type\": \"eq\", \"fun\": lambda x: np.sum(x) - 1})"
   ]
  },
  {
   "cell_type": "code",
   "execution_count": 110,
   "id": "1359cee6",
   "metadata": {},
   "outputs": [
    {
     "data": {
      "text/plain": [
       "((0, 1), (0, 1), (0, 1), (0, 1), (0, 1), (0, 1), (0, 1), (0, 1))"
      ]
     },
     "execution_count": 110,
     "metadata": {},
     "output_type": "execute_result"
    }
   ],
   "source": [
    "bnds =  tuple((0, 1) for x in range(noa))\n",
    "bnds"
   ]
  },
  {
   "cell_type": "code",
   "execution_count": 111,
   "id": "a3104d69",
   "metadata": {},
   "outputs": [],
   "source": [
    "vols = []"
   ]
  },
  {
   "cell_type": "code",
   "execution_count": 112,
   "id": "eb2bdb9d",
   "metadata": {},
   "outputs": [],
   "source": [
    "#for each target return, find the portfolio with the lowest volatility\n",
    "for tcagr in tcagrs:\n",
    "    res = sco.minimize(port_vol, eweigths, method = \"SLSQP\", bounds = bnds, constraints = cons)\n",
    "    vols.append(res[\"fun\"])\n",
    "vols = np.array(vols)"
   ]
  },
  {
   "cell_type": "code",
   "execution_count": 113,
   "id": "03ad5330",
   "metadata": {},
   "outputs": [
    {
     "data": {
      "text/plain": [
       "array([0.43213508, 0.42197579, 0.41195562, 0.40209141, 0.39240265,\n",
       "       0.38291184, 0.37364514, 0.3645387 , 0.35550815, 0.34656013,\n",
       "       0.33770132, 0.32893982, 0.32028487, 0.31174704, 0.30333841,\n",
       "       0.2950727 , 0.28696553, 0.27903465, 0.27130013, 0.26378465,\n",
       "       0.25651377, 0.24951616, 0.24282382, 0.23647227, 0.23050067,\n",
       "       0.2249521 , 0.21987192, 0.21531102, 0.21131839, 0.20794993,\n",
       "       0.20522318, 0.20302138, 0.20135241, 0.20020337, 0.19930996,\n",
       "       0.19861154, 0.19809443, 0.19775684, 0.19759791, 0.19761702,\n",
       "       0.1977934 , 0.19810356, 0.19854475, 0.19911542, 0.1998155 ,\n",
       "       0.20067366, 0.20169919, 0.20288559, 0.20423363, 0.20573757,\n",
       "       0.2073929 , 0.20920609, 0.21114043, 0.21322339, 0.21544195,\n",
       "       0.21783341, 0.2204043 , 0.22314838, 0.22606022, 0.22913398,\n",
       "       0.23238454, 0.23587698, 0.23960945, 0.24357489, 0.24776709,\n",
       "       0.25217883, 0.25680376, 0.26163527, 0.26666782, 0.27189614,\n",
       "       0.27731383, 0.28291674, 0.28870056, 0.29466057, 0.30079338,\n",
       "       0.30709578, 0.31356539, 0.32019979, 0.32699805, 0.33395747,\n",
       "       0.34107797, 0.3483593 , 0.35588892, 0.36390089, 0.37242767,\n",
       "       0.3814951 , 0.39113486, 0.401386  , 0.41229702, 0.42392882,\n",
       "       0.43635878, 0.44968692, 0.46404435, 0.47961391, 0.49664279,\n",
       "       0.51550395, 0.53678934, 0.56153368, 0.59191356, 0.63607453])"
      ]
     },
     "execution_count": 113,
     "metadata": {},
     "output_type": "execute_result"
    }
   ],
   "source": [
    "vols"
   ]
  },
  {
   "cell_type": "code",
   "execution_count": 114,
   "id": "39ad63eb",
   "metadata": {},
   "outputs": [
    {
     "data": {
      "image/png": "[encoded data removed]",
      "text/plain": [
       "<Figure size 1500x800 with 2 Axes>"
      ]
     },
     "metadata": {},
     "output_type": "display_data"
    }
   ],
   "source": [
    "plt.figure(figsize = (15, 8))\n",
    "plt.scatter(port_summary.loc[:, \"ann. Risk\"], port_summary.loc[:, \"CAGR\"], s= 20, \n",
    "            c = port_summary.loc[:, \"RaR\"], cmap = \"coolwarm\", vmin = vmin, vmax = vmax, alpha = 0.66)\n",
    "plt.colorbar()\n",
    "plt.scatter(summary.loc[:, \"ann. Risk\"], summary.loc[:, \"CAGR\"],s= 50, marker = \"D\", c = \"black\")\n",
    "for i in summary.index:\n",
    "    plt.annotate(i, xy=(summary.loc[i, \"ann. Risk\"]+0.01, summary.loc[i, \"CAGR\"]+0.01), size = 15)\n",
    "plt.plot(vols, tcagrs) # efficient frontier\n",
    "plt.xlabel(\"ann. Risk (std)\", fontsize = 15)\n",
    "plt.ylabel(\"CAGR\", fontsize = 15)\n",
    "plt.title(\"The Efficient Frontier\", fontsize = 20)\n",
    "plt.show()"
   ]
  },
  {
   "cell_type": "markdown",
   "metadata": {},
   "source": [
    "---"
   ]
  },
  {
   "cell_type": "markdown",
   "id": "ea2d88d8",
   "metadata": {},
   "source": [
    "# __Comparison: daily Rebalancing vs. no Rebalancing__"
   ]
  },
  {
   "cell_type": "markdown",
   "id": "dbde066c",
   "metadata": {},
   "source": [
    "__Efficient Frontier without rebalancing:__"
   ]
  },
  {
   "cell_type": "code",
   "execution_count": 115,
   "id": "9151c548",
   "metadata": {},
   "outputs": [],
   "source": [
    "cagr_no = np.array([-0.21321957, -0.20504081, -0.19686206, -0.18868331, -0.18050455,\n",
    "       -0.1723258 , -0.16414704, -0.15596829, -0.14778953, -0.13961078,\n",
    "       -0.13143202, -0.12325327, -0.11507451, -0.10689576, -0.098717  ,\n",
    "       -0.09053825, -0.08235949, -0.07418074, -0.06600198, -0.05782323,\n",
    "       -0.04964447, -0.04146572, -0.03328696, -0.02510821, -0.01692945,\n",
    "       -0.0087507 , -0.00057194,  0.00760681,  0.01578557,  0.02396432,\n",
    "        0.03214308,  0.04032183,  0.04850058,  0.05667934,  0.06485809,\n",
    "        0.07303685,  0.0812156 ,  0.08939436,  0.09757311,  0.10575187,\n",
    "        0.11393062,  0.12210938,  0.13028813,  0.13846689,  0.14664564,\n",
    "        0.1548244 ,  0.16300315,  0.17118191,  0.17936066,  0.18753942,\n",
    "        0.19571817,  0.20389693,  0.21207568,  0.22025444,  0.22843319,\n",
    "        0.23661195,  0.2447907 ,  0.25296946,  0.26114821,  0.26932697,\n",
    "        0.27750572,  0.28568448,  0.29386323,  0.30204198,  0.31022074,\n",
    "        0.31839949,  0.32657825,  0.334757  ,  0.34293576,  0.35111451,\n",
    "        0.35929327,  0.36747202,  0.37565078,  0.38382953,  0.39200829,\n",
    "        0.40018704,  0.4083658 ,  0.41654455,  0.42472331,  0.43290206,\n",
    "        0.44108082,  0.44925957,  0.45743833,  0.46561708,  0.47379584,\n",
    "        0.48197459,  0.49015335,  0.4983321 ,  0.50651086,  0.51468961,\n",
    "        0.52286837,  0.53104712,  0.53922587,  0.54740463,  0.55558338,\n",
    "        0.56376214,  0.57194089,  0.58011965,  0.5882984 ,  0.59647716])"
   ]
  },
  {
   "cell_type": "code",
   "execution_count": 116,
   "id": "97e2f239",
   "metadata": {},
   "outputs": [],
   "source": [
    "vols_no = np.array([0.43230733, 0.4082562 , 0.38776821, 0.36971057, 0.35298005,\n",
    "       0.33746244, 0.32307554, 0.30974812, 0.29741952, 0.28603623,\n",
    "       0.27555009, 0.26591947, 0.25710661, 0.2490747 , 0.24178985,\n",
    "       0.23521878, 0.22932929, 0.22408966, 0.2194684 , 0.21543409,\n",
    "       0.2119554 , 0.20898808, 0.2064256 , 0.20423296, 0.20239196,\n",
    "       0.20088063, 0.19967245, 0.19867169, 0.19785033, 0.19719909,\n",
    "       0.19670841, 0.19636225, 0.19615204, 0.19607055, 0.19611186,\n",
    "       0.19626816, 0.19653368, 0.19690195, 0.19736735, 0.19792419,\n",
    "       0.19867678, 0.19968965, 0.20093869, 0.20241949, 0.20410759,\n",
    "       0.20598642, 0.20804255, 0.21026158, 0.2126309 , 0.21513937,\n",
    "       0.21779366, 0.22060839, 0.22356945, 0.22680792, 0.23038234,\n",
    "       0.23426203, 0.23842321, 0.24284222, 0.2474965 , 0.25236585,\n",
    "       0.25743184, 0.2626779 , 0.26808938, 0.273651  , 0.27935259,\n",
    "       0.28518299, 0.29113258, 0.29719306, 0.30335721, 0.30961907,\n",
    "       0.31597335, 0.32252773, 0.32942379, 0.33662063, 0.34408425,\n",
    "       0.3517883 , 0.35971312, 0.36784493, 0.37617501, 0.3846992 ,\n",
    "       0.39341798, 0.40233485, 0.41145694, 0.42079451, 0.4303609 ,\n",
    "       0.44017233, 0.45024792, 0.46060983, 0.47132985, 0.48248702,\n",
    "       0.4941349 , 0.50633574, 0.51916219, 0.53269957, 0.54704879,\n",
    "       0.56233037, 0.57869002, 0.59630658, 0.61540303, 0.63626358])"
   ]
  },
  {
   "cell_type": "code",
   "execution_count": 117,
   "id": "01d632bc",
   "metadata": {
    "scrolled": false
   },
   "outputs": [
    {
     "data": {
      "image/png": "[encoded data removed]",
      "text/plain": [
       "<Figure size 1500x800 with 2 Axes>"
      ]
     },
     "metadata": {},
     "output_type": "display_data"
    }
   ],
   "source": [
    "plt.figure(figsize = (15, 8))\n",
    "plt.scatter(port_summary.loc[:, \"ann. Risk\"], port_summary.loc[:, \"CAGR\"], s= 20, \n",
    "            c = port_summary.loc[:, \"RaR\"], cmap = \"coolwarm\", vmin = vmin, vmax = vmax, alpha = 0.66)\n",
    "plt.colorbar()\n",
    "plt.scatter(summary.loc[:, \"ann. Risk\"], summary.loc[:, \"CAGR\"],s= 50, marker = \"D\", c = \"black\")\n",
    "for i in summary.index:\n",
    "    plt.annotate(i, xy=(summary.loc[i, \"ann. Risk\"]+0.01, summary.loc[i, \"CAGR\"]+0.01), size = 15)\n",
    "plt.plot(vols, tcagrs, label = \"EF daily rebalancing\") # efficient frontier with rebal.\n",
    "plt.plot(vols_no, cagr_no, label = \"EF no rebalancing\") # efficient frontier without rebal.\n",
    "plt.xlabel(\"ann. Risk (std)\", fontsize = 15)\n",
    "plt.ylabel(\"CAGR\", fontsize = 15)\n",
    "plt.legend(fontsize = 12)\n",
    "plt.title(\"The Effect of Rebalancing\", fontsize = 20)\n",
    "plt.show()"
   ]
  },
  {
   "cell_type": "markdown",
   "id": "f1f1834e",
   "metadata": {},
   "source": [
    "__Upward Shift__ of Efficient Frontier:\n",
    "- equal risk & more return or\n",
    "- equal return & less risk"
   ]
  },
  {
   "cell_type": "markdown",
   "id": "b25fc430",
   "metadata": {},
   "source": [
    "Two general effects of rebalancing: <br>\n",
    "- maintain __higher degree of diversification__ / restoring weights (always positive)\n",
    "- __contrarian trading__ / sell winners buy losers (can be positive or negative)"
   ]
  },
  {
   "cell_type": "markdown",
   "metadata": {},
   "source": [
    "---"
   ]
  },
  {
   "cell_type": "markdown",
   "id": "6e71c5cc",
   "metadata": {},
   "source": [
    "# Approximation of Rebalancing Costs"
   ]
  },
  {
   "cell_type": "markdown",
   "id": "97af1df4",
   "metadata": {},
   "source": [
    "Can we really benefit from (daily) Rebalancing? <br>\n",
    "Yes, but only if:\n",
    "- __small changes__ in portfolio weights are possible (large portfolio or fractional trading)\n",
    "- __Rebalancing Costs are lower__ than Rebalancing Benefits"
   ]
  },
  {
   "cell_type": "code",
   "execution_count": 118,
   "id": "e3ce959d",
   "metadata": {},
   "outputs": [
    {
     "data": {
      "text/plain": [
       "array([0.15243548, 0.06262702, 0.04965074, 0.12066568, 0.15746942,\n",
       "       0.09260487, 0.21465883, 0.14988797])"
      ]
     },
     "execution_count": 118,
     "metadata": {},
     "output_type": "execute_result"
    }
   ],
   "source": [
    "w1 # target weights to be reinstated at the end of each day "
   ]
  },
  {
   "cell_type": "code",
   "execution_count": 119,
   "id": "730e6d88",
   "metadata": {},
   "outputs": [
    {
     "data": {
      "text/html": [
       "<div>\n",
       "<style scoped>\n",
       "    .dataframe tbody tr th:only-of-type {\n",
       "        vertical-align: middle;\n",
       "    }\n",
       "\n",
       "    .dataframe tbody tr th {\n",
       "        vertical-align: top;\n",
       "    }\n",
       "\n",
       "    .dataframe thead th {\n",
       "        text-align: right;\n",
       "    }\n",
       "</style>\n",
       "<table border=\"1\" class=\"dataframe\">\n",
       "  <thead>\n",
       "    <tr style=\"text-align: right;\">\n",
       "      <th></th>\n",
       "      <th>AAPL</th>\n",
       "      <th>BA</th>\n",
       "      <th>DIS</th>\n",
       "      <th>GE</th>\n",
       "      <th>JPM</th>\n",
       "      <th>MSFT</th>\n",
       "      <th>TSLA</th>\n",
       "      <th>WMT</th>\n",
       "    </tr>\n",
       "    <tr>\n",
       "      <th>Date</th>\n",
       "      <th></th>\n",
       "      <th></th>\n",
       "      <th></th>\n",
       "      <th></th>\n",
       "      <th></th>\n",
       "      <th></th>\n",
       "      <th></th>\n",
       "      <th></th>\n",
       "    </tr>\n",
       "  </thead>\n",
       "  <tbody>\n",
       "    <tr>\n",
       "      <th>2017-07-05</th>\n",
       "      <td>0.0041</td>\n",
       "      <td>0.0162</td>\n",
       "      <td>-0.0170</td>\n",
       "      <td>-0.0036</td>\n",
       "      <td>0.0100</td>\n",
       "      <td>0.0133</td>\n",
       "      <td>-0.0724</td>\n",
       "      <td>-0.0005</td>\n",
       "    </tr>\n",
       "    <tr>\n",
       "      <th>2017-07-06</th>\n",
       "      <td>-0.0094</td>\n",
       "      <td>-0.0016</td>\n",
       "      <td>-0.0216</td>\n",
       "      <td>-0.0380</td>\n",
       "      <td>-0.0032</td>\n",
       "      <td>-0.0074</td>\n",
       "      <td>-0.0558</td>\n",
       "      <td>0.0020</td>\n",
       "    </tr>\n",
       "    <tr>\n",
       "      <th>2017-07-07</th>\n",
       "      <td>0.0102</td>\n",
       "      <td>0.0044</td>\n",
       "      <td>-0.0003</td>\n",
       "      <td>-0.0061</td>\n",
       "      <td>0.0050</td>\n",
       "      <td>0.0130</td>\n",
       "      <td>0.0142</td>\n",
       "      <td>-0.0019</td>\n",
       "    </tr>\n",
       "    <tr>\n",
       "      <th>2017-07-10</th>\n",
       "      <td>0.0061</td>\n",
       "      <td>0.0079</td>\n",
       "      <td>0.0026</td>\n",
       "      <td>-0.0042</td>\n",
       "      <td>-0.0070</td>\n",
       "      <td>0.0075</td>\n",
       "      <td>0.0090</td>\n",
       "      <td>-0.0279</td>\n",
       "    </tr>\n",
       "    <tr>\n",
       "      <th>2017-07-11</th>\n",
       "      <td>0.0032</td>\n",
       "      <td>0.0113</td>\n",
       "      <td>0.0024</td>\n",
       "      <td>0.0131</td>\n",
       "      <td>-0.0039</td>\n",
       "      <td>0.0001</td>\n",
       "      <td>0.0353</td>\n",
       "      <td>0.0033</td>\n",
       "    </tr>\n",
       "    <tr>\n",
       "      <th>...</th>\n",
       "      <td>...</td>\n",
       "      <td>...</td>\n",
       "      <td>...</td>\n",
       "      <td>...</td>\n",
       "      <td>...</td>\n",
       "      <td>...</td>\n",
       "      <td>...</td>\n",
       "      <td>...</td>\n",
       "    </tr>\n",
       "    <tr>\n",
       "      <th>2022-06-24</th>\n",
       "      <td>0.0245</td>\n",
       "      <td>0.0564</td>\n",
       "      <td>0.0369</td>\n",
       "      <td>0.0470</td>\n",
       "      <td>0.0298</td>\n",
       "      <td>0.0341</td>\n",
       "      <td>0.0452</td>\n",
       "      <td>0.0008</td>\n",
       "    </tr>\n",
       "    <tr>\n",
       "      <th>2022-06-27</th>\n",
       "      <td>0.0000</td>\n",
       "      <td>-0.0199</td>\n",
       "      <td>-0.0120</td>\n",
       "      <td>-0.0055</td>\n",
       "      <td>-0.0080</td>\n",
       "      <td>-0.0105</td>\n",
       "      <td>-0.0032</td>\n",
       "      <td>0.0032</td>\n",
       "    </tr>\n",
       "    <tr>\n",
       "      <th>2022-06-28</th>\n",
       "      <td>-0.0298</td>\n",
       "      <td>-0.0001</td>\n",
       "      <td>-0.0071</td>\n",
       "      <td>-0.0124</td>\n",
       "      <td>-0.0048</td>\n",
       "      <td>-0.0317</td>\n",
       "      <td>-0.0500</td>\n",
       "      <td>-0.0141</td>\n",
       "    </tr>\n",
       "    <tr>\n",
       "      <th>2022-06-29</th>\n",
       "      <td>0.0130</td>\n",
       "      <td>-0.0018</td>\n",
       "      <td>-0.0028</td>\n",
       "      <td>-0.0332</td>\n",
       "      <td>-0.0045</td>\n",
       "      <td>0.0147</td>\n",
       "      <td>-0.0179</td>\n",
       "      <td>-0.0037</td>\n",
       "    </tr>\n",
       "    <tr>\n",
       "      <th>2022-06-30</th>\n",
       "      <td>-0.0180</td>\n",
       "      <td>-0.0125</td>\n",
       "      <td>-0.0131</td>\n",
       "      <td>-0.0003</td>\n",
       "      <td>-0.0233</td>\n",
       "      <td>-0.0132</td>\n",
       "      <td>-0.0176</td>\n",
       "      <td>-0.0028</td>\n",
       "    </tr>\n",
       "  </tbody>\n",
       "</table>\n",
       "<p>1257 rows × 8 columns</p>\n",
       "</div>"
      ],
      "text/plain": [
       "              AAPL      BA     DIS      GE     JPM    MSFT    TSLA     WMT\n",
       "Date                                                                      \n",
       "2017-07-05  0.0041  0.0162 -0.0170 -0.0036  0.0100  0.0133 -0.0724 -0.0005\n",
       "2017-07-06 -0.0094 -0.0016 -0.0216 -0.0380 -0.0032 -0.0074 -0.0558  0.0020\n",
       "2017-07-07  0.0102  0.0044 -0.0003 -0.0061  0.0050  0.0130  0.0142 -0.0019\n",
       "2017-07-10  0.0061  0.0079  0.0026 -0.0042 -0.0070  0.0075  0.0090 -0.0279\n",
       "2017-07-11  0.0032  0.0113  0.0024  0.0131 -0.0039  0.0001  0.0353  0.0033\n",
       "...            ...     ...     ...     ...     ...     ...     ...     ...\n",
       "2022-06-24  0.0245  0.0564  0.0369  0.0470  0.0298  0.0341  0.0452  0.0008\n",
       "2022-06-27  0.0000 -0.0199 -0.0120 -0.0055 -0.0080 -0.0105 -0.0032  0.0032\n",
       "2022-06-28 -0.0298 -0.0001 -0.0071 -0.0124 -0.0048 -0.0317 -0.0500 -0.0141\n",
       "2022-06-29  0.0130 -0.0018 -0.0028 -0.0332 -0.0045  0.0147 -0.0179 -0.0037\n",
       "2022-06-30 -0.0180 -0.0125 -0.0131 -0.0003 -0.0233 -0.0132 -0.0176 -0.0028\n",
       "\n",
       "[1257 rows x 8 columns]"
      ]
     },
     "execution_count": 119,
     "metadata": {},
     "output_type": "execute_result"
    }
   ],
   "source": [
    "returns"
   ]
  },
  {
   "cell_type": "code",
   "execution_count": 120,
   "id": "98c7a8f5",
   "metadata": {},
   "outputs": [
    {
     "data": {
      "text/plain": [
       "array([[0.15306221, 0.06364247, 0.04880521, ..., 0.09384105, 0.19911734,\n",
       "        0.14980841],\n",
       "       [0.15099671, 0.06252461, 0.04857904, ..., 0.09192119, 0.20267537,\n",
       "        0.15018647],\n",
       "       [0.15398407, 0.06290366, 0.04963633, ..., 0.09380682, 0.21771018,\n",
       "        0.14960992],\n",
       "       ...,\n",
       "       [0.14789448, 0.06261798, 0.04929613, ..., 0.08966475, 0.20391654,\n",
       "        0.14777466],\n",
       "       [0.15442077, 0.06251413, 0.04951098, ..., 0.09396968, 0.21080846,\n",
       "        0.14933677],\n",
       "       [0.14968742, 0.06184446, 0.04900188, ..., 0.09138441, 0.21088529,\n",
       "        0.14946998]])"
      ]
     },
     "execution_count": 120,
     "metadata": {},
     "output_type": "execute_result"
    }
   ],
   "source": [
    "matrix = returns.add(1).mul(w1).values\n",
    "matrix"
   ]
  },
  {
   "cell_type": "code",
   "execution_count": 121,
   "id": "cf47d042",
   "metadata": {},
   "outputs": [
    {
     "data": {
      "text/plain": [
       "array([[0.15499168, 0.06444473, 0.04942043, ..., 0.09502399, 0.20162737,\n",
       "        0.15169686],\n",
       "       [0.15408994, 0.06380545, 0.0495742 , ..., 0.09380423, 0.20682726,\n",
       "        0.1532631 ],\n",
       "       [0.15308929, 0.06253813, 0.0493479 , ..., 0.09326172, 0.21644509,\n",
       "        0.14874055],\n",
       "       ...,\n",
       "       [0.15136984, 0.06408944, 0.05045453, ..., 0.09177177, 0.20870835,\n",
       "        0.1512472 ],\n",
       "       [0.15535637, 0.06289289, 0.04981096, ..., 0.09453902, 0.2120857 ,\n",
       "        0.15024157],\n",
       "       [0.15170559, 0.06267828, 0.04966255, ..., 0.0926165 , 0.21372856,\n",
       "        0.15148521]])"
      ]
     },
     "execution_count": 121,
     "metadata": {},
     "output_type": "execute_result"
    }
   ],
   "source": [
    "weights = matrix / matrix.sum(axis = 1, keepdims= True)\n",
    "\n",
    "weights # weights at the end of each day (before rebalancing)"
   ]
  },
  {
   "cell_type": "code",
   "execution_count": 122,
   "id": "3fcdf434",
   "metadata": {},
   "outputs": [
    {
     "data": {
      "text/plain": [
       "(1257, 8)"
      ]
     },
     "execution_count": 122,
     "metadata": {},
     "output_type": "execute_result"
    }
   ],
   "source": [
    "weights.shape"
   ]
  },
  {
   "cell_type": "code",
   "execution_count": 123,
   "id": "b97df44e",
   "metadata": {},
   "outputs": [
    {
     "data": {
      "text/plain": [
       "array([1., 1., 1., ..., 1., 1., 1.])"
      ]
     },
     "execution_count": 123,
     "metadata": {},
     "output_type": "execute_result"
    }
   ],
   "source": [
    "weights.sum(axis = 1)"
   ]
  },
  {
   "cell_type": "code",
   "execution_count": 124,
   "id": "7b560c42",
   "metadata": {},
   "outputs": [
    {
     "data": {
      "text/plain": [
       "array([[ 0.0025562 ,  0.00181772, -0.00023031, ...,  0.00241912,\n",
       "        -0.01303146,  0.00180889],\n",
       "       [ 0.00165446,  0.00117843, -0.00007654, ...,  0.00119936,\n",
       "        -0.00783157,  0.00337514],\n",
       "       [ 0.00065381, -0.00008888, -0.00030284, ...,  0.00065686,\n",
       "         0.00178626, -0.00114741],\n",
       "       ...,\n",
       "       [-0.00106564,  0.00146242,  0.00080379, ..., -0.00083309,\n",
       "        -0.00595048,  0.00135923],\n",
       "       [ 0.00292089,  0.00026588,  0.00016022, ...,  0.00193415,\n",
       "        -0.00257313,  0.0003536 ],\n",
       "       [-0.00072989,  0.00005127,  0.00001181, ...,  0.00001163,\n",
       "        -0.00093027,  0.00159725]])"
      ]
     },
     "execution_count": 124,
     "metadata": {},
     "output_type": "execute_result"
    }
   ],
   "source": [
    "delta_weights = weights - w1\n",
    "delta_weights"
   ]
  },
  {
   "cell_type": "code",
   "execution_count": 125,
   "id": "f6b328ee",
   "metadata": {},
   "outputs": [
    {
     "data": {
      "text/plain": [
       "array([[0.0025562 , 0.00181772, 0.00023031, ..., 0.00241912, 0.01303146,\n",
       "        0.00180889],\n",
       "       [0.00165446, 0.00117843, 0.00007654, ..., 0.00119936, 0.00783157,\n",
       "        0.00337514],\n",
       "       [0.00065381, 0.00008888, 0.00030284, ..., 0.00065686, 0.00178626,\n",
       "        0.00114741],\n",
       "       ...,\n",
       "       [0.00106564, 0.00146242, 0.00080379, ..., 0.00083309, 0.00595048,\n",
       "        0.00135923],\n",
       "       [0.00292089, 0.00026588, 0.00016022, ..., 0.00193415, 0.00257313,\n",
       "        0.0003536 ],\n",
       "       [0.00072989, 0.00005127, 0.00001181, ..., 0.00001163, 0.00093027,\n",
       "        0.00159725]])"
      ]
     },
     "execution_count": 125,
     "metadata": {},
     "output_type": "execute_result"
    }
   ],
   "source": [
    "np.abs(delta_weights)"
   ]
  },
  {
   "cell_type": "code",
   "execution_count": 126,
   "id": "bea52b5d",
   "metadata": {
    "scrolled": false
   },
   "outputs": [
    {
     "data": {
      "text/html": [
       "<div>\n",
       "<style scoped>\n",
       "    .dataframe tbody tr th:only-of-type {\n",
       "        vertical-align: middle;\n",
       "    }\n",
       "\n",
       "    .dataframe tbody tr th {\n",
       "        vertical-align: top;\n",
       "    }\n",
       "\n",
       "    .dataframe thead th {\n",
       "        text-align: right;\n",
       "    }\n",
       "</style>\n",
       "<table border=\"1\" class=\"dataframe\">\n",
       "  <thead>\n",
       "    <tr style=\"text-align: right;\">\n",
       "      <th></th>\n",
       "      <th>0</th>\n",
       "      <th>1</th>\n",
       "      <th>2</th>\n",
       "      <th>3</th>\n",
       "      <th>4</th>\n",
       "      <th>5</th>\n",
       "      <th>6</th>\n",
       "      <th>7</th>\n",
       "    </tr>\n",
       "  </thead>\n",
       "  <tbody>\n",
       "    <tr>\n",
       "      <th>0</th>\n",
       "      <td>0.0026</td>\n",
       "      <td>0.0018</td>\n",
       "      <td>0.0002</td>\n",
       "      <td>0.0011</td>\n",
       "      <td>0.0036</td>\n",
       "      <td>0.0024</td>\n",
       "      <td>0.0130</td>\n",
       "      <td>0.0018</td>\n",
       "    </tr>\n",
       "    <tr>\n",
       "      <th>1</th>\n",
       "      <td>0.0017</td>\n",
       "      <td>0.0012</td>\n",
       "      <td>0.0001</td>\n",
       "      <td>0.0022</td>\n",
       "      <td>0.0027</td>\n",
       "      <td>0.0012</td>\n",
       "      <td>0.0078</td>\n",
       "      <td>0.0034</td>\n",
       "    </tr>\n",
       "    <tr>\n",
       "      <th>2</th>\n",
       "      <td>0.0007</td>\n",
       "      <td>0.0001</td>\n",
       "      <td>0.0003</td>\n",
       "      <td>0.0014</td>\n",
       "      <td>0.0001</td>\n",
       "      <td>0.0007</td>\n",
       "      <td>0.0018</td>\n",
       "      <td>0.0011</td>\n",
       "    </tr>\n",
       "    <tr>\n",
       "      <th>3</th>\n",
       "      <td>0.0012</td>\n",
       "      <td>0.0006</td>\n",
       "      <td>0.0002</td>\n",
       "      <td>0.0003</td>\n",
       "      <td>0.0009</td>\n",
       "      <td>0.0008</td>\n",
       "      <td>0.0023</td>\n",
       "      <td>0.0039</td>\n",
       "    </tr>\n",
       "    <tr>\n",
       "      <th>4</th>\n",
       "      <td>0.0011</td>\n",
       "      <td>0.0001</td>\n",
       "      <td>0.0004</td>\n",
       "      <td>0.0003</td>\n",
       "      <td>0.0022</td>\n",
       "      <td>0.0009</td>\n",
       "      <td>0.0053</td>\n",
       "      <td>0.0011</td>\n",
       "    </tr>\n",
       "    <tr>\n",
       "      <th>...</th>\n",
       "      <td>...</td>\n",
       "      <td>...</td>\n",
       "      <td>...</td>\n",
       "      <td>...</td>\n",
       "      <td>...</td>\n",
       "      <td>...</td>\n",
       "      <td>...</td>\n",
       "      <td>...</td>\n",
       "    </tr>\n",
       "    <tr>\n",
       "      <th>1252</th>\n",
       "      <td>0.0012</td>\n",
       "      <td>0.0015</td>\n",
       "      <td>0.0002</td>\n",
       "      <td>0.0017</td>\n",
       "      <td>0.0004</td>\n",
       "      <td>0.0002</td>\n",
       "      <td>0.0027</td>\n",
       "      <td>0.0046</td>\n",
       "    </tr>\n",
       "    <tr>\n",
       "      <th>1253</th>\n",
       "      <td>0.0008</td>\n",
       "      <td>0.0009</td>\n",
       "      <td>0.0004</td>\n",
       "      <td>0.0001</td>\n",
       "      <td>0.0005</td>\n",
       "      <td>0.0005</td>\n",
       "      <td>0.0004</td>\n",
       "      <td>0.0012</td>\n",
       "    </tr>\n",
       "    <tr>\n",
       "      <th>1254</th>\n",
       "      <td>0.0011</td>\n",
       "      <td>0.0015</td>\n",
       "      <td>0.0008</td>\n",
       "      <td>0.0013</td>\n",
       "      <td>0.0029</td>\n",
       "      <td>0.0008</td>\n",
       "      <td>0.0060</td>\n",
       "      <td>0.0014</td>\n",
       "    </tr>\n",
       "    <tr>\n",
       "      <th>1255</th>\n",
       "      <td>0.0029</td>\n",
       "      <td>0.0003</td>\n",
       "      <td>0.0002</td>\n",
       "      <td>0.0033</td>\n",
       "      <td>0.0002</td>\n",
       "      <td>0.0019</td>\n",
       "      <td>0.0026</td>\n",
       "      <td>0.0004</td>\n",
       "    </tr>\n",
       "    <tr>\n",
       "      <th>1256</th>\n",
       "      <td>0.0007</td>\n",
       "      <td>0.0001</td>\n",
       "      <td>0.0000</td>\n",
       "      <td>0.0016</td>\n",
       "      <td>0.0016</td>\n",
       "      <td>0.0000</td>\n",
       "      <td>0.0009</td>\n",
       "      <td>0.0016</td>\n",
       "    </tr>\n",
       "  </tbody>\n",
       "</table>\n",
       "<p>1257 rows × 8 columns</p>\n",
       "</div>"
      ],
      "text/plain": [
       "          0      1      2      3      4      5      6      7\n",
       "0    0.0026 0.0018 0.0002 0.0011 0.0036 0.0024 0.0130 0.0018\n",
       "1    0.0017 0.0012 0.0001 0.0022 0.0027 0.0012 0.0078 0.0034\n",
       "2    0.0007 0.0001 0.0003 0.0014 0.0001 0.0007 0.0018 0.0011\n",
       "3    0.0012 0.0006 0.0002 0.0003 0.0009 0.0008 0.0023 0.0039\n",
       "4    0.0011 0.0001 0.0004 0.0003 0.0022 0.0009 0.0053 0.0011\n",
       "...     ...    ...    ...    ...    ...    ...    ...    ...\n",
       "1252 0.0012 0.0015 0.0002 0.0017 0.0004 0.0002 0.0027 0.0046\n",
       "1253 0.0008 0.0009 0.0004 0.0001 0.0005 0.0005 0.0004 0.0012\n",
       "1254 0.0011 0.0015 0.0008 0.0013 0.0029 0.0008 0.0060 0.0014\n",
       "1255 0.0029 0.0003 0.0002 0.0033 0.0002 0.0019 0.0026 0.0004\n",
       "1256 0.0007 0.0001 0.0000 0.0016 0.0016 0.0000 0.0009 0.0016\n",
       "\n",
       "[1257 rows x 8 columns]"
      ]
     },
     "execution_count": 126,
     "metadata": {},
     "output_type": "execute_result"
    }
   ],
   "source": [
    "df = pd.DataFrame(np.abs(delta_weights))\n",
    "df # deviation of weights"
   ]
  },
  {
   "cell_type": "code",
   "execution_count": 127,
   "id": "66d9425b",
   "metadata": {},
   "outputs": [
    {
     "data": {
      "text/plain": [
       "0.0135629820831283"
      ]
     },
     "execution_count": 127,
     "metadata": {},
     "output_type": "execute_result"
    }
   ],
   "source": [
    "# \n",
    "daily_rebal = df.sum(axis = 1).mean()\n",
    "daily_rebal"
   ]
  },
  {
   "cell_type": "markdown",
   "id": "abfee2ff",
   "metadata": {},
   "source": [
    "__-> on average, approx. 1.5% of total portfolio needs to be rebalanced every day (fractional trading).__"
   ]
  },
  {
   "cell_type": "code",
   "execution_count": 128,
   "id": "78f34e0d",
   "metadata": {},
   "outputs": [
    {
     "data": {
      "text/plain": [
       "0.01"
      ]
     },
     "execution_count": 128,
     "metadata": {},
     "output_type": "execute_result"
    }
   ],
   "source": [
    "# price trading cost \n",
    "ptc = 0.01 # worst case for US Stocks\n",
    "ptc"
   ]
  },
  {
   "cell_type": "code",
   "execution_count": 129,
   "id": "0974866a",
   "metadata": {},
   "outputs": [
    {
     "data": {
      "text/plain": [
       "0.000135629820831283"
      ]
     },
     "execution_count": 129,
     "metadata": {},
     "output_type": "execute_result"
    }
   ],
   "source": [
    "# For rebalancing the weigths each day, the cost is: \n",
    "daily_ptc = daily_rebal * ptc\n",
    "daily_ptc"
   ]
  },
  {
   "cell_type": "code",
   "execution_count": 130,
   "id": "fcec217d",
   "metadata": {},
   "outputs": [
    {
     "data": {
      "text/plain": [
       "Date\n",
       "2017-07-05   -0.0124\n",
       "2017-07-06   -0.0201\n",
       "2017-07-07    0.0058\n",
       "2017-07-10   -0.0016\n",
       "2017-07-11    0.0104\n",
       "               ...  \n",
       "2022-06-24    0.0325\n",
       "2022-06-27   -0.0049\n",
       "2022-06-28   -0.0230\n",
       "2022-06-29   -0.0060\n",
       "2022-06-30   -0.0133\n",
       "Length: 1257, dtype: float64"
      ]
     },
     "execution_count": 130,
     "metadata": {},
     "output_type": "execute_result"
    }
   ],
   "source": [
    "port1"
   ]
  },
  {
   "cell_type": "code",
   "execution_count": 131,
   "id": "75192f14",
   "metadata": {},
   "outputs": [
    {
     "data": {
      "text/plain": [
       "Date\n",
       "2017-07-05   -0.0126\n",
       "2017-07-06   -0.0202\n",
       "2017-07-07    0.0057\n",
       "2017-07-10   -0.0017\n",
       "2017-07-11    0.0102\n",
       "               ...  \n",
       "2022-06-24    0.0323\n",
       "2022-06-27   -0.0051\n",
       "2022-06-28   -0.0231\n",
       "2022-06-29   -0.0062\n",
       "2022-06-30   -0.0134\n",
       "Length: 1257, dtype: float64"
      ]
     },
     "execution_count": 131,
     "metadata": {},
     "output_type": "execute_result"
    }
   ],
   "source": [
    "port1_ac = port1 - daily_ptc\n",
    "port1_ac"
   ]
  },
  {
   "cell_type": "code",
   "execution_count": 132,
   "id": "953dc234",
   "metadata": {},
   "outputs": [
    {
     "data": {
      "text/html": [
       "<div>\n",
       "<style scoped>\n",
       "    .dataframe tbody tr th:only-of-type {\n",
       "        vertical-align: middle;\n",
       "    }\n",
       "\n",
       "    .dataframe tbody tr th {\n",
       "        vertical-align: top;\n",
       "    }\n",
       "\n",
       "    .dataframe thead th {\n",
       "        text-align: right;\n",
       "    }\n",
       "</style>\n",
       "<table border=\"1\" class=\"dataframe\">\n",
       "  <thead>\n",
       "    <tr style=\"text-align: right;\">\n",
       "      <th></th>\n",
       "      <th>ann. Risk</th>\n",
       "      <th>CAGR</th>\n",
       "    </tr>\n",
       "  </thead>\n",
       "  <tbody>\n",
       "    <tr>\n",
       "      <th>0</th>\n",
       "      <td>0.2739</td>\n",
       "      <td>0.2196</td>\n",
       "    </tr>\n",
       "  </tbody>\n",
       "</table>\n",
       "</div>"
      ],
      "text/plain": [
       "   ann. Risk   CAGR\n",
       "0     0.2739 0.2196"
      ]
     },
     "execution_count": 132,
     "metadata": {},
     "output_type": "execute_result"
    }
   ],
   "source": [
    "ann_risk_return(port1.to_frame())"
   ]
  },
  {
   "cell_type": "code",
   "execution_count": 133,
   "id": "ade2ad4a",
   "metadata": {},
   "outputs": [
    {
     "data": {
      "text/html": [
       "<div>\n",
       "<style scoped>\n",
       "    .dataframe tbody tr th:only-of-type {\n",
       "        vertical-align: middle;\n",
       "    }\n",
       "\n",
       "    .dataframe tbody tr th {\n",
       "        vertical-align: top;\n",
       "    }\n",
       "\n",
       "    .dataframe thead th {\n",
       "        text-align: right;\n",
       "    }\n",
       "</style>\n",
       "<table border=\"1\" class=\"dataframe\">\n",
       "  <thead>\n",
       "    <tr style=\"text-align: right;\">\n",
       "      <th></th>\n",
       "      <th>ann. Risk</th>\n",
       "      <th>CAGR</th>\n",
       "    </tr>\n",
       "  </thead>\n",
       "  <tbody>\n",
       "    <tr>\n",
       "      <th>0</th>\n",
       "      <td>0.2739</td>\n",
       "      <td>0.1786</td>\n",
       "    </tr>\n",
       "  </tbody>\n",
       "</table>\n",
       "</div>"
      ],
      "text/plain": [
       "   ann. Risk   CAGR\n",
       "0     0.2739 0.1786"
      ]
     },
     "execution_count": 133,
     "metadata": {},
     "output_type": "execute_result"
    }
   ],
   "source": [
    "ann_risk_return(port1_ac.to_frame())"
   ]
  },
  {
   "cell_type": "markdown",
   "id": "c2a4ca52",
   "metadata": {},
   "source": [
    "-> __Significant Rebalancing Costs__ eat up Rebalancing Benefits <br>\n",
    "-> Solution: Reduce Rebalacing __Frequency to monthly/quarterly__ (reduces costs but also benefits)"
   ]
  }
 ],
 "metadata": {
  "kernelspec": {
   "display_name": "Python 3 (ipykernel)",
   "language": "python",
   "name": "python3"
  },
  "language_info": {
   "codemirror_mode": {
    "name": "ipython",
    "version": 3
   },
   "file_extension": ".py",
   "mimetype": "text/x-python",
   "name": "python",
   "nbconvert_exporter": "python",
   "pygments_lexer": "ipython3",
   "version": "3.11.3"
  }
 },
 "nbformat": 4,
 "nbformat_minor": 5
}
